{
 "cells": [
  {
   "cell_type": "markdown",
   "metadata": {
    "slideshow": {
     "slide_type": "slide"
    }
   },
   "source": [
    "![banner](images/banner.png)\n",
    "\n",
    "### Programar y Reprogramar Recursos para Docentes\n",
    "#### Fecha: 29 Octubre 2021, 13:00 a 15:00\n",
    "####  Sofía Martin, Ariel Ramos, Liliana Hurtado, Sebastián Flores"
   ]
  },
  {
   "cell_type": "markdown",
   "metadata": {
    "slideshow": {
     "slide_type": "slide"
    }
   },
   "source": [
    "### Ideas y Librerías\n",
    "\n",
    "**Agenda:**\n",
    "* ¿Librerías?\n",
    "* Presentaciones interactivas\n",
    "* Gráficos\n",
    "* Ecuaciones\n",
    "* Análisis de datos\n",
    "* Machine Learning y Deep Learning"
   ]
  },
  {
   "cell_type": "markdown",
   "metadata": {
    "slideshow": {
     "slide_type": "slide"
    }
   },
   "source": [
    "### ¿Porqué ocupamos librerías?\n",
    "\n",
    "En Jupyter puedes usar cualquier librería de Python (incluso otros lenguajes).\n",
    "\n",
    "La comunidad de Python continuamente desarrolla librerías para todo tipo de temas.\n",
    "\n",
    "Con toda seguridad, existe una librería de python que puede ayudarte a enseñar **ese** tema (desde algebra a astrofísica). "
   ]
  },
  {
   "cell_type": "markdown",
   "metadata": {
    "slideshow": {
     "slide_type": "slide"
    }
   },
   "source": [
    "### Algunos enlaces a considerar\n",
    "\n",
    "* https://github.com/usantamaria: repositorios de matemática, informática y mecánica.\n",
    "* sebastiandres.xyz, https://github.com/sebastiandres/ "
   ]
  },
  {
   "cell_type": "markdown",
   "metadata": {
    "slideshow": {
     "slide_type": "slide"
    }
   },
   "source": [
    "# Presentaciones Interactivas\n",
    "## ¿Qué librerías usar?\n",
    "\n",
    "Para convertir un jupyter notebook en una presentación interactiva, se usa la librería rise:\n",
    "\n",
    "```bash\n",
    "pip install rise\n",
    "```"
   ]
  },
  {
   "cell_type": "markdown",
   "metadata": {
    "slideshow": {
     "slide_type": "slide"
    }
   },
   "source": [
    "##### 1. ¿Qué es RISE?\n",
    "\n",
    "En lugar de mostrar una larga página web con las celdas, las celdas **se agrupan** en diapositivas. \n",
    "\n",
    "Las distintas celdas pueden ser editadas y ejecutadas *DURANTE LA PRESENTACIÓN*.\n"
   ]
  },
  {
   "cell_type": "markdown",
   "metadata": {
    "slideshow": {
     "slide_type": "slide"
    }
   },
   "source": [
    "# Presentaciones Interactivas\n",
    "##### 1. ¿Qué es RISE?\n",
    "\n",
    "**RISE = Reveal.js IPython Slide Extension**\n",
    "\n",
    "Es una extensión a los jupyter notebooks que permite transformarlos en una presentación interactiva. "
   ]
  },
  {
   "cell_type": "markdown",
   "metadata": {
    "slideshow": {
     "slide_type": "fragment"
    }
   },
   "source": [
    "Con **herramientas** de *markdown*, <font style=\"color:green\">html</font> y latex: $ e^{i \\pi} + 1 = 0 $\n"
   ]
  },
  {
   "cell_type": "markdown",
   "metadata": {
    "slideshow": {
     "slide_type": "fragment"
    }
   },
   "source": [
    "y python:"
   ]
  },
  {
   "cell_type": "code",
   "execution_count": null,
   "metadata": {
    "slideshow": {
     "slide_type": "fragment"
    }
   },
   "outputs": [],
   "source": [
    "print(\"Hola \\U0001F30E\")"
   ]
  },
  {
   "cell_type": "markdown",
   "metadata": {
    "slideshow": {
     "slide_type": "slide"
    }
   },
   "source": [
    "# Presentaciones Interactivas\n",
    "##### 2. ¿Porqué usar RISE?\n"
   ]
  },
  {
   "cell_type": "markdown",
   "metadata": {
    "slideshow": {
     "slide_type": "slide"
    }
   },
   "source": [
    "#### Ventajas\n",
    "\n",
    "* Simplificar la **generación** de material. \n",
    "\n",
    "* Simplificar la **distribución** del material."
   ]
  },
  {
   "cell_type": "markdown",
   "metadata": {
    "slideshow": {
     "slide_type": "fragment"
    }
   },
   "source": [
    "#### Desventajas\n",
    "\n",
    "* RISE funciona sólo con Jupyter Notebook. No funciona con Jupyter Lab ni con Google Colaboratory.\n",
    "* Es completamente interactivo, con todos los riesgos y beneficios que eso representa."
   ]
  },
  {
   "cell_type": "markdown",
   "metadata": {
    "slideshow": {
     "slide_type": "slide"
    }
   },
   "source": [
    "# Presentaciones Interactivas\n",
    "##### 4. ¿Cómo usar RISE?"
   ]
  },
  {
   "cell_type": "markdown",
   "metadata": {
    "slideshow": {
     "slide_type": "slide"
    }
   },
   "source": [
    "Instalar la librería\n",
    "\n",
    "```\n",
    "pip install rise\n",
    "```\n",
    "\n",
    "Permitirá que se agregue el botón de iniciar presentación (destacado en rojo).\n",
    "\n",
    "![](images/install2.png)"
   ]
  },
  {
   "cell_type": "markdown",
   "metadata": {
    "slideshow": {
     "slide_type": "slide"
    }
   },
   "source": [
    "**Paso 2**: \n",
    "\n",
    "En el menú de jupyter notebook, es necesario seleccionar `View/Cell Toolbar/Slideshow` para que permita configurar el tipo de celda para diapositiva. \n",
    "![](images/install3.png)"
   ]
  },
  {
   "cell_type": "markdown",
   "metadata": {
    "slideshow": {
     "slide_type": "slide"
    }
   },
   "source": [
    "![](images/install4.png)"
   ]
  },
  {
   "cell_type": "markdown",
   "metadata": {
    "slideshow": {
     "slide_type": "slide"
    }
   },
   "source": [
    "# Gráficos\n",
    "## Librerías\n",
    "\n",
    "Para mostrar gráficos existe un amplio espectro de opciones. Se diferencian en aspectos de usabilidad y flexibilidad.\n",
    "* matplotlib\n",
    "* seaborn\n",
    "* plotly\n",
    "* altair\n",
    "* bokeh\n",
    "* folium"
   ]
  },
  {
   "cell_type": "markdown",
   "metadata": {
    "slideshow": {
     "slide_type": "slide"
    }
   },
   "source": [
    "## ¿Cuál librería gráfica elegir?\n",
    "Todas las librerías cuentan con buena documentación y ejemplos.\n",
    "Se trata más bien de preferencias personales.\n",
    "\n",
    "Consejo: elegir una y dominarla en profundidad. Saber graficar datos es un superpoder."
   ]
  },
  {
   "cell_type": "markdown",
   "metadata": {
    "slideshow": {
     "slide_type": "slide"
    }
   },
   "source": [
    "### Algunos ejemplos\n",
    "https://matplotlib.org/stable/gallery/index.html"
   ]
  },
  {
   "cell_type": "code",
   "execution_count": null,
   "metadata": {},
   "outputs": [],
   "source": [
    "import numpy as np\n",
    "import matplotlib.pyplot as plt\n",
    "t = np.arange(0.0, 2.0, 0.01)\n",
    "s = np.sin(2*np.pi*t)\n",
    "\n",
    "plt.plot(t, s)\n",
    "plt.title(r'$\\alpha_i > \\beta_i$', fontsize=20)\n",
    "plt.text(1, -0.6, r'$\\sum_{i=0}^\\infty x_i$', fontsize=20)\n",
    "plt.text(0.6, 0.6, r'$\\mathcal{A}\\mathrm{sin}(2 \\omega t)$',\n",
    "         fontsize=20)\n",
    "plt.xlabel('time (s)')\n",
    "plt.ylabel('volts (mV)')\n",
    "plt.show()"
   ]
  },
  {
   "cell_type": "code",
   "execution_count": null,
   "metadata": {},
   "outputs": [],
   "source": [
    "import numpy as np\n",
    "import matplotlib.pyplot as plt\n",
    "from matplotlib.patches import Polygon\n",
    "\n",
    "\n",
    "def f(t):\n",
    "    return np.exp(-t) * np.cos(2*np.pi*t)\n",
    "\n",
    "\n",
    "t1 = np.arange(0.0, 3.0, 0.01)\n",
    "\n",
    "ax1 = plt.subplot(212)\n",
    "ax1.margins(0.05)           # Default margin is 0.05, value 0 means fit\n",
    "ax1.plot(t1, f(t1))\n",
    "\n",
    "ax2 = plt.subplot(221)\n",
    "ax2.margins(2, 2)           # Values >0.0 zoom out\n",
    "ax2.plot(t1, f(t1))\n",
    "ax2.set_title('Zoomed out')\n",
    "\n",
    "ax3 = plt.subplot(222)\n",
    "ax3.margins(x=0, y=-0.25)   # Values in (-0.5, 0.0) zooms in to center\n",
    "ax3.plot(t1, f(t1))\n",
    "ax3.set_title('Zoomed in')\n",
    "\n",
    "plt.show()"
   ]
  },
  {
   "cell_type": "code",
   "execution_count": null,
   "metadata": {},
   "outputs": [],
   "source": [
    "import numpy as np\n",
    "import matplotlib.pyplot as plt\n",
    "\n",
    "# Fixing random state for reproducibility\n",
    "np.random.seed(19680801)\n",
    "\n",
    "# some random data\n",
    "x = np.random.randn(1000)\n",
    "y = np.random.randn(1000)\n",
    "\n",
    "\n",
    "def scatter_hist(x, y, ax, ax_histx, ax_histy):\n",
    "    # no labels\n",
    "    ax_histx.tick_params(axis=\"x\", labelbottom=False)\n",
    "    ax_histy.tick_params(axis=\"y\", labelleft=False)\n",
    "\n",
    "    # the scatter plot:\n",
    "    ax.scatter(x, y)\n",
    "\n",
    "    # now determine nice limits by hand:\n",
    "    binwidth = 0.25\n",
    "    xymax = max(np.max(np.abs(x)), np.max(np.abs(y)))\n",
    "    lim = (int(xymax/binwidth) + 1) * binwidth\n",
    "\n",
    "    bins = np.arange(-lim, lim + binwidth, binwidth)\n",
    "    ax_histx.hist(x, bins=bins)\n",
    "    ax_histy.hist(y, bins=bins, orientation='horizontal')\n",
    "    \n",
    "# definitions for the axes\n",
    "left, width = 0.1, 0.65\n",
    "bottom, height = 0.1, 0.65\n",
    "spacing = 0.005\n",
    "\n",
    "\n",
    "rect_scatter = [left, bottom, width, height]\n",
    "rect_histx = [left, bottom + height + spacing, width, 0.2]\n",
    "rect_histy = [left + width + spacing, bottom, 0.2, height]\n",
    "\n",
    "# start with a square Figure\n",
    "fig = plt.figure(figsize=(8, 8))\n",
    "\n",
    "ax = fig.add_axes(rect_scatter)\n",
    "ax_histx = fig.add_axes(rect_histx, sharex=ax)\n",
    "ax_histy = fig.add_axes(rect_histy, sharey=ax)\n",
    "\n",
    "# use the previously defined function\n",
    "scatter_hist(x, y, ax, ax_histx, ax_histy)\n",
    "\n",
    "plt.show()"
   ]
  },
  {
   "cell_type": "code",
   "execution_count": null,
   "metadata": {},
   "outputs": [],
   "source": [
    "import matplotlib.pyplot as plt\n",
    "import numpy as np\n",
    "\n",
    "# Data to plot.\n",
    "x, y = np.meshgrid(np.arange(7), np.arange(10))\n",
    "z = np.sin(0.5 * x) * np.cos(0.52 * y)\n",
    "\n",
    "# Mask various z values.\n",
    "mask = np.zeros_like(z, dtype=bool)\n",
    "mask[2, 3:5] = True\n",
    "mask[3:5, 4] = True\n",
    "mask[7, 2] = True\n",
    "mask[5, 0] = True\n",
    "mask[0, 6] = True\n",
    "z = np.ma.array(z, mask=mask)\n",
    "\n",
    "corner_masks = [False, True]\n",
    "fig, axs = plt.subplots(ncols=2)\n",
    "for ax, corner_mask in zip(axs, corner_masks):\n",
    "    cs = ax.contourf(x, y, z, corner_mask=corner_mask)\n",
    "    ax.contour(cs, colors='k')\n",
    "    ax.set_title('corner_mask = {0}'.format(corner_mask))\n",
    "\n",
    "    # Plot grid.\n",
    "    ax.grid(c='k', ls='-', alpha=0.3)\n",
    "\n",
    "    # Indicate masked points with red circles.\n",
    "    ax.plot(np.ma.array(x, mask=~mask), y, 'ro')\n",
    "\n",
    "plt.show()"
   ]
  },
  {
   "cell_type": "code",
   "execution_count": null,
   "metadata": {},
   "outputs": [],
   "source": [
    "import numpy as np\n",
    "import matplotlib\n",
    "import matplotlib.pyplot as plt\n",
    "\n",
    "vegetables = [\"cucumber\", \"tomato\", \"lettuce\", \"asparagus\",\n",
    "              \"potato\", \"wheat\", \"barley\"]\n",
    "farmers = [\"Farmer Joe\", \"Upland Bros.\", \"Smith Gardening\",\n",
    "           \"Agrifun\", \"Organiculture\", \"BioGoods Ltd.\", \"Cornylee Corp.\"]\n",
    "\n",
    "harvest = np.array([[0.8, 2.4, 2.5, 3.9, 0.0, 4.0, 0.0],\n",
    "                    [2.4, 0.0, 4.0, 1.0, 2.7, 0.0, 0.0],\n",
    "                    [1.1, 2.4, 0.8, 4.3, 1.9, 4.4, 0.0],\n",
    "                    [0.6, 0.0, 0.3, 0.0, 3.1, 0.0, 0.0],\n",
    "                    [0.7, 1.7, 0.6, 2.6, 2.2, 6.2, 0.0],\n",
    "                    [1.3, 1.2, 0.0, 0.0, 0.0, 3.2, 5.1],\n",
    "                    [0.1, 2.0, 0.0, 1.4, 0.0, 1.9, 6.3]])\n",
    "\n",
    "\n",
    "fig, ax = plt.subplots()\n",
    "im = ax.imshow(harvest)\n",
    "\n",
    "# We want to show all ticks...\n",
    "ax.set_xticks(np.arange(len(farmers)))\n",
    "ax.set_yticks(np.arange(len(vegetables)))\n",
    "# ... and label them with the respective list entries\n",
    "ax.set_xticklabels(farmers)\n",
    "ax.set_yticklabels(vegetables)\n",
    "\n",
    "# Rotate the tick labels and set their alignment.\n",
    "plt.setp(ax.get_xticklabels(), rotation=45, ha=\"right\",\n",
    "         rotation_mode=\"anchor\")\n",
    "\n",
    "# Loop over data dimensions and create text annotations.\n",
    "for i in range(len(vegetables)):\n",
    "    for j in range(len(farmers)):\n",
    "        text = ax.text(j, i, harvest[i, j],\n",
    "                       ha=\"center\", va=\"center\", color=\"w\")\n",
    "\n",
    "ax.set_title(\"Harvest of local farmers (in tons/year)\")\n",
    "fig.tight_layout()\n",
    "plt.show()"
   ]
  },
  {
   "cell_type": "markdown",
   "metadata": {
    "slideshow": {
     "slide_type": "slide"
    }
   },
   "source": [
    "#  Ecuaciones\n",
    "## Librerías\n",
    "* numpy\n",
    "* scipy"
   ]
  },
  {
   "cell_type": "markdown",
   "metadata": {
    "slideshow": {
     "slide_type": "slide"
    }
   },
   "source": [
    "¿Cuál es la diferencia? \n",
    "* **numpy**: Corresponde a lo relacionado con la estructura de los datos (arrays densos y sparse, matrices, constructores especiales, lectura de datos regulares, etc.), pero no las operaciones en sí. Por razones históricas y de compatibilidad, tiene algunos algoritmos, pero en realidad resulta más consistente utilizar los algoritmos de scipy.\n",
    "* **scipy**: Corresponde a la implementación numérica de diversos algoritmos de corte científicos: algebra lineal, estadística, ecuaciones diferenciales ordinarias, interpolacion, integracion, optimización, análisis de señales, entre otros.\n",
    "\n",
    "#### OBSERVACIÓN IMPORTANTE:\n",
    "Las matrices y arrays de numpy deben contener variables con el mismo tipo de datos: sólo enteros, sólo flotantes, sólo complejos, sólo booleanos o sólo strings. La uniformicidad de los datos es lo que permite acelerar los cálculos con implementaciones en C a bajo nivel."
   ]
  },
  {
   "cell_type": "markdown",
   "metadata": {
    "slideshow": {
     "slide_type": "slide"
    }
   },
   "source": [
    "#### 2. Librería Numpy\n",
    "## 2.1 Array vs Matrix\n",
    "\n",
    "Por defecto, la gran mayoria de las funciones de numpy y de scipy asumen que se les pasará un objeto de tipo **array**. \n",
    "\n",
    "Veremos las diferencias entre los objetos array y matrix, pero recuerden utilizar array mientras sea posible."
   ]
  },
  {
   "cell_type": "markdown",
   "metadata": {
    "slideshow": {
     "slide_type": "slide"
    }
   },
   "source": [
    "## Matrix\n",
    "\n",
    "Una matrix de numpy se comporta exactamente como esperaríamos de una matriz:\n",
    "\n",
    "### Pros:\n",
    "* Multiplicación utiliza el signo * como es esperable.\n",
    "* Resulta natural si lo único que haremos es algebra lineal.\n",
    "\n",
    "### Contras:\n",
    "* Todas las matrices deben estar completamente alineadas para poder operar correctamente.\n",
    "* Operaciones elementwise son mas dificiles de definir/acceder.\n",
    "* Están exclusivamente definidas en 2D: un vector fila o un vector columna siguen siendo 2D."
   ]
  },
  {
   "cell_type": "code",
   "execution_count": 3,
   "metadata": {},
   "outputs": [
    {
     "name": "stdout",
     "output_type": "stream",
     "text": [
      "A =\n",
      " [[1 2]\n",
      " [3 4]]\n",
      "B =\n",
      " [[1. 1.]\n",
      " [0. 1.]]\n",
      "x =\n",
      " [[1]\n",
      " [2]]\n",
      "A+B =\n",
      " [[2. 3.]\n",
      " [3. 5.]]\n",
      "A*B =\n",
      " [[1. 3.]\n",
      " [3. 7.]]\n",
      "A*x =\n",
      " [[ 5]\n",
      " [11]]\n",
      "A*A = A^2 =\n",
      " [[ 7 10]\n",
      " [15 22]]\n",
      "x.T*A =\n",
      " [[ 7 10]]\n"
     ]
    }
   ],
   "source": [
    "import numpy as np\n",
    "# Operaciones con np.matrix\n",
    "A = np.matrix([[1,2],[3,4]])\n",
    "B = np.matrix([[1, 1],[0,1]], dtype=float)\n",
    "x = np.matrix([[1],[2]])\n",
    "print(\"A =\\n\", A)\n",
    "print(\"B =\\n\", B)\n",
    "print(\"x =\\n\", x)\n",
    "\n",
    "print(\"A+B =\\n\", A+B)\n",
    "print(\"A*B =\\n\", A*B)\n",
    "print(\"A*x =\\n\", A*x)\n",
    "print(\"A*A = A^2 =\\n\", A**2)\n",
    "print(\"x.T*A =\\n\", x.T * A)"
   ]
  },
  {
   "cell_type": "markdown",
   "metadata": {},
   "source": [
    "#### 2.1 Array vs Matrix\n",
    "## Array\n",
    "\n",
    "Un array de numpy es simplemente un \"contenedor\" multidimensional.\n",
    "\n",
    "### Pros:\n",
    "* Es multidimensional: 1D, 2D, 3D, ...\n",
    "* Resulta consistente: todas las operaciones son element-wise a menos que se utilice una función específica.\n",
    "\n",
    "### Contras:\n",
    "* Multiplicación maticial utiliza la función **dot()** o **@**"
   ]
  },
  {
   "cell_type": "code",
   "execution_count": 4,
   "metadata": {},
   "outputs": [
    {
     "name": "stdout",
     "output_type": "stream",
     "text": [
      "A =\n",
      " [[1 2]\n",
      " [3 4]]\n",
      "B =\n",
      " [[1. 1.]\n",
      " [0. 1.]]\n",
      "x =\n",
      " [1 2]\n",
      "A+B =\n",
      " [[2. 3.]\n",
      " [3. 5.]]\n",
      "AoB = (multiplicacion elementwise) \n",
      " [[1. 2.]\n",
      " [0. 4.]]\n",
      "A*B = (multiplicacion matricial, v1) \n",
      " [[1. 3.]\n",
      " [3. 7.]]\n",
      "A*B = (multiplicacion matricial, v2) \n",
      " [[1. 3.]\n",
      " [3. 7.]]\n",
      "A*B = (multiplicacion matricial, v2) \n",
      " [[1. 3.]\n",
      " [3. 7.]]\n",
      "A*A = A^2 = (potencia matricial)\n",
      " [[ 7 10]\n",
      " [15 22]]\n",
      "AoA = (potencia elementwise)\n",
      " [[ 1  4]\n",
      " [ 9 16]]\n",
      "A*x =\n",
      " [ 5 11]\n",
      "x.T*A =\n",
      " [ 7 10]\n"
     ]
    }
   ],
   "source": [
    "# Operaciones con np.matrix\n",
    "A = np.array([[1,2],[3,4]])\n",
    "B = np.array([[1, 1],[0,1]], dtype=float)\n",
    "x = np.array([1,2]) # No hay necesidad de definir como fila o columna!\n",
    "print(\"A =\\n\", A)\n",
    "print(\"B =\\n\", B)\n",
    "print(\"x =\\n\", x)\n",
    "\n",
    "print(\"A+B =\\n\", A+B)\n",
    "print(\"AoB = (multiplicacion elementwise) \\n\", A*B)\n",
    "print(\"A*B = (multiplicacion matricial, v1) \\n\", np.dot(A,B))\n",
    "print(\"A*B = (multiplicacion matricial, v2) \\n\", A.dot(B))\n",
    "print(\"A*B = (multiplicacion matricial, v3) \\n\", A @ B)\n",
    "print(\"A*A = A^2 = (potencia matricial)\\n\", np.linalg.matrix_power(A,2))\n",
    "print(\"AoA = (potencia elementwise)\\n\", A**2)\n",
    "print(\"A*x =\\n\", np.dot(A,x))\n",
    "print(\"x.T*A =\\n\", np.dot(x,A)) # No es necesario transponer."
   ]
  },
  {
   "cell_type": "markdown",
   "metadata": {},
   "source": [
    "## Desafío 1: matrix vs array\n",
    "Sean\n",
    "$$ \n",
    "A = \\begin{pmatrix} 1 & 0 & 1 \\\\ 0 & 1 & 1\\end{pmatrix}\n",
    "$$\n",
    "y \n",
    "$$ \n",
    "B = \\begin{pmatrix} 1 & 0 & 1 \\\\ 0 & 1 & 1 \\\\ 0 & 0 & 1\\end{pmatrix}\n",
    "$$\n",
    "\n",
    "1. Cree las matrices utilizando np.matrix y multipliquelas en el sentido matricial. Imprima el resultado.\n",
    "2. Cree las matrices utilizando np.array y multipliquelas en el sentido matricial. Imprima el resultado."
   ]
  },
  {
   "cell_type": "code",
   "execution_count": null,
   "metadata": {},
   "outputs": [],
   "source": [
    "# 1: Utilizando matrix\n",
    "A = np.matrix([]) # FIX ME\n",
    "B = np.matrix([]) # FIX ME\n",
    "print \"np.matrix, AxB=\\n\", #FIX ME\n",
    "\n",
    "# 2: Utilizando arrays\n",
    "A = np.array([]) # FIX ME\n",
    "B = np.array([]) # FIX ME\n",
    "print \"np.matrix, AxB=\\n\", #FIX ME"
   ]
  },
  {
   "cell_type": "markdown",
   "metadata": {},
   "source": [
    "## 2.2 Indexación y Slicing\n",
    "Los arrays se indexan de la forma \"tradicional\".\n",
    "\n",
    "* Para un array ***unidimensional***: sólo tiene una indexacion. ¡No es ni fila ni columna!\n",
    "* Para un array ***bidimensional***: primera componente son las filas, segunda componente son las columnas. Notación respeta por tanto la convención tradicional de matrices.\n",
    "* Para un array ***tridimensional***: primera componente son las filas, segunda componente son las columnas, tercera componente la siguiente dimension.\n",
    "\n",
    "<img src=\"images/anatomyarray.png\" alt=\"\" height=\"100px\" align=\"left\"/>\n",
    "\n",
    "Respecto a los índices de los elementos, éstos comienzan en cero, como en C. Además, es posible utilizar índices negativos, que como convención asignan -1 al último elemento, al -2 el penúltimo elemento, y así sucesivamente.\n",
    "\n",
    "Por ejemplo, si a = [2,3,5,7,11,13,17,19], entonces a[0] es el valor 2 y a[1] es el valor 3, mientras que a[-1] es el valor 19 y a[-2] es el valor 17.\n",
    "\n",
    "Ademas, en python existe la \"slicing notation\":\n",
    "* **a[start:end]** : items desde índice **start** hasta **end-1**\n",
    "* **a[start:]**    : items desde índice start hasta el final del array\n",
    "* **a[:end]**      : items desde el inicio hasta el índice end-1\n",
    "* **a[:]**         : todos los items del array (una copia nueva)\n",
    "* **a[start:end:step]** : items desde start hasta pasar end (sin incluir) con paso step"
   ]
  },
  {
   "cell_type": "code",
   "execution_count": null,
   "metadata": {},
   "outputs": [],
   "source": [
    "x = np.arange(9)   # \"Vector\" con valores del 0 al 8 \n",
    "print \"x = \", x\n",
    "print \"x[:] = \", x[:]\n",
    "print \"x[5:] = \", x[5:]\n",
    "print \"x[:8] = \", x[:8]\n",
    "print \"x[:-1] = \", x[:-1]\n",
    "print \"x[1:-1] = \", x[1:-1]\n",
    "print \"x[1:-1:2] = \", x[1:-1:2]\n",
    "\n",
    "A = x.reshape(3,3) # Arreglo con valores del 0 al 8, en 3 filas y 3 columnas.\n",
    "print \"\\n\"\n",
    "print \"A = \\n\", A\n",
    "print \"primera fila de A\\n\", A[0,:]\n",
    "print \"ultima columna de A\\n\", A[:,-1]\n",
    "print \"submatriz de A\\n\", A[:2,:2]"
   ]
  },
  {
   "cell_type": "markdown",
   "metadata": {},
   "source": [
    "#### Observación\n",
    "1. Cabe destacar que al tomar slices (subsecciones) de un arreglo obtenemos siempre un arreglo con menores dimensiones que el original.\n",
    "2. Esta notación es extremadamente conveniente, puesto que nos permite manipular el array sin necesitar conocer el tamaño del array y escribir de manera compacta las fórmulas numéricas.\n",
    "\n",
    "Por ejemplo, implementar una derivada numérica es tan simple como sigue. "
   ]
  },
  {
   "cell_type": "code",
   "execution_count": null,
   "metadata": {},
   "outputs": [],
   "source": [
    "def f(x):\n",
    "    return 1 + x**2\n",
    "\n",
    "x = np.array([0, 0.1, 0.2, 0.3, 0.4, 0.5, 0.6, 0.7, 0.8, 0.9, 1.0]) # O utilizar np.linspace!\n",
    "y = f(x) # Tan facil como llamar f sobre x\n",
    "dydx = ( y[1:] - y[:-1] ) / ( x[1:] - x[:-1] )\n",
    "x_aux = 0.5*(x[1:] + x[:-1])\n",
    "# To plot\n",
    "fig = plt.figure(figsize=(12,8))\n",
    "plt.plot(x, y, '-s', label=\"f\")\n",
    "plt.plot(x_aux, dydx, '-s', label=\"df/dx\")\n",
    "plt.legend(loc=\"upper left\")\n",
    "plt.show()"
   ]
  },
  {
   "cell_type": "markdown",
   "metadata": {},
   "source": [
    "## Desafío 2: Derivación numérica\n",
    "Implemente el cálculo de la segunda derivada, que puede obtenerse por diferencias finitas centradas mediante\n",
    "$$ \\frac{d f(x_i)}{dx} = \\frac{1}{\\Delta x^2} \\Big( f(x_{i+1}) -2 f(x_{i}) + f(x_{i-1}) \\Big)$$"
   ]
  },
  {
   "cell_type": "code",
   "execution_count": 5,
   "metadata": {},
   "outputs": [
    {
     "data": {
      "image/png": "[encoded data removed]",
      "text/plain": [
       "<Figure size 864x576 with 1 Axes>"
      ]
     },
     "metadata": {
      "needs_background": "light"
     },
     "output_type": "display_data"
    }
   ],
   "source": [
    "import numpy as np\n",
    "from matplotlib import pyplot as plt \n",
    "\n",
    "def g(x):\n",
    "    return 1 + x**2 + np.sin(x)\n",
    "\n",
    "x = np.linspace(0,1,10)\n",
    "y = g(x) \n",
    "d2ydx2 = 0 * x # FIX ME\n",
    "x_aux = 0*d2ydx2 # FIX ME\n",
    "# To plot\n",
    "fig = plt.figure(figsize=(12,8))\n",
    "plt.plot(x, y, label=\"f\")\n",
    "plt.plot(x_aux, d2ydx2, label=\"d2f/dx2\")\n",
    "plt.legend(loc=\"upper left\")\n",
    "plt.show()"
   ]
  },
  {
   "cell_type": "markdown",
   "metadata": {},
   "source": [
    "\n",
    "#### 2. Librería Numpy\n",
    "## 2.2 Funciones Básicas\n",
    "\n",
    "Algunas funciones básicas que es conveniente conocer son las siguientes:\n",
    "* **shape**: Entrega las dimensiones del arreglo. Siempre es una tupla.\n",
    "* **len**: Entrega el número de elementos de la primera dimensión del arreglo. Siempre es un entero.\n",
    "* **ones**: Crea un arreglo con las dimensiones provistas e inicializado con valores 1. Por defecto array 1D.\n",
    "* **zeros**: Crea un arreglo con las dimensiones provistas e inicializado con valores 1. Por defecto array 1D.\n",
    "* **eye**: Crea un arreglo con las dimensiones provistas e inicializado con 1 en la diagonal. Por defecto array 2D."
   ]
  },
  {
   "cell_type": "code",
   "execution_count": null,
   "metadata": {},
   "outputs": [],
   "source": [
    "# arrays 1d\n",
    "A = np.ones(3)\n",
    "print \"A = \\n\", A\n",
    "print \"A.shape =\", A.shape\n",
    "print \"len(A) =\", len(A)\n",
    "B = np.zeros(3)\n",
    "print \"B = \\n\", B\n",
    "print \"B.shape =\", B.shape\n",
    "print \"len(B) =\", len(B)\n",
    "C = np.eye(1,3)\n",
    "print \"C = \\n\", C\n",
    "print \"C.shape =\", C.shape\n",
    "print \"len(C) =\", len(C)\n",
    "# Si queremos forzar la misma forma que A y B\n",
    "C = np.eye(1,3).flatten() # o np.eye(1,3)[0,:] \n",
    "print \"C = \\n\", C\n",
    "print \"C.shape =\", C.shape\n",
    "print \"len(C) =\", len(C)"
   ]
  },
  {
   "cell_type": "code",
   "execution_count": null,
   "metadata": {},
   "outputs": [],
   "source": [
    "# square arrays\n",
    "A = np.ones((3,3))\n",
    "print \"A = \\n\", A\n",
    "print \"A.shape =\", A.shape\n",
    "print \"len(A) =\", len(A)\n",
    "B = np.zeros((3,3))\n",
    "print \"B = \\n\", B\n",
    "print \"B.shape =\", B.shape\n",
    "print \"len(B) =\", len(B)\n",
    "C = np.eye(3) # Or  np.eye(3,3)\n",
    "print \"C = \\n\", C\n",
    "print \"C.shape =\", C.shape\n",
    "print \"len(C) =\", len(C)"
   ]
  },
  {
   "cell_type": "code",
   "execution_count": null,
   "metadata": {},
   "outputs": [],
   "source": [
    "# fat 2d array\n",
    "A = np.ones((2,5))\n",
    "print \"A = \\n\", A\n",
    "print \"A.shape =\", A.shape\n",
    "print \"len(A) =\", len(A)\n",
    "B = np.zeros((2,5))\n",
    "print \"B = \\n\", B\n",
    "print \"B.shape =\", B.shape\n",
    "print \"len(B) =\", len(B)\n",
    "C = np.eye(2,5)\n",
    "print \"C = \\n\", C\n",
    "print \"C.shape =\", C.shape\n",
    "print \"len(C) =\", len(C)"
   ]
  },
  {
   "cell_type": "markdown",
   "metadata": {},
   "source": [
    "#### 2. Librería Numpy\n",
    "## 2.2 Funciones Básicas\n",
    "\n",
    "Algunas funciones básicas que es conveniente conocer son las siguientes:\n",
    "* **reshape**: Convierte arreglo a nueva forma. Numero de elementos debe ser el mismo.\n",
    "* **linspace**: Regresa un arreglo con valores linealmente espaciados.\n",
    "* **diag(x)**: Si x es 1D, regresa array 2D con valores en diagonal. Si x es 2D, regresa valores en la diagonal.\n",
    "* **sum**: Suma los valores del arreglo. Puede hacerse en general o a lo largo de un axis.\n",
    "* **mean**: Calcula el promedio de los valores del arreglo. Puede hacerse en general o a lo largo de un axis.\n",
    "* **std**: Calcula la desviación estándar de los valores del arreglo. Puede hacerse en general o a lo largo de un axis."
   ]
  },
  {
   "cell_type": "code",
   "execution_count": null,
   "metadata": {},
   "outputs": [],
   "source": [
    "x = np.linspace(0., 1., 6)\n",
    "A = x.reshape(3,2)\n",
    "print \"x = \\n\", x\n",
    "print \"A = \\n\", A\n",
    "\n",
    "print \"np.diag(x) = \\n\", np.diag(x)\n",
    "print \"np.diag(B) = \\n\", np.diag(A)\n",
    "\n",
    "print \"\"\n",
    "print \"A.sum() = \", A.sum()\n",
    "print \"A.sum(axis=0) = \", A.sum(axis=0)\n",
    "print \"A.sum(axis=1) = \", A.sum(axis=1)\n",
    "\n",
    "print \"\"\n",
    "print \"A.mean() = \", A.mean()\n",
    "print \"A.mean(axis=0) = \", A.mean(axis=0)\n",
    "print \"A.mean(axis=1) = \", A.mean(axis=1)\n",
    "\n",
    "print \"\"\n",
    "print \"A.std() = \", A.std()\n",
    "print \"A.std(axis=0) = \", A.std(axis=0)\n",
    "print \"A.std(axis=1) = \", A.std(axis=1)"
   ]
  },
  {
   "cell_type": "markdown",
   "metadata": {},
   "source": [
    "# Desafío 3\n",
    "\n",
    "Complete el siguiente código:\n",
    "* Se le provee un array A cuadrado\n",
    "* Calcule un array B como la multiplicación element-wise de A por sí misma.\n",
    "* Calcule un array C como la multiplicación matricial de A y B.\n",
    "* Imprima la matriz C resultante.\n",
    "* Calcule la suma, promedio y desviación estándar de los valores en la diagonal de C.\n",
    "* Imprima los valores anteriormente calculados."
   ]
  },
  {
   "cell_type": "code",
   "execution_count": null,
   "metadata": {},
   "outputs": [],
   "source": [
    "A = np.outer(np.arange(3),np.arange(3))\n",
    "print A\n",
    "# FIX ME\n",
    "# FIX ME\n",
    "# FIX ME\n",
    "# FIX ME\n",
    "# FIX ME"
   ]
  },
  {
   "cell_type": "markdown",
   "metadata": {},
   "source": [
    "## Desafío 4\n",
    "Implemente la regla de [integración trapezoidal](https://en.wikipedia.org/wiki/Trapezoidal_rule)"
   ]
  },
  {
   "cell_type": "code",
   "execution_count": null,
   "metadata": {},
   "outputs": [],
   "source": [
    "def mi_funcion(x):\n",
    "    f = 1 + x + x**3 + x**5 + np.sin(x)\n",
    "    return f\n",
    "\n",
    "N = 5\n",
    "x = np.linspace(-1,1,N)\n",
    "y = mi_funcion(x)\n",
    "# FIX ME\n",
    "I = 0 # FIX ME\n",
    "# FIX ME\n",
    "print \"Area bajo la curva: %.3f\" %I\n",
    "\n",
    "# Ilustración gráfica\n",
    "x_aux = np.linspace(x.min(),x.max(),N**2)\n",
    "fig = plt.figure(figsize=(12,8))\n",
    "fig.gca().fill_between(x, 0, y, alpha=0.25)\n",
    "plt.plot(x_aux, mi_funcion(x_aux), 'k')\n",
    "plt.plot(x, y, 'r.-')\n",
    "plt.show()"
   ]
  },
  {
   "cell_type": "markdown",
   "metadata": {},
   "source": [
    "#### 2. Librería Numpy\n",
    "## 2.5 Inputs y Outputs\n",
    "\n",
    "Numpy permite leer datos en formato array con la función **loadtxt**. Existen variados argumentos opcionales, pero los mas importantes son:\n",
    "* **skiprows**: permite saltarse lineas en la lectura.\n",
    "* **dtype**: declarar que tipo de dato tendra el array resultante"
   ]
  },
  {
   "cell_type": "code",
   "execution_count": null,
   "metadata": {},
   "outputs": [],
   "source": [
    "# Ejemplo de lectura de datos\n",
    "data = np.loadtxt(\"data/cherry.txt\")\n",
    "print data.shape\n",
    "print data"
   ]
  },
  {
   "cell_type": "code",
   "execution_count": null,
   "metadata": {},
   "outputs": [],
   "source": [
    "# Ejemplo de lectura de datos, saltandose 11 lineas y truncando a enteros\n",
    "data_int = np.loadtxt(\"data/cherry.txt\", skiprows=11).astype(int)\n",
    "print data_int.shape\n",
    "print data_int"
   ]
  },
  {
   "cell_type": "markdown",
   "metadata": {},
   "source": [
    "#### 2. Librería Numpy\n",
    "## 2.5 Inputs y Outputs\n",
    "\n",
    "Numpy permite guardar datos de manera sencilla con la función **savetxt**: siempre debemos dar el nombre del archivo y el array a guardar. \n",
    "\n",
    "Existen variados argumentos opcionales, pero los mas importantes son:\n",
    "* **header**: Línea a escribir como encabezado de los datos\n",
    "* **fmt**: Formato con el cual se guardan los datos (%d para enteros, %.5f para flotantes con 5 decimales, %.3E para notación científica con 3 decimales, etc.)."
   ]
  },
  {
   "cell_type": "code",
   "execution_count": null,
   "metadata": {},
   "outputs": [],
   "source": [
    "# Guardando el archivo con un header en español\n",
    "encabezado = \"Diametro Altura Volumen (Valores truncados a numeros enteros)\"\n",
    "np.savetxt(\"data/cherry_int.txt\", data_int, fmt=\"%d\", header=encabezado)"
   ]
  },
  {
   "cell_type": "markdown",
   "metadata": {},
   "source": [
    "Revisemos si el archivo quedó bien escrito. Cambiaremos de **python** a **bash** para utilizar los comandos del terminal:"
   ]
  },
  {
   "cell_type": "code",
   "execution_count": null,
   "metadata": {},
   "outputs": [],
   "source": [
    "%%bash \n",
    "cat data/cherry_int.txt"
   ]
  },
  {
   "cell_type": "markdown",
   "metadata": {},
   "source": [
    "# Desafío 5\n",
    "\n",
    "* Lea el archivo data/cherry.txt\n",
    "* Escale la matriz para tener todas las unidades en metros o metros cubicos.\n",
    "* Guarde la matriz en un nuevo archivo data/cherry_mks.txt, con un encabezado apropiado y 2 decimales de precisión para el flotante (pero no en notación científica)."
   ]
  },
  {
   "cell_type": "code",
   "execution_count": null,
   "metadata": {
    "collapsed": true
   },
   "outputs": [],
   "source": [
    "# Leer datos\n",
    "#FIX_ME#\n",
    "\n",
    "# Convertir a mks\n",
    "#FIX_ME#\n",
    "\n",
    "# Guardar en nuevo archivo\n",
    "#FIX_ME#"
   ]
  },
  {
   "cell_type": "markdown",
   "metadata": {},
   "source": [
    "#### 2. Librería Numpy\n",
    "## 2.6 Selecciones de datos\n",
    "\n",
    "Existen 2 formas de seleccionar datos en un array A:\n",
    "* Utilizar máscaras de datos, que corresponden a un array con las mismas dimensiones del array A, pero de tipo booleano. Todos aquellos elementos True del array de la mascara serán seleccionados.\n",
    "* Utilizar un array con valores enteros. Los valores del array indican los valores que desean conservarse. "
   ]
  },
  {
   "cell_type": "markdown",
   "metadata": {},
   "source": [
    "#### 2.6 Máscaras\n",
    "Observe que el array regresado siempre es unidimensional puesto que no es posible garantizar que se mantenga la dimensión original del array."
   ]
  },
  {
   "cell_type": "code",
   "execution_count": null,
   "metadata": {},
   "outputs": [],
   "source": [
    "x = np.linspace(0,42,10)\n",
    "print \"x = \", x\n",
    "print \"x.shape = \", x.shape\n",
    "\n",
    "print \"\\n\"\n",
    "mask_x_1 = x>10\n",
    "print \"mask_x_1 = \", mask_x_1\n",
    "print \"x[mask_x_1] = \", x[mask_x_1]\n",
    "print \"x[mask_x_1].shape = \", x[mask_x_1].shape\n",
    "\n",
    "print \"\\n\"\n",
    "mask_x_2 = x > x.mean()\n",
    "print \"mask_x_2 = \", mask_x_2\n",
    "print \"x[mask_x_2] = \", x[mask_x_2]\n",
    "print \"x[mask_x_2].shape = \", x[mask_x_2].shape"
   ]
  },
  {
   "cell_type": "code",
   "execution_count": null,
   "metadata": {},
   "outputs": [],
   "source": [
    "A = np.linspace(10,20,12).reshape(3,4)\n",
    "print \"\\n\"\n",
    "print \"A = \", A\n",
    "print \"A.shape = \", A.shape\n",
    "\n",
    "print \"\\n\"\n",
    "mask_A_1 = A>13\n",
    "print \"mask_A_1 = \", mask_A_1\n",
    "print \"A[mask_A_1] = \", A[mask_A_1]\n",
    "print \"A[mask_A_1].shape = \", A[mask_A_1].shape\n",
    "\n",
    "print \"\\n\"\n",
    "mask_A_2 = A > 0.5*(A.min()+A.max())\n",
    "print \"mask_A_2 = \", mask_A_2\n",
    "print \"A[mask_A_2] = \", A[mask_A_2]\n",
    "print \"A[mask_A_2].shape = \", A[mask_A_2].shape"
   ]
  },
  {
   "cell_type": "code",
   "execution_count": null,
   "metadata": {},
   "outputs": [],
   "source": [
    "T = np.linspace(-100,100,24).reshape(2,3,4)\n",
    "print \"\\n\"\n",
    "print \"T = \", T\n",
    "print \"T.shape = \", T.shape\n",
    "\n",
    "print \"\\n\"\n",
    "mask_T_1 = T>=0\n",
    "print \"mask_T_1 = \", mask_T_1\n",
    "print \"T[mask_T_1] = \", T[mask_T_1]\n",
    "print \"T[mask_T_1].shape = \", T[mask_T_1].shape\n",
    "\n",
    "print \"\\n\"\n",
    "mask_T_2 =  1 - T + 2*T**2 < 0.1*T**3\n",
    "print \"mask_T_2 = \", mask_T_2\n",
    "print \"T[mask_T_2] = \", T[mask_T_2]\n",
    "print \"T[mask_T_2].shape = \", T[mask_T_2].shape"
   ]
  },
  {
   "cell_type": "markdown",
   "metadata": {},
   "source": [
    "#### 2.6 Índices\n",
    "Observe que es posible repetir índices, por lo que el array obtenido puede tener más elementos que el array original.\n",
    "\n",
    "En un arreglo 2d, es necesario pasar 2 arrays, el primero para las filas y el segundo para las columnas."
   ]
  },
  {
   "cell_type": "code",
   "execution_count": null,
   "metadata": {},
   "outputs": [],
   "source": [
    "x = np.linspace(10,20,11)\n",
    "print \"x = \", x\n",
    "print \"x.shape = \", x.shape\n",
    "\n",
    "print \"\\n\"\n",
    "ind_x_1 = np.array([1,2,3,5,7])\n",
    "print \"ind_x_1 = \", ind_x_1\n",
    "print \"x[ind_x_1] = \", x[ind_x_1]\n",
    "print \"x[ind_x_1].shape = \", x[ind_x_1].shape\n",
    "\n",
    "print \"\\n\"\n",
    "ind_x_2 = np.array([0,0,1,2,3,4,5,6,7,-3,-2,-1,-1])\n",
    "print \"ind_x_2 = \", ind_x_2\n",
    "print \"x[ind_x_2] = \", x[ind_x_2]\n",
    "print \"x[ind_x_2].shape = \", x[ind_x_2].shape"
   ]
  },
  {
   "cell_type": "code",
   "execution_count": null,
   "metadata": {},
   "outputs": [],
   "source": [
    "A = np.linspace(-90,90,10).reshape(2,5)\n",
    "print \"A = \", A\n",
    "print \"A.shape = \", A.shape\n",
    "\n",
    "print \"\\n\"\n",
    "ind_row_A_1 = np.array([0,0,0,1,1])\n",
    "ind_col_A_1 = np.array([0,2,4,1,3])\n",
    "print \"ind_row_A_1 = \", ind_row_A_1\n",
    "print \"ind_col_A_1 = \", ind_col_A_1\n",
    "print \"A[ind_row_A_1,ind_col_A_1] = \", A[ind_row_A_1,ind_col_A_1]\n",
    "print \"A[ind_row_A_1,ind_col_A_1].shape = \", A[ind_row_A_1,ind_col_A_1].shape\n",
    "\n",
    "print \"\\n\"\n",
    "ind_row_A_2 = 1\n",
    "ind_col_A_2 = np.array([0,1,3])\n",
    "print \"ind_row_A_2 = \", ind_row_A_2\n",
    "print \"ind_col_A_2 = \", ind_col_A_2\n",
    "print \"A[ind_row_A_2,ind_col_A_2] = \", A[ind_row_A_2,ind_col_A_2]\n",
    "print \"A[ind_row_A_2,ind_col_A_2].shape = \", A[ind_row_A_2,ind_col_A_2].shape"
   ]
  },
  {
   "cell_type": "markdown",
   "metadata": {},
   "source": [
    "## Tips\n",
    "* La práctica y la necesidad hace al maestro.\n",
    "\n",
    "* Preguntar: en línea y en persona, pero tratar de solucionar los problemas antes.\n",
    "\n",
    "## Enlaces útiles:\n",
    "* http://www.labri.fr/perso/nrougier/teaching/numpy.100/ : Lista con 100 recetas prácticas."
   ]
  },
  {
   "cell_type": "markdown",
   "metadata": {},
   "source": [
    "#  Análisis de Datos\n",
    "## Librerías\n",
    "* pandas"
   ]
  },
  {
   "cell_type": "markdown",
   "metadata": {
    "slideshow": {
     "slide_type": "slide"
    }
   },
   "source": [
    "## Aprender haciendo\n",
    "\n",
    "Consideraremos el siguiente archivo `data.csv` que contiene datos incompletos:"
   ]
  },
  {
   "cell_type": "code",
   "execution_count": 201,
   "metadata": {},
   "outputs": [
    {
     "name": "stdout",
     "output_type": "stream",
     "text": [
      "diametro;altura;volumen;tipo_de_arbol\n",
      "11.2;75;19.9;Cherrie Tree\n",
      "11.3;79;24.2;Cherry Tree\n",
      "11.4;76;21.0;Cherry Tree\n",
      "11.4;76;21.4;Apple Tree\n",
      "13.7;71;25.7;Cherry Tree\n",
      "13.8;64;24.9;Cherry Tree\n",
      "14.0;78;34.5;Cherrie Tree\n",
      "14.2;80;31.7;Cherry Tree\n",
      ";74;36.3;Apple Tree\n",
      "16.0;72;38.3;Cherry Tree\n",
      "16.3;77;42.6;Cherry Tree\n",
      "17.3;81;55.4;Apple Tree\n",
      "17.5;;55.7;Cherry Tree\n",
      "17.9;80;58.3;Cherry Tree\n",
      "18.0;80;51.5;Cherry Tree\n",
      "18.0;;51.0;\n",
      "20.6;;;Cherry Tree\n"
     ]
    }
   ],
   "source": [
    "%%bash\n",
    "cat data/data.csv"
   ]
  },
  {
   "cell_type": "markdown",
   "metadata": {
    "slideshow": {
     "slide_type": "slide"
    }
   },
   "source": [
    "## 1.- ¿Porqué utilizar pandas?\n",
    "\n",
    "**Razón oficial**:\n",
    "Porque en numpy no es posible mezclar tipos de datos, lo cual complica cargar, usar, limpiar y guardar datos mixtos.\n",
    "\n",
    "**Razón personal**:\n",
    "Porque habían cosas que en R eran más fáciles pero no pythonísticas. La librería pandas es un excelente compromiso. "
   ]
  },
  {
   "cell_type": "code",
   "execution_count": 202,
   "metadata": {
    "slideshow": {
     "slide_type": "slide"
    }
   },
   "outputs": [
    {
     "name": "stdout",
     "output_type": "stream",
     "text": [
      "[['diametro' 'altura' 'volumen' 'tipo_de_arbol']\n",
      " ['11.2' '75' '19.9' 'Cherrie Tree']\n",
      " ['11.3' '79' '24.2' 'Cherry Tree']\n",
      " ['11.4' '76' '21.0' 'Cherry Tree']\n",
      " ['11.4' '76' '21.4' 'Apple Tree']\n",
      " ['13.7' '71' '25.7' 'Cherry Tree']\n",
      " ['13.8' '64' '24.9' 'Cherry Tree']\n",
      " ['14.0' '78' '34.5' 'Cherrie Tree']\n",
      " ['14.2' '80' '31.7' 'Cherry Tree']\n",
      " ['' '74' '36.3' 'Apple Tree']\n",
      " ['16.0' '72' '38.3' 'Cherry Tree']\n",
      " ['16.3' '77' '42.6' 'Cherry Tree']\n",
      " ['17.3' '81' '55.4' 'Apple Tree']\n",
      " ['17.5' '' '55.7' 'Cherry Tree']\n",
      " ['17.9' '80' '58.3' 'Cherry Tree']\n",
      " ['18.0' '80' '51.5' 'Cherry Tree']\n",
      " ['18.0' '' '51.0' '']\n",
      " ['20.6' '' '' 'Cherry Tree']]\n"
     ]
    }
   ],
   "source": [
    "import numpy as np\n",
    "df = np.loadtxt(\"data/data.csv\", delimiter=\";\", dtype=str)\n",
    "print( df )"
   ]
  },
  {
   "cell_type": "code",
   "execution_count": 205,
   "metadata": {
    "slideshow": {
     "slide_type": "slide"
    }
   },
   "outputs": [
    {
     "name": "stdout",
     "output_type": "stream",
     "text": [
      "    diametro  altura  volumen tipo_de_arbol\n",
      "0       11.2      75     19.9  Cherrie Tree\n",
      "1       11.3      79     24.2   Cherry Tree\n",
      "2       11.4      76     21.0   Cherry Tree\n",
      "3       11.4      76     21.4    Apple Tree\n",
      "4       13.7      71     25.7   Cherry Tree\n",
      "5       13.8      64     24.9   Cherry Tree\n",
      "6       14.0      78     34.5  Cherrie Tree\n",
      "7       14.2      80     31.7   Cherry Tree\n",
      "8        NaN      74     36.3    Apple Tree\n",
      "9       16.0      72     38.3   Cherry Tree\n",
      "10      16.3      77     42.6   Cherry Tree\n",
      "11      17.3      81     55.4    Apple Tree\n",
      "12      17.5     NaN     55.7   Cherry Tree\n",
      "13      17.9      80     58.3   Cherry Tree\n",
      "14      18.0      80     51.5   Cherry Tree\n",
      "15      18.0     NaN     51.0           NaN\n",
      "16      20.6     NaN      NaN   Cherry Tree\n"
     ]
    }
   ],
   "source": [
    "import pandas as pd\n",
    "df = pd.read_csv(\"data/data.csv\", sep=\";\")\n",
    "print( df )\n",
    "#df"
   ]
  },
  {
   "cell_type": "code",
   "execution_count": 207,
   "metadata": {
    "slideshow": {
     "slide_type": "slide"
    }
   },
   "outputs": [
    {
     "data": {
      "text/html": [
       "<div style=\"max-height:1000px;max-width:1500px;overflow:auto;\">\n",
       "<table border=\"1\" class=\"dataframe\">\n",
       "  <thead>\n",
       "    <tr style=\"text-align: right;\">\n",
       "      <th></th>\n",
       "      <th>diametro</th>\n",
       "      <th>altura</th>\n",
       "      <th>volumen</th>\n",
       "      <th>tipo_de_arbol</th>\n",
       "    </tr>\n",
       "  </thead>\n",
       "  <tbody>\n",
       "    <tr>\n",
       "      <th>0</th>\n",
       "      <td>0.007226</td>\n",
       "      <td>6.967728</td>\n",
       "      <td>0.015957</td>\n",
       "      <td>Cherry Tree</td>\n",
       "    </tr>\n",
       "    <tr>\n",
       "      <th>1</th>\n",
       "      <td>0.007290</td>\n",
       "      <td>7.339340</td>\n",
       "      <td>0.019405</td>\n",
       "      <td>Cherry Tree</td>\n",
       "    </tr>\n",
       "    <tr>\n",
       "      <th>2</th>\n",
       "      <td>0.007355</td>\n",
       "      <td>7.060631</td>\n",
       "      <td>0.016839</td>\n",
       "      <td>Cherry Tree</td>\n",
       "    </tr>\n",
       "    <tr>\n",
       "      <th>3</th>\n",
       "      <td>0.007355</td>\n",
       "      <td>7.060631</td>\n",
       "      <td>0.017159</td>\n",
       "      <td>Cherry Tree</td>\n",
       "    </tr>\n",
       "    <tr>\n",
       "      <th>4</th>\n",
       "      <td>0.008839</td>\n",
       "      <td>6.596116</td>\n",
       "      <td>0.020607</td>\n",
       "      <td>Cherry Tree</td>\n",
       "    </tr>\n",
       "    <tr>\n",
       "      <th>5</th>\n",
       "      <td>0.008903</td>\n",
       "      <td>5.945795</td>\n",
       "      <td>0.019966</td>\n",
       "      <td>Cherry Tree</td>\n",
       "    </tr>\n",
       "    <tr>\n",
       "      <th>6</th>\n",
       "      <td>0.009032</td>\n",
       "      <td>7.246437</td>\n",
       "      <td>0.027664</td>\n",
       "      <td>Cherry Tree</td>\n",
       "    </tr>\n",
       "    <tr>\n",
       "      <th>7</th>\n",
       "      <td>0.009161</td>\n",
       "      <td>7.432243</td>\n",
       "      <td>0.025418</td>\n",
       "      <td>Cherry Tree</td>\n",
       "    </tr>\n",
       "    <tr>\n",
       "      <th>8</th>\n",
       "      <td>NaN</td>\n",
       "      <td>6.874825</td>\n",
       "      <td>0.029107</td>\n",
       "      <td>Cherry Tree</td>\n",
       "    </tr>\n",
       "    <tr>\n",
       "      <th>9</th>\n",
       "      <td>0.010323</td>\n",
       "      <td>6.689019</td>\n",
       "      <td>0.030711</td>\n",
       "      <td>Cherry Tree</td>\n",
       "    </tr>\n",
       "    <tr>\n",
       "      <th>10</th>\n",
       "      <td>0.010516</td>\n",
       "      <td>7.153534</td>\n",
       "      <td>0.034159</td>\n",
       "      <td>Cherry Tree</td>\n",
       "    </tr>\n",
       "    <tr>\n",
       "      <th>11</th>\n",
       "      <td>0.011161</td>\n",
       "      <td>7.525146</td>\n",
       "      <td>0.044422</td>\n",
       "      <td>Cherry Tree</td>\n",
       "    </tr>\n",
       "    <tr>\n",
       "      <th>12</th>\n",
       "      <td>0.011290</td>\n",
       "      <td>NaN</td>\n",
       "      <td>0.044663</td>\n",
       "      <td>Cherry Tree</td>\n",
       "    </tr>\n",
       "    <tr>\n",
       "      <th>13</th>\n",
       "      <td>0.011548</td>\n",
       "      <td>7.432243</td>\n",
       "      <td>0.046747</td>\n",
       "      <td>Cherry Tree</td>\n",
       "    </tr>\n",
       "    <tr>\n",
       "      <th>14</th>\n",
       "      <td>0.011613</td>\n",
       "      <td>7.432243</td>\n",
       "      <td>0.041295</td>\n",
       "      <td>Cherry Tree</td>\n",
       "    </tr>\n",
       "    <tr>\n",
       "      <th>15</th>\n",
       "      <td>0.011613</td>\n",
       "      <td>NaN</td>\n",
       "      <td>0.040894</td>\n",
       "      <td>Cherry Tree</td>\n",
       "    </tr>\n",
       "    <tr>\n",
       "      <th>16</th>\n",
       "      <td>0.013290</td>\n",
       "      <td>NaN</td>\n",
       "      <td>NaN</td>\n",
       "      <td>Cherry Tree</td>\n",
       "    </tr>\n",
       "  </tbody>\n",
       "</table>\n",
       "</div>"
      ],
      "text/plain": [
       "    diametro    altura   volumen tipo_de_arbol\n",
       "0   0.007226  6.967728  0.015957   Cherry Tree\n",
       "1   0.007290  7.339340  0.019405   Cherry Tree\n",
       "2   0.007355  7.060631  0.016839   Cherry Tree\n",
       "3   0.007355  7.060631  0.017159   Cherry Tree\n",
       "4   0.008839  6.596116  0.020607   Cherry Tree\n",
       "5   0.008903  5.945795  0.019966   Cherry Tree\n",
       "6   0.009032  7.246437  0.027664   Cherry Tree\n",
       "7   0.009161  7.432243  0.025418   Cherry Tree\n",
       "8        NaN  6.874825  0.029107   Cherry Tree\n",
       "9   0.010323  6.689019  0.030711   Cherry Tree\n",
       "10  0.010516  7.153534  0.034159   Cherry Tree\n",
       "11  0.011161  7.525146  0.044422   Cherry Tree\n",
       "12  0.011290       NaN  0.044663   Cherry Tree\n",
       "13  0.011548  7.432243  0.046747   Cherry Tree\n",
       "14  0.011613  7.432243  0.041295   Cherry Tree\n",
       "15  0.011613       NaN  0.040894   Cherry Tree\n",
       "16  0.013290       NaN       NaN   Cherry Tree"
      ]
     },
     "execution_count": 207,
     "metadata": {},
     "output_type": "execute_result"
    }
   ],
   "source": [
    "inch2m = 0.0254\n",
    "feet2m = 0.3048\n",
    "df.diametro = df.diametro * inch2m\n",
    "df.altura = df.altura * feet2m\n",
    "df.volumen = df.volumen * (feet2m**3)\n",
    "df.tipo_de_arbol = \"Cherry Tree\"\n",
    "df"
   ]
  },
  {
   "cell_type": "code",
   "execution_count": 208,
   "metadata": {
    "slideshow": {
     "slide_type": "slide"
    }
   },
   "outputs": [
    {
     "name": "stdout",
     "output_type": "stream",
     "text": [
      "Index([u'diametro', u'altura', u'volumen', u'tipo_de_arbol'], dtype='object')\n"
     ]
    }
   ],
   "source": [
    "print( df.columns )"
   ]
  },
  {
   "cell_type": "code",
   "execution_count": 209,
   "metadata": {
    "slideshow": {
     "slide_type": "-"
    }
   },
   "outputs": [
    {
     "name": "stdout",
     "output_type": "stream",
     "text": [
      "Int64Index([0, 1, 2, 3, 4, 5, 6, 7, 8, 9, 10, 11, 12, 13, 14, 15, 16], dtype='int64')\n"
     ]
    }
   ],
   "source": [
    "print( df.index )"
   ]
  },
  {
   "cell_type": "code",
   "execution_count": 210,
   "metadata": {
    "slideshow": {
     "slide_type": "-"
    }
   },
   "outputs": [
    {
     "name": "stdout",
     "output_type": "stream",
     "text": [
      "0     13.935456\n",
      "1     14.678680\n",
      "2     14.121262\n",
      "3     14.121262\n",
      "4     13.192232\n",
      "5     11.891589\n",
      "6     14.492874\n",
      "7     14.864486\n",
      "8     13.749650\n",
      "9     13.378038\n",
      "10    14.307068\n",
      "11    15.050292\n",
      "12          NaN\n",
      "13    14.864486\n",
      "14    14.864486\n",
      "15          NaN\n",
      "16          NaN\n",
      "Name: altura, dtype: float64\n"
     ]
    }
   ],
   "source": [
    "print( df[\"altura\"]*2 )"
   ]
  },
  {
   "cell_type": "code",
   "execution_count": 211,
   "metadata": {
    "slideshow": {
     "slide_type": "-"
    }
   },
   "outputs": [
    {
     "name": "stdout",
     "output_type": "stream",
     "text": [
      "0     0.022799\n",
      "1     0.020102\n",
      "2     0.022682\n",
      "3     0.022258\n",
      "4     0.025006\n",
      "5     0.023606\n",
      "6     0.021370\n",
      "7     0.024540\n",
      "8          NaN\n",
      "9     0.023209\n",
      "10    0.023160\n",
      "11    0.021103\n",
      "12         NaN\n",
      "13    0.021203\n",
      "14    0.024272\n",
      "15         NaN\n",
      "16         NaN\n",
      "dtype: float64\n"
     ]
    }
   ],
   "source": [
    "print( df[\"diametro\"]**2 * df[\"altura\"] / df.volumen )"
   ]
  },
  {
   "cell_type": "markdown",
   "metadata": {
    "slideshow": {
     "slide_type": "slide"
    }
   },
   "source": [
    "## 2. Lo básico de pandas\n",
    "* Pandas imita los dataframes de R, pero en python. Todo lo que no tiene sentido es porque se parece demasiado a R.\n",
    "* Pandas permite tener datos como en tablas de excel: datos en una columna pueden ser mixtos.\n",
    "* La idea central es que la indexación es \"a medida\": las columnas y las filas (index) pueden ser enteros o floats, pero también pueden ser strings. Depende de lo que tenga sentido.\n",
    "* Los elementos básicos de pandas son:\n",
    " * **Series**: Conjunto de valores con indexación variable.\n",
    " * **DataFrames**: Conjunto de Series."
   ]
  },
  {
   "cell_type": "markdown",
   "metadata": {
    "slideshow": {
     "slide_type": "slide"
    }
   },
   "source": [
    "### 2.1 Series\n",
    "Una serie es un conveniente conjunto de datos, como una columna de datos de excel, pero con indexación más genérica.\n",
    "\n",
    "```python\n",
    "pd.Series(self, data=None, index=None, dtype=None, name=None, copy=False, fastpath=False)\n",
    "```"
   ]
  },
  {
   "cell_type": "code",
   "execution_count": null,
   "metadata": {},
   "outputs": [],
   "source": [
    "import pandas as pd\n",
    "s1 = pd.Series([False, 1, 2., \"3\", 4 + 0j])\n",
    "print( s1 )"
   ]
  },
  {
   "cell_type": "code",
   "execution_count": null,
   "metadata": {},
   "outputs": [],
   "source": [
    "# Casting a otros tipos\n",
    "print( list(s1) )\n",
    "print( set(s1) )\n",
    "print( np.array(s1) )"
   ]
  },
  {
   "cell_type": "code",
   "execution_count": 225,
   "metadata": {
    "slideshow": {
     "slide_type": "slide"
    }
   },
   "outputs": [],
   "source": [
    "# Ejemplo de operatoria\n",
    "s0 = pd.Series(range(6), index=range(6))\n",
    "s1 = pd.Series([1,2,3], index=[1,2,3])\n",
    "s2 = pd.Series([4,5,6], index=[4,5,6])\n",
    "s3 = pd.Series([10,10,10], index=[1,4,6])"
   ]
  },
  {
   "cell_type": "code",
   "execution_count": 217,
   "metadata": {},
   "outputs": [
    {
     "name": "stdout",
     "output_type": "stream",
     "text": [
      "0    0\n",
      "1    1\n",
      "2    2\n",
      "3    3\n",
      "4    4\n",
      "5    5\n",
      "dtype: int64\n"
     ]
    }
   ],
   "source": [
    "print( s0 )"
   ]
  },
  {
   "cell_type": "code",
   "execution_count": 219,
   "metadata": {},
   "outputs": [
    {
     "name": "stdout",
     "output_type": "stream",
     "text": [
      "0   NaN\n",
      "1     2\n",
      "2     4\n",
      "3     6\n",
      "4   NaN\n",
      "5   NaN\n",
      "dtype: float64\n"
     ]
    }
   ],
   "source": [
    "print( s0 + s1 )"
   ]
  },
  {
   "cell_type": "code",
   "execution_count": 220,
   "metadata": {},
   "outputs": [
    {
     "name": "stdout",
     "output_type": "stream",
     "text": [
      "0   NaN\n",
      "1   NaN\n",
      "2   NaN\n",
      "3   NaN\n",
      "4   NaN\n",
      "5   NaN\n",
      "6   NaN\n",
      "dtype: float64\n"
     ]
    }
   ],
   "source": [
    "print( s0 + s1 + s2 )"
   ]
  },
  {
   "cell_type": "code",
   "execution_count": 222,
   "metadata": {
    "slideshow": {
     "slide_type": "slide"
    }
   },
   "outputs": [
    {
     "name": "stdout",
     "output_type": "stream",
     "text": [
      "0    0\n",
      "1    2\n",
      "2    4\n",
      "3    6\n",
      "4    4\n",
      "5    5\n",
      "dtype: float64\n"
     ]
    }
   ],
   "source": [
    "print( s0.add(s1, fill_value=0) )"
   ]
  },
  {
   "cell_type": "markdown",
   "metadata": {
    "slideshow": {
     "slide_type": "slide"
    }
   },
   "source": [
    "### 2.2 DataFrames\n",
    "\n",
    "Un Dataframe es una colección de Series con una indexación común. Como una planilla de excel.\n",
    "\n",
    "```python\n",
    "pd.DataFrame(self, data=None, index=None,\n",
    "             columns=None, dtype=None, copy=False)\n",
    "```"
   ]
  },
  {
   "cell_type": "code",
   "execution_count": 223,
   "metadata": {
    "slideshow": {
     "slide_type": "slide"
    }
   },
   "outputs": [
    {
     "data": {
      "text/html": [
       "<div style=\"max-height:1000px;max-width:1500px;overflow:auto;\">\n",
       "<table border=\"1\" class=\"dataframe\">\n",
       "  <thead>\n",
       "    <tr style=\"text-align: right;\">\n",
       "      <th></th>\n",
       "      <th>col1</th>\n",
       "      <th>col2</th>\n",
       "      <th>col3</th>\n",
       "    </tr>\n",
       "  </thead>\n",
       "  <tbody>\n",
       "    <tr>\n",
       "      <th>0</th>\n",
       "      <td>1</td>\n",
       "      <td>1</td>\n",
       "      <td>uno</td>\n",
       "    </tr>\n",
       "    <tr>\n",
       "      <th>1</th>\n",
       "      <td>2</td>\n",
       "      <td>2</td>\n",
       "      <td>dos</td>\n",
       "    </tr>\n",
       "    <tr>\n",
       "      <th>2</th>\n",
       "      <td>3</td>\n",
       "      <td>3</td>\n",
       "      <td>tres</td>\n",
       "    </tr>\n",
       "    <tr>\n",
       "      <th>3</th>\n",
       "      <td>4</td>\n",
       "      <td>4</td>\n",
       "      <td>cuatro</td>\n",
       "    </tr>\n",
       "  </tbody>\n",
       "</table>\n",
       "</div>"
      ],
      "text/plain": [
       "   col1  col2    col3\n",
       "0     1     1     uno\n",
       "1     2     2     dos\n",
       "2     3     3    tres\n",
       "3     4     4  cuatro"
      ]
     },
     "execution_count": 223,
     "metadata": {},
     "output_type": "execute_result"
    }
   ],
   "source": [
    "# dict\n",
    "df = pd.DataFrame({\"col1\":[1,2,3,4], \n",
    "                   \"col2\":[1., 2., 3., 4.], \n",
    "                   \"col3\":[\"uno\", \"dos\", \"tres\", \"cuatro\"]})\n",
    "df"
   ]
  },
  {
   "cell_type": "markdown",
   "metadata": {
    "slideshow": {
     "slide_type": "slide"
    }
   },
   "source": [
    "## 3.1 Obteniendo datos\n",
    "  1. **Archivo csv**\n",
    "  1. **Archivo json**\n",
    "  1. **Archivo de excel**: convertir a csv cuidadosamente (elegir un separador apropiado, no comentar strings)."
   ]
  },
  {
   "cell_type": "code",
   "execution_count": 228,
   "metadata": {
    "slideshow": {
     "slide_type": "slide"
    }
   },
   "outputs": [
    {
     "data": {
      "text/html": [
       "<div style=\"max-height:1000px;max-width:1500px;overflow:auto;\">\n",
       "<table border=\"1\" class=\"dataframe\">\n",
       "  <thead>\n",
       "    <tr style=\"text-align: right;\">\n",
       "      <th></th>\n",
       "      <th>diametro</th>\n",
       "      <th>altura</th>\n",
       "      <th>volumen</th>\n",
       "      <th>tipo_de_arbol</th>\n",
       "    </tr>\n",
       "  </thead>\n",
       "  <tbody>\n",
       "    <tr>\n",
       "      <th>0</th>\n",
       "      <td>11.2</td>\n",
       "      <td>75</td>\n",
       "      <td>19.9</td>\n",
       "      <td>Cherrie Tree</td>\n",
       "    </tr>\n",
       "    <tr>\n",
       "      <th>1</th>\n",
       "      <td>11.3</td>\n",
       "      <td>79</td>\n",
       "      <td>24.2</td>\n",
       "      <td>Cherry Tree</td>\n",
       "    </tr>\n",
       "    <tr>\n",
       "      <th>2</th>\n",
       "      <td>11.4</td>\n",
       "      <td>76</td>\n",
       "      <td>21.0</td>\n",
       "      <td>Cherry Tree</td>\n",
       "    </tr>\n",
       "    <tr>\n",
       "      <th>3</th>\n",
       "      <td>11.4</td>\n",
       "      <td>76</td>\n",
       "      <td>21.4</td>\n",
       "      <td>Apple Tree</td>\n",
       "    </tr>\n",
       "    <tr>\n",
       "      <th>4</th>\n",
       "      <td>13.7</td>\n",
       "      <td>71</td>\n",
       "      <td>25.7</td>\n",
       "      <td>Cherry Tree</td>\n",
       "    </tr>\n",
       "    <tr>\n",
       "      <th>5</th>\n",
       "      <td>13.8</td>\n",
       "      <td>64</td>\n",
       "      <td>24.9</td>\n",
       "      <td>Cherry Tree</td>\n",
       "    </tr>\n",
       "    <tr>\n",
       "      <th>6</th>\n",
       "      <td>14.0</td>\n",
       "      <td>78</td>\n",
       "      <td>34.5</td>\n",
       "      <td>Cherrie Tree</td>\n",
       "    </tr>\n",
       "    <tr>\n",
       "      <th>7</th>\n",
       "      <td>14.2</td>\n",
       "      <td>80</td>\n",
       "      <td>31.7</td>\n",
       "      <td>Cherry Tree</td>\n",
       "    </tr>\n",
       "    <tr>\n",
       "      <th>8</th>\n",
       "      <td>NaN</td>\n",
       "      <td>74</td>\n",
       "      <td>36.3</td>\n",
       "      <td>Apple Tree</td>\n",
       "    </tr>\n",
       "    <tr>\n",
       "      <th>9</th>\n",
       "      <td>16.0</td>\n",
       "      <td>72</td>\n",
       "      <td>38.3</td>\n",
       "      <td>Cherry Tree</td>\n",
       "    </tr>\n",
       "    <tr>\n",
       "      <th>10</th>\n",
       "      <td>16.3</td>\n",
       "      <td>77</td>\n",
       "      <td>42.6</td>\n",
       "      <td>Cherry Tree</td>\n",
       "    </tr>\n",
       "    <tr>\n",
       "      <th>11</th>\n",
       "      <td>17.3</td>\n",
       "      <td>81</td>\n",
       "      <td>55.4</td>\n",
       "      <td>Apple Tree</td>\n",
       "    </tr>\n",
       "    <tr>\n",
       "      <th>12</th>\n",
       "      <td>17.5</td>\n",
       "      <td>NaN</td>\n",
       "      <td>55.7</td>\n",
       "      <td>Cherry Tree</td>\n",
       "    </tr>\n",
       "    <tr>\n",
       "      <th>13</th>\n",
       "      <td>17.9</td>\n",
       "      <td>80</td>\n",
       "      <td>58.3</td>\n",
       "      <td>Cherry Tree</td>\n",
       "    </tr>\n",
       "    <tr>\n",
       "      <th>14</th>\n",
       "      <td>18.0</td>\n",
       "      <td>80</td>\n",
       "      <td>51.5</td>\n",
       "      <td>Cherry Tree</td>\n",
       "    </tr>\n",
       "    <tr>\n",
       "      <th>15</th>\n",
       "      <td>18.0</td>\n",
       "      <td>NaN</td>\n",
       "      <td>51.0</td>\n",
       "      <td>NaN</td>\n",
       "    </tr>\n",
       "    <tr>\n",
       "      <th>16</th>\n",
       "      <td>20.6</td>\n",
       "      <td>NaN</td>\n",
       "      <td>NaN</td>\n",
       "      <td>Cherry Tree</td>\n",
       "    </tr>\n",
       "  </tbody>\n",
       "</table>\n",
       "</div>"
      ],
      "text/plain": [
       "    diametro  altura  volumen tipo_de_arbol\n",
       "0       11.2      75     19.9  Cherrie Tree\n",
       "1       11.3      79     24.2   Cherry Tree\n",
       "2       11.4      76     21.0   Cherry Tree\n",
       "3       11.4      76     21.4    Apple Tree\n",
       "4       13.7      71     25.7   Cherry Tree\n",
       "5       13.8      64     24.9   Cherry Tree\n",
       "6       14.0      78     34.5  Cherrie Tree\n",
       "7       14.2      80     31.7   Cherry Tree\n",
       "8        NaN      74     36.3    Apple Tree\n",
       "9       16.0      72     38.3   Cherry Tree\n",
       "10      16.3      77     42.6   Cherry Tree\n",
       "11      17.3      81     55.4    Apple Tree\n",
       "12      17.5     NaN     55.7   Cherry Tree\n",
       "13      17.9      80     58.3   Cherry Tree\n",
       "14      18.0      80     51.5   Cherry Tree\n",
       "15      18.0     NaN     51.0           NaN\n",
       "16      20.6     NaN      NaN   Cherry Tree"
      ]
     },
     "execution_count": 228,
     "metadata": {},
     "output_type": "execute_result"
    }
   ],
   "source": [
    "# csv\n",
    "df = pd.read_csv(\"data/data.csv\", sep=\";\")\n",
    "df"
   ]
  },
  {
   "cell_type": "code",
   "execution_count": 227,
   "metadata": {
    "slideshow": {
     "slide_type": "slide"
    }
   },
   "outputs": [
    {
     "data": {
      "text/html": [
       "<div style=\"max-height:1000px;max-width:1500px;overflow:auto;\">\n",
       "<table border=\"1\" class=\"dataframe\">\n",
       "  <thead>\n",
       "    <tr style=\"text-align: right;\">\n",
       "      <th></th>\n",
       "      <th>altura</th>\n",
       "      <th>diametro</th>\n",
       "      <th>tipo_de_arbol</th>\n",
       "      <th>volumen</th>\n",
       "    </tr>\n",
       "  </thead>\n",
       "  <tbody>\n",
       "    <tr>\n",
       "      <th>1</th>\n",
       "      <td>79</td>\n",
       "      <td>11.3</td>\n",
       "      <td>Cherry Tree</td>\n",
       "      <td>24.2</td>\n",
       "    </tr>\n",
       "    <tr>\n",
       "      <th>10</th>\n",
       "      <td>77</td>\n",
       "      <td>16.3</td>\n",
       "      <td>Cherry Tree</td>\n",
       "      <td>42.6</td>\n",
       "    </tr>\n",
       "    <tr>\n",
       "      <th>12</th>\n",
       "      <td>NaN</td>\n",
       "      <td>17.5</td>\n",
       "      <td>Cherry Tree</td>\n",
       "      <td>55.7</td>\n",
       "    </tr>\n",
       "    <tr>\n",
       "      <th>13</th>\n",
       "      <td>80</td>\n",
       "      <td>17.9</td>\n",
       "      <td>Cherry Tree</td>\n",
       "      <td>58.3</td>\n",
       "    </tr>\n",
       "    <tr>\n",
       "      <th>14</th>\n",
       "      <td>80</td>\n",
       "      <td>18.0</td>\n",
       "      <td>Cherry Tree</td>\n",
       "      <td>51.5</td>\n",
       "    </tr>\n",
       "    <tr>\n",
       "      <th>16</th>\n",
       "      <td>NaN</td>\n",
       "      <td>20.6</td>\n",
       "      <td>Cherry Tree</td>\n",
       "      <td>NaN</td>\n",
       "    </tr>\n",
       "    <tr>\n",
       "      <th>2</th>\n",
       "      <td>76</td>\n",
       "      <td>11.4</td>\n",
       "      <td>Cherry Tree</td>\n",
       "      <td>21.0</td>\n",
       "    </tr>\n",
       "    <tr>\n",
       "      <th>4</th>\n",
       "      <td>71</td>\n",
       "      <td>13.7</td>\n",
       "      <td>Cherry Tree</td>\n",
       "      <td>25.7</td>\n",
       "    </tr>\n",
       "    <tr>\n",
       "      <th>5</th>\n",
       "      <td>64</td>\n",
       "      <td>13.8</td>\n",
       "      <td>Cherry Tree</td>\n",
       "      <td>24.9</td>\n",
       "    </tr>\n",
       "    <tr>\n",
       "      <th>7</th>\n",
       "      <td>80</td>\n",
       "      <td>14.2</td>\n",
       "      <td>Cherry Tree</td>\n",
       "      <td>31.7</td>\n",
       "    </tr>\n",
       "    <tr>\n",
       "      <th>9</th>\n",
       "      <td>72</td>\n",
       "      <td>16.0</td>\n",
       "      <td>Cherry Tree</td>\n",
       "      <td>38.3</td>\n",
       "    </tr>\n",
       "  </tbody>\n",
       "</table>\n",
       "</div>"
      ],
      "text/plain": [
       "    altura  diametro tipo_de_arbol  volumen\n",
       "1       79      11.3   Cherry Tree     24.2\n",
       "10      77      16.3   Cherry Tree     42.6\n",
       "12     NaN      17.5   Cherry Tree     55.7\n",
       "13      80      17.9   Cherry Tree     58.3\n",
       "14      80      18.0   Cherry Tree     51.5\n",
       "16     NaN      20.6   Cherry Tree      NaN\n",
       "2       76      11.4   Cherry Tree     21.0\n",
       "4       71      13.7   Cherry Tree     25.7\n",
       "5       64      13.8   Cherry Tree     24.9\n",
       "7       80      14.2   Cherry Tree     31.7\n",
       "9       72      16.0   Cherry Tree     38.3"
      ]
     },
     "execution_count": 227,
     "metadata": {},
     "output_type": "execute_result"
    }
   ],
   "source": [
    "df = pd.read_json(\"data/data.json\")\n",
    "df"
   ]
  },
  {
   "cell_type": "markdown",
   "metadata": {
    "slideshow": {
     "slide_type": "slide"
    }
   },
   "source": [
    "## 4.- Inspeccionando datos\n",
    " 1. Accesando las columnas\n",
    " 1. shape\n",
    " 1. head, tail, describe\n",
    " 1. histogram\n",
    " 1. pd.scatter_matrix\n",
    " 1. count_values"
   ]
  },
  {
   "cell_type": "code",
   "execution_count": 229,
   "metadata": {
    "slideshow": {
     "slide_type": "slide"
    }
   },
   "outputs": [
    {
     "data": {
      "text/plain": [
       "Index([u'diametro', u'altura', u'volumen', u'tipo_de_arbol'], dtype='object')"
      ]
     },
     "execution_count": 229,
     "metadata": {},
     "output_type": "execute_result"
    }
   ],
   "source": [
    "df = pd.read_csv(\"data/data.csv\", sep=\";\")\n",
    "df.columns"
   ]
  },
  {
   "cell_type": "code",
   "execution_count": 232,
   "metadata": {
    "scrolled": true
   },
   "outputs": [
    {
     "data": {
      "text/plain": [
       "0     75\n",
       "1     79\n",
       "2     76\n",
       "3     76\n",
       "4     71\n",
       "5     64\n",
       "6     78\n",
       "7     80\n",
       "8     74\n",
       "9     72\n",
       "10    77\n",
       "11    81\n",
       "12   NaN\n",
       "13    80\n",
       "14    80\n",
       "15   NaN\n",
       "16   NaN\n",
       "Name: altura, dtype: float64"
      ]
     },
     "execution_count": 232,
     "metadata": {},
     "output_type": "execute_result"
    }
   ],
   "source": [
    "df['altura']"
   ]
  },
  {
   "cell_type": "code",
   "execution_count": 233,
   "metadata": {
    "slideshow": {
     "slide_type": "slide"
    }
   },
   "outputs": [
    {
     "data": {
      "text/plain": [
       "(17, 4)"
      ]
     },
     "execution_count": 233,
     "metadata": {},
     "output_type": "execute_result"
    }
   ],
   "source": [
    "df.shape"
   ]
  },
  {
   "cell_type": "code",
   "execution_count": 234,
   "metadata": {
    "slideshow": {
     "slide_type": "slide"
    }
   },
   "outputs": [
    {
     "data": {
      "text/html": [
       "<div style=\"max-height:1000px;max-width:1500px;overflow:auto;\">\n",
       "<table border=\"1\" class=\"dataframe\">\n",
       "  <thead>\n",
       "    <tr style=\"text-align: right;\">\n",
       "      <th></th>\n",
       "      <th>diametro</th>\n",
       "      <th>altura</th>\n",
       "      <th>volumen</th>\n",
       "      <th>tipo_de_arbol</th>\n",
       "    </tr>\n",
       "  </thead>\n",
       "  <tbody>\n",
       "    <tr>\n",
       "      <th>0</th>\n",
       "      <td>11.2</td>\n",
       "      <td>75</td>\n",
       "      <td>19.9</td>\n",
       "      <td>Cherrie Tree</td>\n",
       "    </tr>\n",
       "    <tr>\n",
       "      <th>1</th>\n",
       "      <td>11.3</td>\n",
       "      <td>79</td>\n",
       "      <td>24.2</td>\n",
       "      <td>Cherry Tree</td>\n",
       "    </tr>\n",
       "    <tr>\n",
       "      <th>2</th>\n",
       "      <td>11.4</td>\n",
       "      <td>76</td>\n",
       "      <td>21.0</td>\n",
       "      <td>Cherry Tree</td>\n",
       "    </tr>\n",
       "    <tr>\n",
       "      <th>3</th>\n",
       "      <td>11.4</td>\n",
       "      <td>76</td>\n",
       "      <td>21.4</td>\n",
       "      <td>Apple Tree</td>\n",
       "    </tr>\n",
       "    <tr>\n",
       "      <th>4</th>\n",
       "      <td>13.7</td>\n",
       "      <td>71</td>\n",
       "      <td>25.7</td>\n",
       "      <td>Cherry Tree</td>\n",
       "    </tr>\n",
       "  </tbody>\n",
       "</table>\n",
       "</div>"
      ],
      "text/plain": [
       "   diametro  altura  volumen tipo_de_arbol\n",
       "0      11.2      75     19.9  Cherrie Tree\n",
       "1      11.3      79     24.2   Cherry Tree\n",
       "2      11.4      76     21.0   Cherry Tree\n",
       "3      11.4      76     21.4    Apple Tree\n",
       "4      13.7      71     25.7   Cherry Tree"
      ]
     },
     "execution_count": 234,
     "metadata": {},
     "output_type": "execute_result"
    }
   ],
   "source": [
    "df.head()"
   ]
  },
  {
   "cell_type": "code",
   "execution_count": 235,
   "metadata": {},
   "outputs": [
    {
     "data": {
      "text/html": [
       "<div style=\"max-height:1000px;max-width:1500px;overflow:auto;\">\n",
       "<table border=\"1\" class=\"dataframe\">\n",
       "  <thead>\n",
       "    <tr style=\"text-align: right;\">\n",
       "      <th></th>\n",
       "      <th>diametro</th>\n",
       "      <th>altura</th>\n",
       "      <th>volumen</th>\n",
       "      <th>tipo_de_arbol</th>\n",
       "    </tr>\n",
       "  </thead>\n",
       "  <tbody>\n",
       "    <tr>\n",
       "      <th>12</th>\n",
       "      <td>17.5</td>\n",
       "      <td>NaN</td>\n",
       "      <td>55.7</td>\n",
       "      <td>Cherry Tree</td>\n",
       "    </tr>\n",
       "    <tr>\n",
       "      <th>13</th>\n",
       "      <td>17.9</td>\n",
       "      <td>80</td>\n",
       "      <td>58.3</td>\n",
       "      <td>Cherry Tree</td>\n",
       "    </tr>\n",
       "    <tr>\n",
       "      <th>14</th>\n",
       "      <td>18.0</td>\n",
       "      <td>80</td>\n",
       "      <td>51.5</td>\n",
       "      <td>Cherry Tree</td>\n",
       "    </tr>\n",
       "    <tr>\n",
       "      <th>15</th>\n",
       "      <td>18.0</td>\n",
       "      <td>NaN</td>\n",
       "      <td>51.0</td>\n",
       "      <td>NaN</td>\n",
       "    </tr>\n",
       "    <tr>\n",
       "      <th>16</th>\n",
       "      <td>20.6</td>\n",
       "      <td>NaN</td>\n",
       "      <td>NaN</td>\n",
       "      <td>Cherry Tree</td>\n",
       "    </tr>\n",
       "  </tbody>\n",
       "</table>\n",
       "</div>"
      ],
      "text/plain": [
       "    diametro  altura  volumen tipo_de_arbol\n",
       "12      17.5     NaN     55.7   Cherry Tree\n",
       "13      17.9      80     58.3   Cherry Tree\n",
       "14      18.0      80     51.5   Cherry Tree\n",
       "15      18.0     NaN     51.0           NaN\n",
       "16      20.6     NaN      NaN   Cherry Tree"
      ]
     },
     "execution_count": 235,
     "metadata": {},
     "output_type": "execute_result"
    }
   ],
   "source": [
    "df.tail()"
   ]
  },
  {
   "cell_type": "code",
   "execution_count": 236,
   "metadata": {
    "slideshow": {
     "slide_type": "slide"
    }
   },
   "outputs": [
    {
     "data": {
      "text/html": [
       "<div style=\"max-height:1000px;max-width:1500px;overflow:auto;\">\n",
       "<table border=\"1\" class=\"dataframe\">\n",
       "  <thead>\n",
       "    <tr style=\"text-align: right;\">\n",
       "      <th></th>\n",
       "      <th>diametro</th>\n",
       "      <th>altura</th>\n",
       "      <th>volumen</th>\n",
       "    </tr>\n",
       "  </thead>\n",
       "  <tbody>\n",
       "    <tr>\n",
       "      <th>count</th>\n",
       "      <td>16.000000</td>\n",
       "      <td>14.000000</td>\n",
       "      <td>16.000000</td>\n",
       "    </tr>\n",
       "    <tr>\n",
       "      <th>mean</th>\n",
       "      <td>15.162500</td>\n",
       "      <td>75.928571</td>\n",
       "      <td>37.025000</td>\n",
       "    </tr>\n",
       "    <tr>\n",
       "      <th>std</th>\n",
       "      <td>2.948418</td>\n",
       "      <td>4.615430</td>\n",
       "      <td>13.773816</td>\n",
       "    </tr>\n",
       "    <tr>\n",
       "      <th>min</th>\n",
       "      <td>11.200000</td>\n",
       "      <td>64.000000</td>\n",
       "      <td>19.900000</td>\n",
       "    </tr>\n",
       "    <tr>\n",
       "      <th>25%</th>\n",
       "      <td>13.125000</td>\n",
       "      <td>74.250000</td>\n",
       "      <td>24.725000</td>\n",
       "    </tr>\n",
       "    <tr>\n",
       "      <th>50%</th>\n",
       "      <td>15.100000</td>\n",
       "      <td>76.500000</td>\n",
       "      <td>35.400000</td>\n",
       "    </tr>\n",
       "    <tr>\n",
       "      <th>75%</th>\n",
       "      <td>17.600000</td>\n",
       "      <td>79.750000</td>\n",
       "      <td>51.125000</td>\n",
       "    </tr>\n",
       "    <tr>\n",
       "      <th>max</th>\n",
       "      <td>20.600000</td>\n",
       "      <td>81.000000</td>\n",
       "      <td>58.300000</td>\n",
       "    </tr>\n",
       "  </tbody>\n",
       "</table>\n",
       "</div>"
      ],
      "text/plain": [
       "        diametro     altura    volumen\n",
       "count  16.000000  14.000000  16.000000\n",
       "mean   15.162500  75.928571  37.025000\n",
       "std     2.948418   4.615430  13.773816\n",
       "min    11.200000  64.000000  19.900000\n",
       "25%    13.125000  74.250000  24.725000\n",
       "50%    15.100000  76.500000  35.400000\n",
       "75%    17.600000  79.750000  51.125000\n",
       "max    20.600000  81.000000  58.300000"
      ]
     },
     "execution_count": 236,
     "metadata": {},
     "output_type": "execute_result"
    }
   ],
   "source": [
    "df.describe()"
   ]
  },
  {
   "cell_type": "code",
   "execution_count": 289,
   "metadata": {
    "slideshow": {
     "slide_type": "slide"
    }
   },
   "outputs": [
    {
     "data": {
      "text/html": [
       "<div style=\"max-height:1000px;max-width:1500px;overflow:auto;\">\n",
       "<table border=\"1\" class=\"dataframe\">\n",
       "  <thead>\n",
       "    <tr style=\"text-align: right;\">\n",
       "      <th></th>\n",
       "      <th>diametro</th>\n",
       "      <th>altura</th>\n",
       "      <th>volumen</th>\n",
       "      <th>tipo_de_arbol</th>\n",
       "    </tr>\n",
       "  </thead>\n",
       "  <tbody>\n",
       "    <tr>\n",
       "      <th>count</th>\n",
       "      <td>16.000000</td>\n",
       "      <td>14.000000</td>\n",
       "      <td>16.000000</td>\n",
       "      <td>16</td>\n",
       "    </tr>\n",
       "    <tr>\n",
       "      <th>unique</th>\n",
       "      <td>NaN</td>\n",
       "      <td>NaN</td>\n",
       "      <td>NaN</td>\n",
       "      <td>3</td>\n",
       "    </tr>\n",
       "    <tr>\n",
       "      <th>top</th>\n",
       "      <td>NaN</td>\n",
       "      <td>NaN</td>\n",
       "      <td>NaN</td>\n",
       "      <td>Cherry Tree</td>\n",
       "    </tr>\n",
       "    <tr>\n",
       "      <th>freq</th>\n",
       "      <td>NaN</td>\n",
       "      <td>NaN</td>\n",
       "      <td>NaN</td>\n",
       "      <td>11</td>\n",
       "    </tr>\n",
       "    <tr>\n",
       "      <th>mean</th>\n",
       "      <td>15.162500</td>\n",
       "      <td>75.928571</td>\n",
       "      <td>37.025000</td>\n",
       "      <td>NaN</td>\n",
       "    </tr>\n",
       "    <tr>\n",
       "      <th>std</th>\n",
       "      <td>2.948418</td>\n",
       "      <td>4.615430</td>\n",
       "      <td>13.773816</td>\n",
       "      <td>NaN</td>\n",
       "    </tr>\n",
       "    <tr>\n",
       "      <th>min</th>\n",
       "      <td>11.200000</td>\n",
       "      <td>64.000000</td>\n",
       "      <td>19.900000</td>\n",
       "      <td>NaN</td>\n",
       "    </tr>\n",
       "    <tr>\n",
       "      <th>25%</th>\n",
       "      <td>13.125000</td>\n",
       "      <td>74.250000</td>\n",
       "      <td>24.725000</td>\n",
       "      <td>NaN</td>\n",
       "    </tr>\n",
       "    <tr>\n",
       "      <th>50%</th>\n",
       "      <td>15.100000</td>\n",
       "      <td>76.500000</td>\n",
       "      <td>35.400000</td>\n",
       "      <td>NaN</td>\n",
       "    </tr>\n",
       "    <tr>\n",
       "      <th>75%</th>\n",
       "      <td>17.600000</td>\n",
       "      <td>79.750000</td>\n",
       "      <td>51.125000</td>\n",
       "      <td>NaN</td>\n",
       "    </tr>\n",
       "    <tr>\n",
       "      <th>max</th>\n",
       "      <td>20.600000</td>\n",
       "      <td>81.000000</td>\n",
       "      <td>58.300000</td>\n",
       "      <td>NaN</td>\n",
       "    </tr>\n",
       "  </tbody>\n",
       "</table>\n",
       "</div>"
      ],
      "text/plain": [
       "         diametro     altura    volumen tipo_de_arbol\n",
       "count   16.000000  14.000000  16.000000            16\n",
       "unique        NaN        NaN        NaN             3\n",
       "top           NaN        NaN        NaN   Cherry Tree\n",
       "freq          NaN        NaN        NaN            11\n",
       "mean    15.162500  75.928571  37.025000           NaN\n",
       "std      2.948418   4.615430  13.773816           NaN\n",
       "min     11.200000  64.000000  19.900000           NaN\n",
       "25%     13.125000  74.250000  24.725000           NaN\n",
       "50%     15.100000  76.500000  35.400000           NaN\n",
       "75%     17.600000  79.750000  51.125000           NaN\n",
       "max     20.600000  81.000000  58.300000           NaN"
      ]
     },
     "execution_count": 289,
     "metadata": {},
     "output_type": "execute_result"
    }
   ],
   "source": [
    "df.describe(include=\"all\")"
   ]
  },
  {
   "cell_type": "code",
   "execution_count": 238,
   "metadata": {
    "slideshow": {
     "slide_type": "slide"
    }
   },
   "outputs": [
    {
     "data": {
      "image/png": "[encoded data removed]",
      "text/plain": [
       "<matplotlib.figure.Figure at 0x7fb0e3dab4d0>"
      ]
     },
     "metadata": {},
     "output_type": "display_data"
    }
   ],
   "source": [
    "from matplotlib import pyplot as plt\n",
    "df.hist(figsize=(10,10), layout=(3,1))\n",
    "#df.hist(figsize=(8,8), layout=(3,1), by=\"tipo_de_arbol\")\n",
    "plt.show()"
   ]
  },
  {
   "cell_type": "code",
   "execution_count": 239,
   "metadata": {
    "slideshow": {
     "slide_type": "slide"
    }
   },
   "outputs": [
    {
     "data": {
      "image/png": "[encoded data removed]",
      "text/plain": [
       "<matplotlib.figure.Figure at 0x7fb0e392e410>"
      ]
     },
     "metadata": {},
     "output_type": "display_data"
    }
   ],
   "source": [
    "from matplotlib import pyplot as plt\n",
    "pd.scatter_matrix(df, figsize=(10,10), range_padding=0.2)\n",
    "plt.show()"
   ]
  },
  {
   "cell_type": "code",
   "execution_count": 240,
   "metadata": {
    "slideshow": {
     "slide_type": "slide"
    }
   },
   "outputs": [
    {
     "data": {
      "text/plain": [
       "Cherry Tree     11\n",
       "Apple Tree       3\n",
       "Cherrie Tree     2\n",
       "dtype: int64"
      ]
     },
     "execution_count": 240,
     "metadata": {},
     "output_type": "execute_result"
    }
   ],
   "source": [
    "df.tipo_de_arbol.value_counts()"
   ]
  },
  {
   "cell_type": "markdown",
   "metadata": {
    "slideshow": {
     "slide_type": "slide"
    }
   },
   "source": [
    "## 5.- Manipulando DataFrames\n",
    "   1. Agregando columnas\n",
    "   2. Borrando columnas\n",
    "   3. Agregando filas\n",
    "   4. Borrando filas\n",
    "   5. Mask\n",
    "   6. Grouping\n",
    "   7. Imputación de datos\n",
    "   8. Apply\n",
    "   9. Merge (a la SQL)\n",
    "   10. Accesamiento"
   ]
  },
  {
   "cell_type": "markdown",
   "metadata": {
    "slideshow": {
     "slide_type": "slide"
    }
   },
   "source": [
    "### 5.1 Agregando columnas"
   ]
  },
  {
   "cell_type": "code",
   "execution_count": 241,
   "metadata": {},
   "outputs": [
    {
     "data": {
      "text/html": [
       "<div style=\"max-height:1000px;max-width:1500px;overflow:auto;\">\n",
       "<table border=\"1\" class=\"dataframe\">\n",
       "  <thead>\n",
       "    <tr style=\"text-align: right;\">\n",
       "      <th></th>\n",
       "      <th>diametro</th>\n",
       "      <th>altura</th>\n",
       "      <th>volumen</th>\n",
       "      <th>tipo_de_arbol</th>\n",
       "      <th>radio</th>\n",
       "    </tr>\n",
       "  </thead>\n",
       "  <tbody>\n",
       "    <tr>\n",
       "      <th>0</th>\n",
       "      <td>11.2</td>\n",
       "      <td>75</td>\n",
       "      <td>19.9</td>\n",
       "      <td>Cherrie Tree</td>\n",
       "      <td>5.60</td>\n",
       "    </tr>\n",
       "    <tr>\n",
       "      <th>1</th>\n",
       "      <td>11.3</td>\n",
       "      <td>79</td>\n",
       "      <td>24.2</td>\n",
       "      <td>Cherry Tree</td>\n",
       "      <td>5.65</td>\n",
       "    </tr>\n",
       "    <tr>\n",
       "      <th>2</th>\n",
       "      <td>11.4</td>\n",
       "      <td>76</td>\n",
       "      <td>21.0</td>\n",
       "      <td>Cherry Tree</td>\n",
       "      <td>5.70</td>\n",
       "    </tr>\n",
       "    <tr>\n",
       "      <th>3</th>\n",
       "      <td>11.4</td>\n",
       "      <td>76</td>\n",
       "      <td>21.4</td>\n",
       "      <td>Apple Tree</td>\n",
       "      <td>5.70</td>\n",
       "    </tr>\n",
       "    <tr>\n",
       "      <th>4</th>\n",
       "      <td>13.7</td>\n",
       "      <td>71</td>\n",
       "      <td>25.7</td>\n",
       "      <td>Cherry Tree</td>\n",
       "      <td>6.85</td>\n",
       "    </tr>\n",
       "    <tr>\n",
       "      <th>5</th>\n",
       "      <td>13.8</td>\n",
       "      <td>64</td>\n",
       "      <td>24.9</td>\n",
       "      <td>Cherry Tree</td>\n",
       "      <td>6.90</td>\n",
       "    </tr>\n",
       "    <tr>\n",
       "      <th>6</th>\n",
       "      <td>14.0</td>\n",
       "      <td>78</td>\n",
       "      <td>34.5</td>\n",
       "      <td>Cherrie Tree</td>\n",
       "      <td>7.00</td>\n",
       "    </tr>\n",
       "    <tr>\n",
       "      <th>7</th>\n",
       "      <td>14.2</td>\n",
       "      <td>80</td>\n",
       "      <td>31.7</td>\n",
       "      <td>Cherry Tree</td>\n",
       "      <td>7.10</td>\n",
       "    </tr>\n",
       "    <tr>\n",
       "      <th>8</th>\n",
       "      <td>NaN</td>\n",
       "      <td>74</td>\n",
       "      <td>36.3</td>\n",
       "      <td>Apple Tree</td>\n",
       "      <td>NaN</td>\n",
       "    </tr>\n",
       "    <tr>\n",
       "      <th>9</th>\n",
       "      <td>16.0</td>\n",
       "      <td>72</td>\n",
       "      <td>38.3</td>\n",
       "      <td>Cherry Tree</td>\n",
       "      <td>8.00</td>\n",
       "    </tr>\n",
       "    <tr>\n",
       "      <th>10</th>\n",
       "      <td>16.3</td>\n",
       "      <td>77</td>\n",
       "      <td>42.6</td>\n",
       "      <td>Cherry Tree</td>\n",
       "      <td>8.15</td>\n",
       "    </tr>\n",
       "    <tr>\n",
       "      <th>11</th>\n",
       "      <td>17.3</td>\n",
       "      <td>81</td>\n",
       "      <td>55.4</td>\n",
       "      <td>Apple Tree</td>\n",
       "      <td>8.65</td>\n",
       "    </tr>\n",
       "    <tr>\n",
       "      <th>12</th>\n",
       "      <td>17.5</td>\n",
       "      <td>NaN</td>\n",
       "      <td>55.7</td>\n",
       "      <td>Cherry Tree</td>\n",
       "      <td>8.75</td>\n",
       "    </tr>\n",
       "    <tr>\n",
       "      <th>13</th>\n",
       "      <td>17.9</td>\n",
       "      <td>80</td>\n",
       "      <td>58.3</td>\n",
       "      <td>Cherry Tree</td>\n",
       "      <td>8.95</td>\n",
       "    </tr>\n",
       "    <tr>\n",
       "      <th>14</th>\n",
       "      <td>18.0</td>\n",
       "      <td>80</td>\n",
       "      <td>51.5</td>\n",
       "      <td>Cherry Tree</td>\n",
       "      <td>9.00</td>\n",
       "    </tr>\n",
       "    <tr>\n",
       "      <th>15</th>\n",
       "      <td>18.0</td>\n",
       "      <td>NaN</td>\n",
       "      <td>51.0</td>\n",
       "      <td>NaN</td>\n",
       "      <td>9.00</td>\n",
       "    </tr>\n",
       "    <tr>\n",
       "      <th>16</th>\n",
       "      <td>20.6</td>\n",
       "      <td>NaN</td>\n",
       "      <td>NaN</td>\n",
       "      <td>Cherry Tree</td>\n",
       "      <td>10.30</td>\n",
       "    </tr>\n",
       "  </tbody>\n",
       "</table>\n",
       "</div>"
      ],
      "text/plain": [
       "    diametro  altura  volumen tipo_de_arbol  radio\n",
       "0       11.2      75     19.9  Cherrie Tree   5.60\n",
       "1       11.3      79     24.2   Cherry Tree   5.65\n",
       "2       11.4      76     21.0   Cherry Tree   5.70\n",
       "3       11.4      76     21.4    Apple Tree   5.70\n",
       "4       13.7      71     25.7   Cherry Tree   6.85\n",
       "5       13.8      64     24.9   Cherry Tree   6.90\n",
       "6       14.0      78     34.5  Cherrie Tree   7.00\n",
       "7       14.2      80     31.7   Cherry Tree   7.10\n",
       "8        NaN      74     36.3    Apple Tree    NaN\n",
       "9       16.0      72     38.3   Cherry Tree   8.00\n",
       "10      16.3      77     42.6   Cherry Tree   8.15\n",
       "11      17.3      81     55.4    Apple Tree   8.65\n",
       "12      17.5     NaN     55.7   Cherry Tree   8.75\n",
       "13      17.9      80     58.3   Cherry Tree   8.95\n",
       "14      18.0      80     51.5   Cherry Tree   9.00\n",
       "15      18.0     NaN     51.0           NaN   9.00\n",
       "16      20.6     NaN      NaN   Cherry Tree  10.30"
      ]
     },
     "execution_count": 241,
     "metadata": {},
     "output_type": "execute_result"
    }
   ],
   "source": [
    "df = pd.read_csv(\"data/data.csv\", sep=\";\")\n",
    "df[\"radio\"] = .5 * df.diametro\n",
    "df"
   ]
  },
  {
   "cell_type": "code",
   "execution_count": 242,
   "metadata": {
    "slideshow": {
     "slide_type": "slide"
    }
   },
   "outputs": [
    {
     "data": {
      "text/plain": [
       "Index([u'diametro', u'altura', u'volumen', u'tipo_de_arbol', u'radio'], dtype='object')"
      ]
     },
     "execution_count": 242,
     "metadata": {},
     "output_type": "execute_result"
    }
   ],
   "source": [
    "df.area = np.pi * df.radio **2\n",
    "df.columns"
   ]
  },
  {
   "cell_type": "markdown",
   "metadata": {
    "slideshow": {
     "slide_type": "slide"
    }
   },
   "source": [
    "### 5.2 Renombrando columnas"
   ]
  },
  {
   "cell_type": "code",
   "execution_count": 243,
   "metadata": {},
   "outputs": [
    {
     "name": "stdout",
     "output_type": "stream",
     "text": [
      "Index([u'diametro', u'altura', u'volumen', u'tipo_de_arbol'], dtype='object')\n"
     ]
    }
   ],
   "source": [
    "df = pd.read_csv(\"data/data.csv\", sep=\";\")\n",
    "print( df.columns )\n",
    "df.columns = [\"RaDiO\",\"AlTuRa\",\"VoLuMeN\",\"TiPo_De_ArBoL\"]"
   ]
  },
  {
   "cell_type": "code",
   "execution_count": 248,
   "metadata": {},
   "outputs": [
    {
     "name": "stdout",
     "output_type": "stream",
     "text": [
      "Index([u'radio', u'altura', u'volumen', u'tipo_de_arbol'], dtype='object')\n"
     ]
    }
   ],
   "source": [
    "print( df.columns )"
   ]
  },
  {
   "cell_type": "code",
   "execution_count": 247,
   "metadata": {},
   "outputs": [
    {
     "name": "stdout",
     "output_type": "stream",
     "text": [
      "Index([u'radio', u'altura', u'volumen', u'tipo_de_arbol'], dtype='object')\n"
     ]
    }
   ],
   "source": [
    "df.columns = [col.lower() for col in df.columns]\n",
    "print( df.columns )"
   ]
  },
  {
   "cell_type": "markdown",
   "metadata": {
    "slideshow": {
     "slide_type": "slide"
    }
   },
   "source": [
    "### 5.3 Borrando columnas"
   ]
  },
  {
   "cell_type": "code",
   "execution_count": 258,
   "metadata": {},
   "outputs": [
    {
     "name": "stdout",
     "output_type": "stream",
     "text": [
      "Index([u'diametro', u'altura', u'volumen', u'tipo_de_arbol'], dtype='object')\n"
     ]
    }
   ],
   "source": [
    "df = pd.read_csv(\"data/data.csv\", sep=\";\")\n",
    "print( df.columns )"
   ]
  },
  {
   "cell_type": "code",
   "execution_count": 259,
   "metadata": {},
   "outputs": [
    {
     "data": {
      "text/html": [
       "<div style=\"max-height:1000px;max-width:1500px;overflow:auto;\">\n",
       "<table border=\"1\" class=\"dataframe\">\n",
       "  <thead>\n",
       "    <tr style=\"text-align: right;\">\n",
       "      <th></th>\n",
       "      <th>tipo_de_arbol</th>\n",
       "      <th>volumen</th>\n",
       "      <th>diametro</th>\n",
       "    </tr>\n",
       "  </thead>\n",
       "  <tbody>\n",
       "    <tr>\n",
       "      <th>0</th>\n",
       "      <td>Cherrie Tree</td>\n",
       "      <td>19.9</td>\n",
       "      <td>11.2</td>\n",
       "    </tr>\n",
       "    <tr>\n",
       "      <th>1</th>\n",
       "      <td>Cherry Tree</td>\n",
       "      <td>24.2</td>\n",
       "      <td>11.3</td>\n",
       "    </tr>\n",
       "    <tr>\n",
       "      <th>2</th>\n",
       "      <td>Cherry Tree</td>\n",
       "      <td>21.0</td>\n",
       "      <td>11.4</td>\n",
       "    </tr>\n",
       "    <tr>\n",
       "      <th>3</th>\n",
       "      <td>Apple Tree</td>\n",
       "      <td>21.4</td>\n",
       "      <td>11.4</td>\n",
       "    </tr>\n",
       "    <tr>\n",
       "      <th>4</th>\n",
       "      <td>Cherry Tree</td>\n",
       "      <td>25.7</td>\n",
       "      <td>13.7</td>\n",
       "    </tr>\n",
       "    <tr>\n",
       "      <th>5</th>\n",
       "      <td>Cherry Tree</td>\n",
       "      <td>24.9</td>\n",
       "      <td>13.8</td>\n",
       "    </tr>\n",
       "    <tr>\n",
       "      <th>6</th>\n",
       "      <td>Cherrie Tree</td>\n",
       "      <td>34.5</td>\n",
       "      <td>14.0</td>\n",
       "    </tr>\n",
       "    <tr>\n",
       "      <th>7</th>\n",
       "      <td>Cherry Tree</td>\n",
       "      <td>31.7</td>\n",
       "      <td>14.2</td>\n",
       "    </tr>\n",
       "    <tr>\n",
       "      <th>8</th>\n",
       "      <td>Apple Tree</td>\n",
       "      <td>36.3</td>\n",
       "      <td>NaN</td>\n",
       "    </tr>\n",
       "    <tr>\n",
       "      <th>9</th>\n",
       "      <td>Cherry Tree</td>\n",
       "      <td>38.3</td>\n",
       "      <td>16.0</td>\n",
       "    </tr>\n",
       "    <tr>\n",
       "      <th>10</th>\n",
       "      <td>Cherry Tree</td>\n",
       "      <td>42.6</td>\n",
       "      <td>16.3</td>\n",
       "    </tr>\n",
       "    <tr>\n",
       "      <th>11</th>\n",
       "      <td>Apple Tree</td>\n",
       "      <td>55.4</td>\n",
       "      <td>17.3</td>\n",
       "    </tr>\n",
       "    <tr>\n",
       "      <th>12</th>\n",
       "      <td>Cherry Tree</td>\n",
       "      <td>55.7</td>\n",
       "      <td>17.5</td>\n",
       "    </tr>\n",
       "    <tr>\n",
       "      <th>13</th>\n",
       "      <td>Cherry Tree</td>\n",
       "      <td>58.3</td>\n",
       "      <td>17.9</td>\n",
       "    </tr>\n",
       "    <tr>\n",
       "      <th>14</th>\n",
       "      <td>Cherry Tree</td>\n",
       "      <td>51.5</td>\n",
       "      <td>18.0</td>\n",
       "    </tr>\n",
       "    <tr>\n",
       "      <th>15</th>\n",
       "      <td>NaN</td>\n",
       "      <td>51.0</td>\n",
       "      <td>18.0</td>\n",
       "    </tr>\n",
       "    <tr>\n",
       "      <th>16</th>\n",
       "      <td>Cherry Tree</td>\n",
       "      <td>NaN</td>\n",
       "      <td>20.6</td>\n",
       "    </tr>\n",
       "  </tbody>\n",
       "</table>\n",
       "</div>"
      ],
      "text/plain": [
       "   tipo_de_arbol  volumen  diametro\n",
       "0   Cherrie Tree     19.9      11.2\n",
       "1    Cherry Tree     24.2      11.3\n",
       "2    Cherry Tree     21.0      11.4\n",
       "3     Apple Tree     21.4      11.4\n",
       "4    Cherry Tree     25.7      13.7\n",
       "5    Cherry Tree     24.9      13.8\n",
       "6   Cherrie Tree     34.5      14.0\n",
       "7    Cherry Tree     31.7      14.2\n",
       "8     Apple Tree     36.3       NaN\n",
       "9    Cherry Tree     38.3      16.0\n",
       "10   Cherry Tree     42.6      16.3\n",
       "11    Apple Tree     55.4      17.3\n",
       "12   Cherry Tree     55.7      17.5\n",
       "13   Cherry Tree     58.3      17.9\n",
       "14   Cherry Tree     51.5      18.0\n",
       "15           NaN     51.0      18.0\n",
       "16   Cherry Tree      NaN      20.6"
      ]
     },
     "execution_count": 259,
     "metadata": {},
     "output_type": "execute_result"
    }
   ],
   "source": [
    "df = df[[\"tipo_de_arbol\",\"volumen\", \"diametro\"]]\n",
    "df"
   ]
  },
  {
   "cell_type": "code",
   "execution_count": 260,
   "metadata": {},
   "outputs": [
    {
     "data": {
      "text/html": [
       "<div style=\"max-height:1000px;max-width:1500px;overflow:auto;\">\n",
       "<table border=\"1\" class=\"dataframe\">\n",
       "  <thead>\n",
       "    <tr style=\"text-align: right;\">\n",
       "      <th></th>\n",
       "      <th>volumen</th>\n",
       "      <th>diametro</th>\n",
       "    </tr>\n",
       "  </thead>\n",
       "  <tbody>\n",
       "    <tr>\n",
       "      <th>0</th>\n",
       "      <td>19.9</td>\n",
       "      <td>11.2</td>\n",
       "    </tr>\n",
       "    <tr>\n",
       "      <th>1</th>\n",
       "      <td>24.2</td>\n",
       "      <td>11.3</td>\n",
       "    </tr>\n",
       "    <tr>\n",
       "      <th>2</th>\n",
       "      <td>21.0</td>\n",
       "      <td>11.4</td>\n",
       "    </tr>\n",
       "    <tr>\n",
       "      <th>3</th>\n",
       "      <td>21.4</td>\n",
       "      <td>11.4</td>\n",
       "    </tr>\n",
       "    <tr>\n",
       "      <th>4</th>\n",
       "      <td>25.7</td>\n",
       "      <td>13.7</td>\n",
       "    </tr>\n",
       "    <tr>\n",
       "      <th>5</th>\n",
       "      <td>24.9</td>\n",
       "      <td>13.8</td>\n",
       "    </tr>\n",
       "    <tr>\n",
       "      <th>6</th>\n",
       "      <td>34.5</td>\n",
       "      <td>14.0</td>\n",
       "    </tr>\n",
       "    <tr>\n",
       "      <th>7</th>\n",
       "      <td>31.7</td>\n",
       "      <td>14.2</td>\n",
       "    </tr>\n",
       "    <tr>\n",
       "      <th>8</th>\n",
       "      <td>36.3</td>\n",
       "      <td>NaN</td>\n",
       "    </tr>\n",
       "    <tr>\n",
       "      <th>9</th>\n",
       "      <td>38.3</td>\n",
       "      <td>16.0</td>\n",
       "    </tr>\n",
       "    <tr>\n",
       "      <th>10</th>\n",
       "      <td>42.6</td>\n",
       "      <td>16.3</td>\n",
       "    </tr>\n",
       "    <tr>\n",
       "      <th>11</th>\n",
       "      <td>55.4</td>\n",
       "      <td>17.3</td>\n",
       "    </tr>\n",
       "    <tr>\n",
       "      <th>12</th>\n",
       "      <td>55.7</td>\n",
       "      <td>17.5</td>\n",
       "    </tr>\n",
       "    <tr>\n",
       "      <th>13</th>\n",
       "      <td>58.3</td>\n",
       "      <td>17.9</td>\n",
       "    </tr>\n",
       "    <tr>\n",
       "      <th>14</th>\n",
       "      <td>51.5</td>\n",
       "      <td>18.0</td>\n",
       "    </tr>\n",
       "    <tr>\n",
       "      <th>15</th>\n",
       "      <td>51.0</td>\n",
       "      <td>18.0</td>\n",
       "    </tr>\n",
       "    <tr>\n",
       "      <th>16</th>\n",
       "      <td>NaN</td>\n",
       "      <td>20.6</td>\n",
       "    </tr>\n",
       "  </tbody>\n",
       "</table>\n",
       "</div>"
      ],
      "text/plain": [
       "    volumen  diametro\n",
       "0      19.9      11.2\n",
       "1      24.2      11.3\n",
       "2      21.0      11.4\n",
       "3      21.4      11.4\n",
       "4      25.7      13.7\n",
       "5      24.9      13.8\n",
       "6      34.5      14.0\n",
       "7      31.7      14.2\n",
       "8      36.3       NaN\n",
       "9      38.3      16.0\n",
       "10     42.6      16.3\n",
       "11     55.4      17.3\n",
       "12     55.7      17.5\n",
       "13     58.3      17.9\n",
       "14     51.5      18.0\n",
       "15     51.0      18.0\n",
       "16      NaN      20.6"
      ]
     },
     "execution_count": 260,
     "metadata": {},
     "output_type": "execute_result"
    }
   ],
   "source": [
    "df = df.drop(\"tipo_de_arbol\", axis=1)\n",
    "df"
   ]
  },
  {
   "cell_type": "code",
   "execution_count": 261,
   "metadata": {},
   "outputs": [
    {
     "data": {
      "text/html": [
       "<div style=\"max-height:1000px;max-width:1500px;overflow:auto;\">\n",
       "<table border=\"1\" class=\"dataframe\">\n",
       "  <thead>\n",
       "    <tr style=\"text-align: right;\">\n",
       "      <th></th>\n",
       "      <th>volumen</th>\n",
       "    </tr>\n",
       "  </thead>\n",
       "  <tbody>\n",
       "    <tr>\n",
       "      <th>0</th>\n",
       "      <td>19.9</td>\n",
       "    </tr>\n",
       "    <tr>\n",
       "      <th>1</th>\n",
       "      <td>24.2</td>\n",
       "    </tr>\n",
       "    <tr>\n",
       "      <th>2</th>\n",
       "      <td>21.0</td>\n",
       "    </tr>\n",
       "    <tr>\n",
       "      <th>3</th>\n",
       "      <td>21.4</td>\n",
       "    </tr>\n",
       "    <tr>\n",
       "      <th>4</th>\n",
       "      <td>25.7</td>\n",
       "    </tr>\n",
       "    <tr>\n",
       "      <th>5</th>\n",
       "      <td>24.9</td>\n",
       "    </tr>\n",
       "    <tr>\n",
       "      <th>6</th>\n",
       "      <td>34.5</td>\n",
       "    </tr>\n",
       "    <tr>\n",
       "      <th>7</th>\n",
       "      <td>31.7</td>\n",
       "    </tr>\n",
       "    <tr>\n",
       "      <th>8</th>\n",
       "      <td>36.3</td>\n",
       "    </tr>\n",
       "    <tr>\n",
       "      <th>9</th>\n",
       "      <td>38.3</td>\n",
       "    </tr>\n",
       "    <tr>\n",
       "      <th>10</th>\n",
       "      <td>42.6</td>\n",
       "    </tr>\n",
       "    <tr>\n",
       "      <th>11</th>\n",
       "      <td>55.4</td>\n",
       "    </tr>\n",
       "    <tr>\n",
       "      <th>12</th>\n",
       "      <td>55.7</td>\n",
       "    </tr>\n",
       "    <tr>\n",
       "      <th>13</th>\n",
       "      <td>58.3</td>\n",
       "    </tr>\n",
       "    <tr>\n",
       "      <th>14</th>\n",
       "      <td>51.5</td>\n",
       "    </tr>\n",
       "    <tr>\n",
       "      <th>15</th>\n",
       "      <td>51.0</td>\n",
       "    </tr>\n",
       "    <tr>\n",
       "      <th>16</th>\n",
       "      <td>NaN</td>\n",
       "    </tr>\n",
       "  </tbody>\n",
       "</table>\n",
       "</div>"
      ],
      "text/plain": [
       "    volumen\n",
       "0      19.9\n",
       "1      24.2\n",
       "2      21.0\n",
       "3      21.4\n",
       "4      25.7\n",
       "5      24.9\n",
       "6      34.5\n",
       "7      31.7\n",
       "8      36.3\n",
       "9      38.3\n",
       "10     42.6\n",
       "11     55.4\n",
       "12     55.7\n",
       "13     58.3\n",
       "14     51.5\n",
       "15     51.0\n",
       "16      NaN"
      ]
     },
     "execution_count": 261,
     "metadata": {},
     "output_type": "execute_result"
    }
   ],
   "source": [
    "df.drop(\"diametro\", axis=1, inplace=True)\n",
    "df"
   ]
  },
  {
   "cell_type": "markdown",
   "metadata": {
    "slideshow": {
     "slide_type": "slide"
    }
   },
   "source": [
    "### 5.4 Agregando filas (indices)"
   ]
  },
  {
   "cell_type": "code",
   "execution_count": 263,
   "metadata": {},
   "outputs": [
    {
     "name": "stdout",
     "output_type": "stream",
     "text": [
      "Int64Index([0, 1, 2, 3, 4, 5, 6, 7, 8, 9, 10, 11, 12, 13, 14, 15, 16], dtype='int64')\n"
     ]
    },
    {
     "data": {
      "text/html": [
       "<div style=\"max-height:1000px;max-width:1500px;overflow:auto;\">\n",
       "<table border=\"1\" class=\"dataframe\">\n",
       "  <thead>\n",
       "    <tr style=\"text-align: right;\">\n",
       "      <th></th>\n",
       "      <th>diametro</th>\n",
       "      <th>altura</th>\n",
       "      <th>volumen</th>\n",
       "      <th>tipo_de_arbol</th>\n",
       "    </tr>\n",
       "  </thead>\n",
       "  <tbody>\n",
       "    <tr>\n",
       "      <th>0</th>\n",
       "      <td>11.2</td>\n",
       "      <td>75</td>\n",
       "      <td>19.9</td>\n",
       "      <td>Cherrie Tree</td>\n",
       "    </tr>\n",
       "    <tr>\n",
       "      <th>1</th>\n",
       "      <td>11.3</td>\n",
       "      <td>79</td>\n",
       "      <td>24.2</td>\n",
       "      <td>Cherry Tree</td>\n",
       "    </tr>\n",
       "    <tr>\n",
       "      <th>2</th>\n",
       "      <td>11.4</td>\n",
       "      <td>76</td>\n",
       "      <td>21.0</td>\n",
       "      <td>Cherry Tree</td>\n",
       "    </tr>\n",
       "    <tr>\n",
       "      <th>3</th>\n",
       "      <td>11.4</td>\n",
       "      <td>76</td>\n",
       "      <td>21.4</td>\n",
       "      <td>Apple Tree</td>\n",
       "    </tr>\n",
       "    <tr>\n",
       "      <th>4</th>\n",
       "      <td>13.7</td>\n",
       "      <td>71</td>\n",
       "      <td>25.7</td>\n",
       "      <td>Cherry Tree</td>\n",
       "    </tr>\n",
       "    <tr>\n",
       "      <th>5</th>\n",
       "      <td>13.8</td>\n",
       "      <td>64</td>\n",
       "      <td>24.9</td>\n",
       "      <td>Cherry Tree</td>\n",
       "    </tr>\n",
       "    <tr>\n",
       "      <th>6</th>\n",
       "      <td>14.0</td>\n",
       "      <td>78</td>\n",
       "      <td>34.5</td>\n",
       "      <td>Cherrie Tree</td>\n",
       "    </tr>\n",
       "    <tr>\n",
       "      <th>7</th>\n",
       "      <td>14.2</td>\n",
       "      <td>80</td>\n",
       "      <td>31.7</td>\n",
       "      <td>Cherry Tree</td>\n",
       "    </tr>\n",
       "    <tr>\n",
       "      <th>8</th>\n",
       "      <td>NaN</td>\n",
       "      <td>74</td>\n",
       "      <td>36.3</td>\n",
       "      <td>Apple Tree</td>\n",
       "    </tr>\n",
       "    <tr>\n",
       "      <th>9</th>\n",
       "      <td>16.0</td>\n",
       "      <td>72</td>\n",
       "      <td>38.3</td>\n",
       "      <td>Cherry Tree</td>\n",
       "    </tr>\n",
       "    <tr>\n",
       "      <th>10</th>\n",
       "      <td>16.3</td>\n",
       "      <td>77</td>\n",
       "      <td>42.6</td>\n",
       "      <td>Cherry Tree</td>\n",
       "    </tr>\n",
       "    <tr>\n",
       "      <th>11</th>\n",
       "      <td>17.3</td>\n",
       "      <td>81</td>\n",
       "      <td>55.4</td>\n",
       "      <td>Apple Tree</td>\n",
       "    </tr>\n",
       "    <tr>\n",
       "      <th>12</th>\n",
       "      <td>17.5</td>\n",
       "      <td>NaN</td>\n",
       "      <td>55.7</td>\n",
       "      <td>Cherry Tree</td>\n",
       "    </tr>\n",
       "    <tr>\n",
       "      <th>13</th>\n",
       "      <td>17.9</td>\n",
       "      <td>80</td>\n",
       "      <td>58.3</td>\n",
       "      <td>Cherry Tree</td>\n",
       "    </tr>\n",
       "    <tr>\n",
       "      <th>14</th>\n",
       "      <td>18.0</td>\n",
       "      <td>80</td>\n",
       "      <td>51.5</td>\n",
       "      <td>Cherry Tree</td>\n",
       "    </tr>\n",
       "    <tr>\n",
       "      <th>15</th>\n",
       "      <td>18.0</td>\n",
       "      <td>NaN</td>\n",
       "      <td>51.0</td>\n",
       "      <td>NaN</td>\n",
       "    </tr>\n",
       "    <tr>\n",
       "      <th>16</th>\n",
       "      <td>20.6</td>\n",
       "      <td>NaN</td>\n",
       "      <td>NaN</td>\n",
       "      <td>Cherry Tree</td>\n",
       "    </tr>\n",
       "  </tbody>\n",
       "</table>\n",
       "</div>"
      ],
      "text/plain": [
       "    diametro  altura  volumen tipo_de_arbol\n",
       "0       11.2      75     19.9  Cherrie Tree\n",
       "1       11.3      79     24.2   Cherry Tree\n",
       "2       11.4      76     21.0   Cherry Tree\n",
       "3       11.4      76     21.4    Apple Tree\n",
       "4       13.7      71     25.7   Cherry Tree\n",
       "5       13.8      64     24.9   Cherry Tree\n",
       "6       14.0      78     34.5  Cherrie Tree\n",
       "7       14.2      80     31.7   Cherry Tree\n",
       "8        NaN      74     36.3    Apple Tree\n",
       "9       16.0      72     38.3   Cherry Tree\n",
       "10      16.3      77     42.6   Cherry Tree\n",
       "11      17.3      81     55.4    Apple Tree\n",
       "12      17.5     NaN     55.7   Cherry Tree\n",
       "13      17.9      80     58.3   Cherry Tree\n",
       "14      18.0      80     51.5   Cherry Tree\n",
       "15      18.0     NaN     51.0           NaN\n",
       "16      20.6     NaN      NaN   Cherry Tree"
      ]
     },
     "execution_count": 263,
     "metadata": {},
     "output_type": "execute_result"
    }
   ],
   "source": [
    "df = pd.read_csv(\"data/data.csv\", sep=\";\")\n",
    "print( df.index )\n",
    "df"
   ]
  },
  {
   "cell_type": "code",
   "execution_count": 265,
   "metadata": {},
   "outputs": [
    {
     "data": {
      "text/html": [
       "<div style=\"max-height:1000px;max-width:1500px;overflow:auto;\">\n",
       "<table border=\"1\" class=\"dataframe\">\n",
       "  <thead>\n",
       "    <tr style=\"text-align: right;\">\n",
       "      <th></th>\n",
       "      <th>diametro</th>\n",
       "      <th>altura</th>\n",
       "      <th>volumen</th>\n",
       "      <th>tipo_de_arbol</th>\n",
       "    </tr>\n",
       "  </thead>\n",
       "  <tbody>\n",
       "    <tr>\n",
       "      <th>0</th>\n",
       "      <td>11.2</td>\n",
       "      <td>75</td>\n",
       "      <td>19.9</td>\n",
       "      <td>Cherrie Tree</td>\n",
       "    </tr>\n",
       "    <tr>\n",
       "      <th>1</th>\n",
       "      <td>11.3</td>\n",
       "      <td>79</td>\n",
       "      <td>24.2</td>\n",
       "      <td>Cherry Tree</td>\n",
       "    </tr>\n",
       "    <tr>\n",
       "      <th>2</th>\n",
       "      <td>11.4</td>\n",
       "      <td>76</td>\n",
       "      <td>21.0</td>\n",
       "      <td>Cherry Tree</td>\n",
       "    </tr>\n",
       "    <tr>\n",
       "      <th>3</th>\n",
       "      <td>11.4</td>\n",
       "      <td>76</td>\n",
       "      <td>21.4</td>\n",
       "      <td>Apple Tree</td>\n",
       "    </tr>\n",
       "    <tr>\n",
       "      <th>4</th>\n",
       "      <td>13.7</td>\n",
       "      <td>71</td>\n",
       "      <td>25.7</td>\n",
       "      <td>Cherry Tree</td>\n",
       "    </tr>\n",
       "    <tr>\n",
       "      <th>5</th>\n",
       "      <td>13.8</td>\n",
       "      <td>64</td>\n",
       "      <td>24.9</td>\n",
       "      <td>Cherry Tree</td>\n",
       "    </tr>\n",
       "    <tr>\n",
       "      <th>6</th>\n",
       "      <td>14.0</td>\n",
       "      <td>78</td>\n",
       "      <td>34.5</td>\n",
       "      <td>Cherrie Tree</td>\n",
       "    </tr>\n",
       "    <tr>\n",
       "      <th>7</th>\n",
       "      <td>14.2</td>\n",
       "      <td>80</td>\n",
       "      <td>31.7</td>\n",
       "      <td>Cherry Tree</td>\n",
       "    </tr>\n",
       "    <tr>\n",
       "      <th>8</th>\n",
       "      <td>NaN</td>\n",
       "      <td>74</td>\n",
       "      <td>36.3</td>\n",
       "      <td>Apple Tree</td>\n",
       "    </tr>\n",
       "    <tr>\n",
       "      <th>9</th>\n",
       "      <td>16.0</td>\n",
       "      <td>72</td>\n",
       "      <td>38.3</td>\n",
       "      <td>Cherry Tree</td>\n",
       "    </tr>\n",
       "    <tr>\n",
       "      <th>10</th>\n",
       "      <td>16.3</td>\n",
       "      <td>77</td>\n",
       "      <td>42.6</td>\n",
       "      <td>Cherry Tree</td>\n",
       "    </tr>\n",
       "    <tr>\n",
       "      <th>11</th>\n",
       "      <td>17.3</td>\n",
       "      <td>81</td>\n",
       "      <td>55.4</td>\n",
       "      <td>Apple Tree</td>\n",
       "    </tr>\n",
       "    <tr>\n",
       "      <th>12</th>\n",
       "      <td>17.5</td>\n",
       "      <td>NaN</td>\n",
       "      <td>55.7</td>\n",
       "      <td>Cherry Tree</td>\n",
       "    </tr>\n",
       "    <tr>\n",
       "      <th>13</th>\n",
       "      <td>17.9</td>\n",
       "      <td>80</td>\n",
       "      <td>58.3</td>\n",
       "      <td>Cherry Tree</td>\n",
       "    </tr>\n",
       "    <tr>\n",
       "      <th>14</th>\n",
       "      <td>18.0</td>\n",
       "      <td>80</td>\n",
       "      <td>51.5</td>\n",
       "      <td>Cherry Tree</td>\n",
       "    </tr>\n",
       "    <tr>\n",
       "      <th>15</th>\n",
       "      <td>18.0</td>\n",
       "      <td>NaN</td>\n",
       "      <td>51.0</td>\n",
       "      <td>NaN</td>\n",
       "    </tr>\n",
       "    <tr>\n",
       "      <th>16</th>\n",
       "      <td>20.6</td>\n",
       "      <td>NaN</td>\n",
       "      <td>NaN</td>\n",
       "      <td>Cherry Tree</td>\n",
       "    </tr>\n",
       "    <tr>\n",
       "      <th>17</th>\n",
       "      <td>NaN</td>\n",
       "      <td>NaN</td>\n",
       "      <td>NaN</td>\n",
       "      <td>NaN</td>\n",
       "    </tr>\n",
       "    <tr>\n",
       "      <th>18</th>\n",
       "      <td>NaN</td>\n",
       "      <td>NaN</td>\n",
       "      <td>NaN</td>\n",
       "      <td>NaN</td>\n",
       "    </tr>\n",
       "    <tr>\n",
       "      <th>19</th>\n",
       "      <td>NaN</td>\n",
       "      <td>NaN</td>\n",
       "      <td>NaN</td>\n",
       "      <td>NaN</td>\n",
       "    </tr>\n",
       "  </tbody>\n",
       "</table>\n",
       "</div>"
      ],
      "text/plain": [
       "    diametro  altura  volumen tipo_de_arbol\n",
       "0       11.2      75     19.9  Cherrie Tree\n",
       "1       11.3      79     24.2   Cherry Tree\n",
       "2       11.4      76     21.0   Cherry Tree\n",
       "3       11.4      76     21.4    Apple Tree\n",
       "4       13.7      71     25.7   Cherry Tree\n",
       "5       13.8      64     24.9   Cherry Tree\n",
       "6       14.0      78     34.5  Cherrie Tree\n",
       "7       14.2      80     31.7   Cherry Tree\n",
       "8        NaN      74     36.3    Apple Tree\n",
       "9       16.0      72     38.3   Cherry Tree\n",
       "10      16.3      77     42.6   Cherry Tree\n",
       "11      17.3      81     55.4    Apple Tree\n",
       "12      17.5     NaN     55.7   Cherry Tree\n",
       "13      17.9      80     58.3   Cherry Tree\n",
       "14      18.0      80     51.5   Cherry Tree\n",
       "15      18.0     NaN     51.0           NaN\n",
       "16      20.6     NaN      NaN   Cherry Tree\n",
       "17       NaN     NaN      NaN           NaN\n",
       "18       NaN     NaN      NaN           NaN\n",
       "19       NaN     NaN      NaN           NaN"
      ]
     },
     "execution_count": 265,
     "metadata": {},
     "output_type": "execute_result"
    }
   ],
   "source": [
    "df = df.reindex( range(20) )\n",
    "df"
   ]
  },
  {
   "cell_type": "code",
   "execution_count": 269,
   "metadata": {},
   "outputs": [
    {
     "data": {
      "text/html": [
       "<div style=\"max-height:1000px;max-width:1500px;overflow:auto;\">\n",
       "<table border=\"1\" class=\"dataframe\">\n",
       "  <thead>\n",
       "    <tr style=\"text-align: right;\">\n",
       "      <th></th>\n",
       "      <th>diametro</th>\n",
       "      <th>altura</th>\n",
       "      <th>volumen</th>\n",
       "      <th>tipo_de_arbol</th>\n",
       "    </tr>\n",
       "  </thead>\n",
       "  <tbody>\n",
       "    <tr>\n",
       "      <th>0</th>\n",
       "      <td>11.2</td>\n",
       "      <td>75</td>\n",
       "      <td>19.9</td>\n",
       "      <td>Cherrie Tree</td>\n",
       "    </tr>\n",
       "    <tr>\n",
       "      <th>1</th>\n",
       "      <td>11.3</td>\n",
       "      <td>79</td>\n",
       "      <td>24.2</td>\n",
       "      <td>Cherry Tree</td>\n",
       "    </tr>\n",
       "    <tr>\n",
       "      <th>2</th>\n",
       "      <td>11.4</td>\n",
       "      <td>76</td>\n",
       "      <td>21.0</td>\n",
       "      <td>Cherry Tree</td>\n",
       "    </tr>\n",
       "    <tr>\n",
       "      <th>3</th>\n",
       "      <td>11.4</td>\n",
       "      <td>76</td>\n",
       "      <td>21.4</td>\n",
       "      <td>Apple Tree</td>\n",
       "    </tr>\n",
       "    <tr>\n",
       "      <th>4</th>\n",
       "      <td>13.7</td>\n",
       "      <td>71</td>\n",
       "      <td>25.7</td>\n",
       "      <td>Cherry Tree</td>\n",
       "    </tr>\n",
       "    <tr>\n",
       "      <th>5</th>\n",
       "      <td>13.8</td>\n",
       "      <td>64</td>\n",
       "      <td>24.9</td>\n",
       "      <td>Cherry Tree</td>\n",
       "    </tr>\n",
       "    <tr>\n",
       "      <th>6</th>\n",
       "      <td>14.0</td>\n",
       "      <td>78</td>\n",
       "      <td>34.5</td>\n",
       "      <td>Cherrie Tree</td>\n",
       "    </tr>\n",
       "    <tr>\n",
       "      <th>7</th>\n",
       "      <td>14.2</td>\n",
       "      <td>80</td>\n",
       "      <td>31.7</td>\n",
       "      <td>Cherry Tree</td>\n",
       "    </tr>\n",
       "    <tr>\n",
       "      <th>8</th>\n",
       "      <td>NaN</td>\n",
       "      <td>74</td>\n",
       "      <td>36.3</td>\n",
       "      <td>Apple Tree</td>\n",
       "    </tr>\n",
       "    <tr>\n",
       "      <th>9</th>\n",
       "      <td>16.0</td>\n",
       "      <td>72</td>\n",
       "      <td>38.3</td>\n",
       "      <td>Cherry Tree</td>\n",
       "    </tr>\n",
       "    <tr>\n",
       "      <th>10</th>\n",
       "      <td>16.3</td>\n",
       "      <td>77</td>\n",
       "      <td>42.6</td>\n",
       "      <td>Cherry Tree</td>\n",
       "    </tr>\n",
       "    <tr>\n",
       "      <th>11</th>\n",
       "      <td>17.3</td>\n",
       "      <td>81</td>\n",
       "      <td>55.4</td>\n",
       "      <td>Apple Tree</td>\n",
       "    </tr>\n",
       "    <tr>\n",
       "      <th>12</th>\n",
       "      <td>17.5</td>\n",
       "      <td>NaN</td>\n",
       "      <td>55.7</td>\n",
       "      <td>Cherry Tree</td>\n",
       "    </tr>\n",
       "    <tr>\n",
       "      <th>13</th>\n",
       "      <td>17.9</td>\n",
       "      <td>80</td>\n",
       "      <td>58.3</td>\n",
       "      <td>Cherry Tree</td>\n",
       "    </tr>\n",
       "    <tr>\n",
       "      <th>14</th>\n",
       "      <td>18.0</td>\n",
       "      <td>80</td>\n",
       "      <td>51.5</td>\n",
       "      <td>Cherry Tree</td>\n",
       "    </tr>\n",
       "    <tr>\n",
       "      <th>15</th>\n",
       "      <td>18.0</td>\n",
       "      <td>NaN</td>\n",
       "      <td>51.0</td>\n",
       "      <td>NaN</td>\n",
       "    </tr>\n",
       "    <tr>\n",
       "      <th>16</th>\n",
       "      <td>20.6</td>\n",
       "      <td>NaN</td>\n",
       "      <td>NaN</td>\n",
       "      <td>Cherry Tree</td>\n",
       "    </tr>\n",
       "    <tr>\n",
       "      <th>17</th>\n",
       "      <td>NaN</td>\n",
       "      <td>NaN</td>\n",
       "      <td>NaN</td>\n",
       "      <td>NaN</td>\n",
       "    </tr>\n",
       "    <tr>\n",
       "      <th>18</th>\n",
       "      <td>NaN</td>\n",
       "      <td>NaN</td>\n",
       "      <td>NaN</td>\n",
       "      <td>NaN</td>\n",
       "    </tr>\n",
       "    <tr>\n",
       "      <th>19</th>\n",
       "      <td>NaN</td>\n",
       "      <td>NaN</td>\n",
       "      <td>NaN</td>\n",
       "      <td>NaN</td>\n",
       "    </tr>\n",
       "    <tr>\n",
       "      <th>20</th>\n",
       "      <td>10.0</td>\n",
       "      <td>20</td>\n",
       "      <td>30.0</td>\n",
       "      <td>CT</td>\n",
       "    </tr>\n",
       "  </tbody>\n",
       "</table>\n",
       "</div>"
      ],
      "text/plain": [
       "    diametro  altura  volumen tipo_de_arbol\n",
       "0       11.2      75     19.9  Cherrie Tree\n",
       "1       11.3      79     24.2   Cherry Tree\n",
       "2       11.4      76     21.0   Cherry Tree\n",
       "3       11.4      76     21.4    Apple Tree\n",
       "4       13.7      71     25.7   Cherry Tree\n",
       "5       13.8      64     24.9   Cherry Tree\n",
       "6       14.0      78     34.5  Cherrie Tree\n",
       "7       14.2      80     31.7   Cherry Tree\n",
       "8        NaN      74     36.3    Apple Tree\n",
       "9       16.0      72     38.3   Cherry Tree\n",
       "10      16.3      77     42.6   Cherry Tree\n",
       "11      17.3      81     55.4    Apple Tree\n",
       "12      17.5     NaN     55.7   Cherry Tree\n",
       "13      17.9      80     58.3   Cherry Tree\n",
       "14      18.0      80     51.5   Cherry Tree\n",
       "15      18.0     NaN     51.0           NaN\n",
       "16      20.6     NaN      NaN   Cherry Tree\n",
       "17       NaN     NaN      NaN           NaN\n",
       "18       NaN     NaN      NaN           NaN\n",
       "19       NaN     NaN      NaN           NaN\n",
       "20      10.0      20     30.0            CT"
      ]
     },
     "execution_count": 269,
     "metadata": {},
     "output_type": "execute_result"
    }
   ],
   "source": [
    "# Usando loc para acceder con notación de indices tradicional\n",
    "df.loc[20, :] = [10, 20, 30, \"CT\"]\n",
    "df"
   ]
  },
  {
   "cell_type": "markdown",
   "metadata": {
    "slideshow": {
     "slide_type": "slide"
    }
   },
   "source": [
    "### 5.5 Renombrando filas (índices)"
   ]
  },
  {
   "cell_type": "code",
   "execution_count": 270,
   "metadata": {},
   "outputs": [
    {
     "name": "stdout",
     "output_type": "stream",
     "text": [
      "Int64Index([0, 1, 2, 3, 4, 5, 6, 7, 8, 9, 10, 11, 12, 13, 14, 15, 16], dtype='int64')\n"
     ]
    }
   ],
   "source": [
    "df = pd.read_csv(\"data/data.csv\", sep=\";\")\n",
    "print df.index"
   ]
  },
  {
   "cell_type": "code",
   "execution_count": 271,
   "metadata": {},
   "outputs": [
    {
     "name": "stdout",
     "output_type": "stream",
     "text": [
      "Int64Index([10, 11, 12, 13, 14, 15, 16, 17, 18, 19, 20, 21, 22, 23, 24, 25,\n",
      "            26],\n",
      "           dtype='int64')\n"
     ]
    }
   ],
   "source": [
    "df.index = df.index + 10\n",
    "print df.index"
   ]
  },
  {
   "cell_type": "code",
   "execution_count": 272,
   "metadata": {},
   "outputs": [
    {
     "name": "stdout",
     "output_type": "stream",
     "text": [
      "Index([u'i_10', u'i_11', u'i_12', u'i_13', u'i_14', u'i_15', u'i_16', u'i_17',\n",
      "       u'i_18', u'i_19', u'i_20', u'i_21', u'i_22', u'i_23', u'i_24', u'i_25',\n",
      "       u'i_26'],\n",
      "      dtype='object')\n"
     ]
    }
   ],
   "source": [
    "df.index = [\"i_%d\"%idx for idx in df.index]\n",
    "print df.index"
   ]
  },
  {
   "cell_type": "markdown",
   "metadata": {
    "slideshow": {
     "slide_type": "slide"
    }
   },
   "source": [
    "### 5.6 Borrando indices"
   ]
  },
  {
   "cell_type": "code",
   "execution_count": 273,
   "metadata": {},
   "outputs": [
    {
     "name": "stdout",
     "output_type": "stream",
     "text": [
      "Index([u'i_10', u'i_11', u'i_12', u'i_13', u'i_14', u'i_15', u'i_16', u'i_17',\n",
      "       u'i_18', u'i_19', u'i_20', u'i_21', u'i_22', u'i_23', u'i_24', u'i_25',\n",
      "       u'i_26'],\n",
      "      dtype='object')\n"
     ]
    },
    {
     "data": {
      "text/html": [
       "<div style=\"max-height:1000px;max-width:1500px;overflow:auto;\">\n",
       "<table border=\"1\" class=\"dataframe\">\n",
       "  <thead>\n",
       "    <tr style=\"text-align: right;\">\n",
       "      <th></th>\n",
       "      <th>diametro</th>\n",
       "      <th>altura</th>\n",
       "      <th>volumen</th>\n",
       "      <th>tipo_de_arbol</th>\n",
       "    </tr>\n",
       "  </thead>\n",
       "  <tbody>\n",
       "    <tr>\n",
       "      <th>i_10</th>\n",
       "      <td>11.2</td>\n",
       "      <td>75</td>\n",
       "      <td>19.9</td>\n",
       "      <td>Cherrie Tree</td>\n",
       "    </tr>\n",
       "    <tr>\n",
       "      <th>i_11</th>\n",
       "      <td>11.3</td>\n",
       "      <td>79</td>\n",
       "      <td>24.2</td>\n",
       "      <td>Cherry Tree</td>\n",
       "    </tr>\n",
       "    <tr>\n",
       "      <th>i_12</th>\n",
       "      <td>11.4</td>\n",
       "      <td>76</td>\n",
       "      <td>21.0</td>\n",
       "      <td>Cherry Tree</td>\n",
       "    </tr>\n",
       "    <tr>\n",
       "      <th>i_13</th>\n",
       "      <td>11.4</td>\n",
       "      <td>76</td>\n",
       "      <td>21.4</td>\n",
       "      <td>Apple Tree</td>\n",
       "    </tr>\n",
       "    <tr>\n",
       "      <th>i_14</th>\n",
       "      <td>13.7</td>\n",
       "      <td>71</td>\n",
       "      <td>25.7</td>\n",
       "      <td>Cherry Tree</td>\n",
       "    </tr>\n",
       "    <tr>\n",
       "      <th>i_15</th>\n",
       "      <td>13.8</td>\n",
       "      <td>64</td>\n",
       "      <td>24.9</td>\n",
       "      <td>Cherry Tree</td>\n",
       "    </tr>\n",
       "    <tr>\n",
       "      <th>i_16</th>\n",
       "      <td>14.0</td>\n",
       "      <td>78</td>\n",
       "      <td>34.5</td>\n",
       "      <td>Cherrie Tree</td>\n",
       "    </tr>\n",
       "    <tr>\n",
       "      <th>i_17</th>\n",
       "      <td>14.2</td>\n",
       "      <td>80</td>\n",
       "      <td>31.7</td>\n",
       "      <td>Cherry Tree</td>\n",
       "    </tr>\n",
       "    <tr>\n",
       "      <th>i_18</th>\n",
       "      <td>NaN</td>\n",
       "      <td>74</td>\n",
       "      <td>36.3</td>\n",
       "      <td>Apple Tree</td>\n",
       "    </tr>\n",
       "    <tr>\n",
       "      <th>i_19</th>\n",
       "      <td>16.0</td>\n",
       "      <td>72</td>\n",
       "      <td>38.3</td>\n",
       "      <td>Cherry Tree</td>\n",
       "    </tr>\n",
       "    <tr>\n",
       "      <th>i_20</th>\n",
       "      <td>16.3</td>\n",
       "      <td>77</td>\n",
       "      <td>42.6</td>\n",
       "      <td>Cherry Tree</td>\n",
       "    </tr>\n",
       "    <tr>\n",
       "      <th>i_21</th>\n",
       "      <td>17.3</td>\n",
       "      <td>81</td>\n",
       "      <td>55.4</td>\n",
       "      <td>Apple Tree</td>\n",
       "    </tr>\n",
       "    <tr>\n",
       "      <th>i_22</th>\n",
       "      <td>17.5</td>\n",
       "      <td>NaN</td>\n",
       "      <td>55.7</td>\n",
       "      <td>Cherry Tree</td>\n",
       "    </tr>\n",
       "    <tr>\n",
       "      <th>i_23</th>\n",
       "      <td>17.9</td>\n",
       "      <td>80</td>\n",
       "      <td>58.3</td>\n",
       "      <td>Cherry Tree</td>\n",
       "    </tr>\n",
       "    <tr>\n",
       "      <th>i_24</th>\n",
       "      <td>18.0</td>\n",
       "      <td>80</td>\n",
       "      <td>51.5</td>\n",
       "      <td>Cherry Tree</td>\n",
       "    </tr>\n",
       "    <tr>\n",
       "      <th>i_25</th>\n",
       "      <td>18.0</td>\n",
       "      <td>NaN</td>\n",
       "      <td>51.0</td>\n",
       "      <td>NaN</td>\n",
       "    </tr>\n",
       "    <tr>\n",
       "      <th>i_26</th>\n",
       "      <td>20.6</td>\n",
       "      <td>NaN</td>\n",
       "      <td>NaN</td>\n",
       "      <td>Cherry Tree</td>\n",
       "    </tr>\n",
       "  </tbody>\n",
       "</table>\n",
       "</div>"
      ],
      "text/plain": [
       "      diametro  altura  volumen tipo_de_arbol\n",
       "i_10      11.2      75     19.9  Cherrie Tree\n",
       "i_11      11.3      79     24.2   Cherry Tree\n",
       "i_12      11.4      76     21.0   Cherry Tree\n",
       "i_13      11.4      76     21.4    Apple Tree\n",
       "i_14      13.7      71     25.7   Cherry Tree\n",
       "i_15      13.8      64     24.9   Cherry Tree\n",
       "i_16      14.0      78     34.5  Cherrie Tree\n",
       "i_17      14.2      80     31.7   Cherry Tree\n",
       "i_18       NaN      74     36.3    Apple Tree\n",
       "i_19      16.0      72     38.3   Cherry Tree\n",
       "i_20      16.3      77     42.6   Cherry Tree\n",
       "i_21      17.3      81     55.4    Apple Tree\n",
       "i_22      17.5     NaN     55.7   Cherry Tree\n",
       "i_23      17.9      80     58.3   Cherry Tree\n",
       "i_24      18.0      80     51.5   Cherry Tree\n",
       "i_25      18.0     NaN     51.0           NaN\n",
       "i_26      20.6     NaN      NaN   Cherry Tree"
      ]
     },
     "execution_count": 273,
     "metadata": {},
     "output_type": "execute_result"
    }
   ],
   "source": [
    "print df.index\n",
    "df"
   ]
  },
  {
   "cell_type": "code",
   "execution_count": 274,
   "metadata": {},
   "outputs": [
    {
     "name": "stdout",
     "output_type": "stream",
     "text": [
      "Index([u'i_10', u'i_12', u'i_14', u'i_15', u'i_16', u'i_17', u'i_18', u'i_20',\n",
      "       u'i_21', u'i_22', u'i_23', u'i_24', u'i_25', u'i_26'],\n",
      "      dtype='object')\n"
     ]
    },
    {
     "data": {
      "text/html": [
       "<div style=\"max-height:1000px;max-width:1500px;overflow:auto;\">\n",
       "<table border=\"1\" class=\"dataframe\">\n",
       "  <thead>\n",
       "    <tr style=\"text-align: right;\">\n",
       "      <th></th>\n",
       "      <th>diametro</th>\n",
       "      <th>altura</th>\n",
       "      <th>volumen</th>\n",
       "      <th>tipo_de_arbol</th>\n",
       "    </tr>\n",
       "  </thead>\n",
       "  <tbody>\n",
       "    <tr>\n",
       "      <th>i_10</th>\n",
       "      <td>11.2</td>\n",
       "      <td>75</td>\n",
       "      <td>19.9</td>\n",
       "      <td>Cherrie Tree</td>\n",
       "    </tr>\n",
       "    <tr>\n",
       "      <th>i_12</th>\n",
       "      <td>11.4</td>\n",
       "      <td>76</td>\n",
       "      <td>21.0</td>\n",
       "      <td>Cherry Tree</td>\n",
       "    </tr>\n",
       "    <tr>\n",
       "      <th>i_14</th>\n",
       "      <td>13.7</td>\n",
       "      <td>71</td>\n",
       "      <td>25.7</td>\n",
       "      <td>Cherry Tree</td>\n",
       "    </tr>\n",
       "    <tr>\n",
       "      <th>i_15</th>\n",
       "      <td>13.8</td>\n",
       "      <td>64</td>\n",
       "      <td>24.9</td>\n",
       "      <td>Cherry Tree</td>\n",
       "    </tr>\n",
       "    <tr>\n",
       "      <th>i_16</th>\n",
       "      <td>14.0</td>\n",
       "      <td>78</td>\n",
       "      <td>34.5</td>\n",
       "      <td>Cherrie Tree</td>\n",
       "    </tr>\n",
       "    <tr>\n",
       "      <th>i_17</th>\n",
       "      <td>14.2</td>\n",
       "      <td>80</td>\n",
       "      <td>31.7</td>\n",
       "      <td>Cherry Tree</td>\n",
       "    </tr>\n",
       "    <tr>\n",
       "      <th>i_18</th>\n",
       "      <td>NaN</td>\n",
       "      <td>74</td>\n",
       "      <td>36.3</td>\n",
       "      <td>Apple Tree</td>\n",
       "    </tr>\n",
       "    <tr>\n",
       "      <th>i_20</th>\n",
       "      <td>16.3</td>\n",
       "      <td>77</td>\n",
       "      <td>42.6</td>\n",
       "      <td>Cherry Tree</td>\n",
       "    </tr>\n",
       "    <tr>\n",
       "      <th>i_21</th>\n",
       "      <td>17.3</td>\n",
       "      <td>81</td>\n",
       "      <td>55.4</td>\n",
       "      <td>Apple Tree</td>\n",
       "    </tr>\n",
       "    <tr>\n",
       "      <th>i_22</th>\n",
       "      <td>17.5</td>\n",
       "      <td>NaN</td>\n",
       "      <td>55.7</td>\n",
       "      <td>Cherry Tree</td>\n",
       "    </tr>\n",
       "    <tr>\n",
       "      <th>i_23</th>\n",
       "      <td>17.9</td>\n",
       "      <td>80</td>\n",
       "      <td>58.3</td>\n",
       "      <td>Cherry Tree</td>\n",
       "    </tr>\n",
       "    <tr>\n",
       "      <th>i_24</th>\n",
       "      <td>18.0</td>\n",
       "      <td>80</td>\n",
       "      <td>51.5</td>\n",
       "      <td>Cherry Tree</td>\n",
       "    </tr>\n",
       "    <tr>\n",
       "      <th>i_25</th>\n",
       "      <td>18.0</td>\n",
       "      <td>NaN</td>\n",
       "      <td>51.0</td>\n",
       "      <td>NaN</td>\n",
       "    </tr>\n",
       "    <tr>\n",
       "      <th>i_26</th>\n",
       "      <td>20.6</td>\n",
       "      <td>NaN</td>\n",
       "      <td>NaN</td>\n",
       "      <td>Cherry Tree</td>\n",
       "    </tr>\n",
       "  </tbody>\n",
       "</table>\n",
       "</div>"
      ],
      "text/plain": [
       "      diametro  altura  volumen tipo_de_arbol\n",
       "i_10      11.2      75     19.9  Cherrie Tree\n",
       "i_12      11.4      76     21.0   Cherry Tree\n",
       "i_14      13.7      71     25.7   Cherry Tree\n",
       "i_15      13.8      64     24.9   Cherry Tree\n",
       "i_16      14.0      78     34.5  Cherrie Tree\n",
       "i_17      14.2      80     31.7   Cherry Tree\n",
       "i_18       NaN      74     36.3    Apple Tree\n",
       "i_20      16.3      77     42.6   Cherry Tree\n",
       "i_21      17.3      81     55.4    Apple Tree\n",
       "i_22      17.5     NaN     55.7   Cherry Tree\n",
       "i_23      17.9      80     58.3   Cherry Tree\n",
       "i_24      18.0      80     51.5   Cherry Tree\n",
       "i_25      18.0     NaN     51.0           NaN\n",
       "i_26      20.6     NaN      NaN   Cherry Tree"
      ]
     },
     "execution_count": 274,
     "metadata": {},
     "output_type": "execute_result"
    }
   ],
   "source": [
    "df = df.drop([\"i_11\",\"i_13\",\"i_19\"], axis=0)\n",
    "print( df.index )\n",
    "df"
   ]
  },
  {
   "cell_type": "code",
   "execution_count": 275,
   "metadata": {
    "slideshow": {
     "slide_type": "slide"
    }
   },
   "outputs": [
    {
     "data": {
      "text/html": [
       "<div style=\"max-height:1000px;max-width:1500px;overflow:auto;\">\n",
       "<table border=\"1\" class=\"dataframe\">\n",
       "  <thead>\n",
       "    <tr style=\"text-align: right;\">\n",
       "      <th></th>\n",
       "      <th>diametro</th>\n",
       "      <th>altura</th>\n",
       "      <th>volumen</th>\n",
       "      <th>tipo_de_arbol</th>\n",
       "    </tr>\n",
       "  </thead>\n",
       "  <tbody>\n",
       "    <tr>\n",
       "      <th>i_10</th>\n",
       "      <td>11.2</td>\n",
       "      <td>75</td>\n",
       "      <td>19.9</td>\n",
       "      <td>Cherrie Tree</td>\n",
       "    </tr>\n",
       "    <tr>\n",
       "      <th>i_12</th>\n",
       "      <td>11.4</td>\n",
       "      <td>76</td>\n",
       "      <td>21.0</td>\n",
       "      <td>Cherry Tree</td>\n",
       "    </tr>\n",
       "    <tr>\n",
       "      <th>i_14</th>\n",
       "      <td>13.7</td>\n",
       "      <td>71</td>\n",
       "      <td>25.7</td>\n",
       "      <td>Cherry Tree</td>\n",
       "    </tr>\n",
       "    <tr>\n",
       "      <th>i_15</th>\n",
       "      <td>13.8</td>\n",
       "      <td>64</td>\n",
       "      <td>24.9</td>\n",
       "      <td>Cherry Tree</td>\n",
       "    </tr>\n",
       "    <tr>\n",
       "      <th>i_16</th>\n",
       "      <td>14.0</td>\n",
       "      <td>78</td>\n",
       "      <td>34.5</td>\n",
       "      <td>Cherrie Tree</td>\n",
       "    </tr>\n",
       "    <tr>\n",
       "      <th>i_17</th>\n",
       "      <td>14.2</td>\n",
       "      <td>80</td>\n",
       "      <td>31.7</td>\n",
       "      <td>Cherry Tree</td>\n",
       "    </tr>\n",
       "    <tr>\n",
       "      <th>i_18</th>\n",
       "      <td>NaN</td>\n",
       "      <td>74</td>\n",
       "      <td>36.3</td>\n",
       "      <td>Apple Tree</td>\n",
       "    </tr>\n",
       "    <tr>\n",
       "      <th>i_20</th>\n",
       "      <td>16.3</td>\n",
       "      <td>77</td>\n",
       "      <td>42.6</td>\n",
       "      <td>Cherry Tree</td>\n",
       "    </tr>\n",
       "    <tr>\n",
       "      <th>i_21</th>\n",
       "      <td>17.3</td>\n",
       "      <td>81</td>\n",
       "      <td>55.4</td>\n",
       "      <td>Apple Tree</td>\n",
       "    </tr>\n",
       "    <tr>\n",
       "      <th>i_22</th>\n",
       "      <td>17.5</td>\n",
       "      <td>NaN</td>\n",
       "      <td>55.7</td>\n",
       "      <td>Cherry Tree</td>\n",
       "    </tr>\n",
       "    <tr>\n",
       "      <th>i_23</th>\n",
       "      <td>17.9</td>\n",
       "      <td>80</td>\n",
       "      <td>58.3</td>\n",
       "      <td>Cherry Tree</td>\n",
       "    </tr>\n",
       "  </tbody>\n",
       "</table>\n",
       "</div>"
      ],
      "text/plain": [
       "      diametro  altura  volumen tipo_de_arbol\n",
       "i_10      11.2      75     19.9  Cherrie Tree\n",
       "i_12      11.4      76     21.0   Cherry Tree\n",
       "i_14      13.7      71     25.7   Cherry Tree\n",
       "i_15      13.8      64     24.9   Cherry Tree\n",
       "i_16      14.0      78     34.5  Cherrie Tree\n",
       "i_17      14.2      80     31.7   Cherry Tree\n",
       "i_18       NaN      74     36.3    Apple Tree\n",
       "i_20      16.3      77     42.6   Cherry Tree\n",
       "i_21      17.3      81     55.4    Apple Tree\n",
       "i_22      17.5     NaN     55.7   Cherry Tree\n",
       "i_23      17.9      80     58.3   Cherry Tree"
      ]
     },
     "execution_count": 275,
     "metadata": {},
     "output_type": "execute_result"
    }
   ],
   "source": [
    "df.drop([\"i_24\",\"i_25\",\"i_26\"], axis=0, inplace=True)\n",
    "df"
   ]
  },
  {
   "cell_type": "code",
   "execution_count": 276,
   "metadata": {
    "slideshow": {
     "slide_type": "slide"
    }
   },
   "outputs": [
    {
     "data": {
      "text/html": [
       "<div style=\"max-height:1000px;max-width:1500px;overflow:auto;\">\n",
       "<table border=\"1\" class=\"dataframe\">\n",
       "  <thead>\n",
       "    <tr style=\"text-align: right;\">\n",
       "      <th></th>\n",
       "      <th>diametro</th>\n",
       "      <th>altura</th>\n",
       "      <th>volumen</th>\n",
       "      <th>tipo_de_arbol</th>\n",
       "    </tr>\n",
       "  </thead>\n",
       "  <tbody>\n",
       "    <tr>\n",
       "      <th>i_18</th>\n",
       "      <td>NaN</td>\n",
       "      <td>74</td>\n",
       "      <td>36.3</td>\n",
       "      <td>Apple Tree</td>\n",
       "    </tr>\n",
       "    <tr>\n",
       "      <th>i_20</th>\n",
       "      <td>16.3</td>\n",
       "      <td>77</td>\n",
       "      <td>42.6</td>\n",
       "      <td>Cherry Tree</td>\n",
       "    </tr>\n",
       "    <tr>\n",
       "      <th>i_21</th>\n",
       "      <td>17.3</td>\n",
       "      <td>81</td>\n",
       "      <td>55.4</td>\n",
       "      <td>Apple Tree</td>\n",
       "    </tr>\n",
       "    <tr>\n",
       "      <th>i_22</th>\n",
       "      <td>17.5</td>\n",
       "      <td>NaN</td>\n",
       "      <td>55.7</td>\n",
       "      <td>Cherry Tree</td>\n",
       "    </tr>\n",
       "    <tr>\n",
       "      <th>i_23</th>\n",
       "      <td>17.9</td>\n",
       "      <td>80</td>\n",
       "      <td>58.3</td>\n",
       "      <td>Cherry Tree</td>\n",
       "    </tr>\n",
       "  </tbody>\n",
       "</table>\n",
       "</div>"
      ],
      "text/plain": [
       "      diametro  altura  volumen tipo_de_arbol\n",
       "i_18       NaN      74     36.3    Apple Tree\n",
       "i_20      16.3      77     42.6   Cherry Tree\n",
       "i_21      17.3      81     55.4    Apple Tree\n",
       "i_22      17.5     NaN     55.7   Cherry Tree\n",
       "i_23      17.9      80     58.3   Cherry Tree"
      ]
     },
     "execution_count": 276,
     "metadata": {},
     "output_type": "execute_result"
    }
   ],
   "source": [
    "df = df[-5:]\n",
    "df"
   ]
  },
  {
   "cell_type": "markdown",
   "metadata": {
    "slideshow": {
     "slide_type": "slide"
    }
   },
   "source": [
    "**Observación**\n",
    "```python\n",
    "# seleccionar la columna col\n",
    "# regresa una serie\n",
    "df[col] \n",
    "\n",
    "# seleccionar las columnas col1, col2, ..., coln\n",
    "# regresa dataframe\n",
    "df[[col1,col2,.., coln]] \n",
    "\n",
    "# selecciona solo el indice inicio\n",
    "# regresa un dataframe\n",
    "df[inicio:(inicio+1)] \n",
    "\n",
    "# selecciona los indices en notacion\n",
    "#regresa un dataframe\n",
    "df[inicio:fin:salto] \n",
    "\n",
    "# seleccion mixta\n",
    "# regresa un dataframe\n",
    "df.loc[inicio:fin:salto, col1:col2]\n",
    "```"
   ]
  },
  {
   "cell_type": "markdown",
   "metadata": {
    "slideshow": {
     "slide_type": "slide"
    }
   },
   "source": [
    "### 5.7 Masking"
   ]
  },
  {
   "cell_type": "code",
   "execution_count": 277,
   "metadata": {},
   "outputs": [],
   "source": [
    "df = pd.read_csv(\"data/data.csv\", sep=\";\")\n",
    "vol_mean = df.volumen.mean()\n",
    "vol_std = df.volumen.std()"
   ]
  },
  {
   "cell_type": "code",
   "execution_count": 279,
   "metadata": {},
   "outputs": [
    {
     "data": {
      "text/html": [
       "<div style=\"max-height:1000px;max-width:1500px;overflow:auto;\">\n",
       "<table border=\"1\" class=\"dataframe\">\n",
       "  <thead>\n",
       "    <tr style=\"text-align: right;\">\n",
       "      <th></th>\n",
       "      <th>diametro</th>\n",
       "      <th>altura</th>\n",
       "      <th>volumen</th>\n",
       "      <th>tipo_de_arbol</th>\n",
       "    </tr>\n",
       "  </thead>\n",
       "  <tbody>\n",
       "    <tr>\n",
       "      <th>0</th>\n",
       "      <td>11.2</td>\n",
       "      <td>75</td>\n",
       "      <td>19.9</td>\n",
       "      <td>Cherrie Tree</td>\n",
       "    </tr>\n",
       "    <tr>\n",
       "      <th>1</th>\n",
       "      <td>11.3</td>\n",
       "      <td>79</td>\n",
       "      <td>24.2</td>\n",
       "      <td>Cherry Tree</td>\n",
       "    </tr>\n",
       "    <tr>\n",
       "      <th>2</th>\n",
       "      <td>11.4</td>\n",
       "      <td>76</td>\n",
       "      <td>21.0</td>\n",
       "      <td>Cherry Tree</td>\n",
       "    </tr>\n",
       "    <tr>\n",
       "      <th>3</th>\n",
       "      <td>11.4</td>\n",
       "      <td>76</td>\n",
       "      <td>21.4</td>\n",
       "      <td>Apple Tree</td>\n",
       "    </tr>\n",
       "    <tr>\n",
       "      <th>4</th>\n",
       "      <td>13.7</td>\n",
       "      <td>71</td>\n",
       "      <td>25.7</td>\n",
       "      <td>Cherry Tree</td>\n",
       "    </tr>\n",
       "    <tr>\n",
       "      <th>5</th>\n",
       "      <td>13.8</td>\n",
       "      <td>64</td>\n",
       "      <td>24.9</td>\n",
       "      <td>Cherry Tree</td>\n",
       "    </tr>\n",
       "    <tr>\n",
       "      <th>6</th>\n",
       "      <td>14.0</td>\n",
       "      <td>78</td>\n",
       "      <td>34.5</td>\n",
       "      <td>Cherrie Tree</td>\n",
       "    </tr>\n",
       "    <tr>\n",
       "      <th>8</th>\n",
       "      <td>NaN</td>\n",
       "      <td>74</td>\n",
       "      <td>36.3</td>\n",
       "      <td>Apple Tree</td>\n",
       "    </tr>\n",
       "    <tr>\n",
       "      <th>9</th>\n",
       "      <td>16.0</td>\n",
       "      <td>72</td>\n",
       "      <td>38.3</td>\n",
       "      <td>Cherry Tree</td>\n",
       "    </tr>\n",
       "    <tr>\n",
       "      <th>10</th>\n",
       "      <td>16.3</td>\n",
       "      <td>77</td>\n",
       "      <td>42.6</td>\n",
       "      <td>Cherry Tree</td>\n",
       "    </tr>\n",
       "  </tbody>\n",
       "</table>\n",
       "</div>"
      ],
      "text/plain": [
       "    diametro  altura  volumen tipo_de_arbol\n",
       "0       11.2      75     19.9  Cherrie Tree\n",
       "1       11.3      79     24.2   Cherry Tree\n",
       "2       11.4      76     21.0   Cherry Tree\n",
       "3       11.4      76     21.4    Apple Tree\n",
       "4       13.7      71     25.7   Cherry Tree\n",
       "5       13.8      64     24.9   Cherry Tree\n",
       "6       14.0      78     34.5  Cherrie Tree\n",
       "8        NaN      74     36.3    Apple Tree\n",
       "9       16.0      72     38.3   Cherry Tree\n",
       "10      16.3      77     42.6   Cherry Tree"
      ]
     },
     "execution_count": 279,
     "metadata": {},
     "output_type": "execute_result"
    }
   ],
   "source": [
    "mask_1 = df.altura < 80\n",
    "mask_2 =  df.volumen <= vol_mean + vol_std\n",
    "df1 = df[ mask_1 & mask_2 ]\n",
    "df1"
   ]
  },
  {
   "cell_type": "code",
   "execution_count": 280,
   "metadata": {},
   "outputs": [
    {
     "data": {
      "text/html": [
       "<div style=\"max-height:1000px;max-width:1500px;overflow:auto;\">\n",
       "<table border=\"1\" class=\"dataframe\">\n",
       "  <thead>\n",
       "    <tr style=\"text-align: right;\">\n",
       "      <th></th>\n",
       "      <th>diametro</th>\n",
       "      <th>altura</th>\n",
       "      <th>volumen</th>\n",
       "      <th>tipo_de_arbol</th>\n",
       "    </tr>\n",
       "  </thead>\n",
       "  <tbody>\n",
       "    <tr>\n",
       "      <th>1</th>\n",
       "      <td>11.3</td>\n",
       "      <td>79</td>\n",
       "      <td>24.2</td>\n",
       "      <td>Cherry Tree</td>\n",
       "    </tr>\n",
       "    <tr>\n",
       "      <th>4</th>\n",
       "      <td>13.7</td>\n",
       "      <td>71</td>\n",
       "      <td>25.7</td>\n",
       "      <td>Cherry Tree</td>\n",
       "    </tr>\n",
       "    <tr>\n",
       "      <th>5</th>\n",
       "      <td>13.8</td>\n",
       "      <td>64</td>\n",
       "      <td>24.9</td>\n",
       "      <td>Cherry Tree</td>\n",
       "    </tr>\n",
       "    <tr>\n",
       "      <th>6</th>\n",
       "      <td>14.0</td>\n",
       "      <td>78</td>\n",
       "      <td>34.5</td>\n",
       "      <td>Cherrie Tree</td>\n",
       "    </tr>\n",
       "    <tr>\n",
       "      <th>7</th>\n",
       "      <td>14.2</td>\n",
       "      <td>80</td>\n",
       "      <td>31.7</td>\n",
       "      <td>Cherry Tree</td>\n",
       "    </tr>\n",
       "    <tr>\n",
       "      <th>8</th>\n",
       "      <td>NaN</td>\n",
       "      <td>74</td>\n",
       "      <td>36.3</td>\n",
       "      <td>Apple Tree</td>\n",
       "    </tr>\n",
       "    <tr>\n",
       "      <th>9</th>\n",
       "      <td>16.0</td>\n",
       "      <td>72</td>\n",
       "      <td>38.3</td>\n",
       "      <td>Cherry Tree</td>\n",
       "    </tr>\n",
       "    <tr>\n",
       "      <th>10</th>\n",
       "      <td>16.3</td>\n",
       "      <td>77</td>\n",
       "      <td>42.6</td>\n",
       "      <td>Cherry Tree</td>\n",
       "    </tr>\n",
       "  </tbody>\n",
       "</table>\n",
       "</div>"
      ],
      "text/plain": [
       "    diametro  altura  volumen tipo_de_arbol\n",
       "1       11.3      79     24.2   Cherry Tree\n",
       "4       13.7      71     25.7   Cherry Tree\n",
       "5       13.8      64     24.9   Cherry Tree\n",
       "6       14.0      78     34.5  Cherrie Tree\n",
       "7       14.2      80     31.7   Cherry Tree\n",
       "8        NaN      74     36.3    Apple Tree\n",
       "9       16.0      72     38.3   Cherry Tree\n",
       "10      16.3      77     42.6   Cherry Tree"
      ]
     },
     "execution_count": 280,
     "metadata": {},
     "output_type": "execute_result"
    }
   ],
   "source": [
    "# Si se hace dinamicamente, utilizar suficientes parentesis\n",
    "#df2 = df[ ((vol_mean - vol_std) <= df.volumen) & (df.volumen <= (vol_mean + vol_std) ) ]\n",
    "df2 = df[ (df.volumen >=(vol_mean - vol_std)) & (df.volumen <= (vol_mean + vol_std) ) ]\n",
    "df2"
   ]
  },
  {
   "cell_type": "code",
   "execution_count": 281,
   "metadata": {
    "slideshow": {
     "slide_type": "slide"
    }
   },
   "outputs": [
    {
     "data": {
      "text/html": [
       "<div style=\"max-height:1000px;max-width:1500px;overflow:auto;\">\n",
       "<table border=\"1\" class=\"dataframe\">\n",
       "  <thead>\n",
       "    <tr style=\"text-align: right;\">\n",
       "      <th></th>\n",
       "      <th>diametro</th>\n",
       "      <th>altura</th>\n",
       "      <th>volumen</th>\n",
       "      <th>tipo_de_arbol</th>\n",
       "    </tr>\n",
       "  </thead>\n",
       "  <tbody>\n",
       "    <tr>\n",
       "      <th>0</th>\n",
       "      <td>11.2</td>\n",
       "      <td>75</td>\n",
       "      <td>19.9</td>\n",
       "      <td>Cherrie Tree</td>\n",
       "    </tr>\n",
       "    <tr>\n",
       "      <th>2</th>\n",
       "      <td>11.4</td>\n",
       "      <td>76</td>\n",
       "      <td>21.0</td>\n",
       "      <td>Cherry Tree</td>\n",
       "    </tr>\n",
       "    <tr>\n",
       "      <th>3</th>\n",
       "      <td>11.4</td>\n",
       "      <td>76</td>\n",
       "      <td>21.4</td>\n",
       "      <td>Apple Tree</td>\n",
       "    </tr>\n",
       "    <tr>\n",
       "      <th>11</th>\n",
       "      <td>17.3</td>\n",
       "      <td>81</td>\n",
       "      <td>55.4</td>\n",
       "      <td>Apple Tree</td>\n",
       "    </tr>\n",
       "    <tr>\n",
       "      <th>12</th>\n",
       "      <td>17.5</td>\n",
       "      <td>NaN</td>\n",
       "      <td>55.7</td>\n",
       "      <td>Cherry Tree</td>\n",
       "    </tr>\n",
       "    <tr>\n",
       "      <th>13</th>\n",
       "      <td>17.9</td>\n",
       "      <td>80</td>\n",
       "      <td>58.3</td>\n",
       "      <td>Cherry Tree</td>\n",
       "    </tr>\n",
       "    <tr>\n",
       "      <th>14</th>\n",
       "      <td>18.0</td>\n",
       "      <td>80</td>\n",
       "      <td>51.5</td>\n",
       "      <td>Cherry Tree</td>\n",
       "    </tr>\n",
       "    <tr>\n",
       "      <th>15</th>\n",
       "      <td>18.0</td>\n",
       "      <td>NaN</td>\n",
       "      <td>51.0</td>\n",
       "      <td>NaN</td>\n",
       "    </tr>\n",
       "    <tr>\n",
       "      <th>16</th>\n",
       "      <td>20.6</td>\n",
       "      <td>NaN</td>\n",
       "      <td>NaN</td>\n",
       "      <td>Cherry Tree</td>\n",
       "    </tr>\n",
       "  </tbody>\n",
       "</table>\n",
       "</div>"
      ],
      "text/plain": [
       "    diametro  altura  volumen tipo_de_arbol\n",
       "0       11.2      75     19.9  Cherrie Tree\n",
       "2       11.4      76     21.0   Cherry Tree\n",
       "3       11.4      76     21.4    Apple Tree\n",
       "11      17.3      81     55.4    Apple Tree\n",
       "12      17.5     NaN     55.7   Cherry Tree\n",
       "13      17.9      80     58.3   Cherry Tree\n",
       "14      18.0      80     51.5   Cherry Tree\n",
       "15      18.0     NaN     51.0           NaN\n",
       "16      20.6     NaN      NaN   Cherry Tree"
      ]
     },
     "execution_count": 281,
     "metadata": {},
     "output_type": "execute_result"
    }
   ],
   "source": [
    "# A veces para simplificar numpy ayuda\n",
    "mask_1 = df.volumen >= (vol_mean - vol_std)\n",
    "mask_2 = df.volumen <= (vol_mean + vol_std)\n",
    "mask = np.logical_and(mask_1, mask_2)\n",
    "df3 = df[np.logical_not(mask)]\n",
    "df3"
   ]
  },
  {
   "cell_type": "markdown",
   "metadata": {
    "slideshow": {
     "slide_type": "slide"
    }
   },
   "source": [
    "### 5.8.- Grouping"
   ]
  },
  {
   "cell_type": "code",
   "execution_count": 282,
   "metadata": {},
   "outputs": [
    {
     "data": {
      "text/plain": [
       "Index([u'diametro', u'altura', u'volumen', u'tipo_de_arbol'], dtype='object')"
      ]
     },
     "execution_count": 282,
     "metadata": {},
     "output_type": "execute_result"
    }
   ],
   "source": [
    "df = pd.read_csv(\"data/data.csv\", sep=\";\")\n",
    "df.columns"
   ]
  },
  {
   "cell_type": "code",
   "execution_count": 283,
   "metadata": {},
   "outputs": [
    {
     "name": "stdout",
     "output_type": "stream",
     "text": [
      "<pandas.core.groupby.DataFrameGroupBy object at 0x7fb0e37e1f90>\n"
     ]
    }
   ],
   "source": [
    "g = df.groupby(\"tipo_de_arbol\")\n",
    "print( g )"
   ]
  },
  {
   "cell_type": "code",
   "execution_count": 284,
   "metadata": {},
   "outputs": [
    {
     "name": "stdout",
     "output_type": "stream",
     "text": [
      "               diametro  altura  volumen\n",
      "tipo_de_arbol                           \n",
      "Apple Tree            2       3        3\n",
      "Cherrie Tree          2       2        2\n",
      "Cherry Tree          11       9       10\n"
     ]
    }
   ],
   "source": [
    "print( g.count() )"
   ]
  },
  {
   "cell_type": "code",
   "execution_count": 285,
   "metadata": {},
   "outputs": [
    {
     "name": "stdout",
     "output_type": "stream",
     "text": [
      "               diametro  altura  volumen\n",
      "tipo_de_arbol                           \n",
      "Apple Tree         28.7     231    113.1\n",
      "Cherrie Tree       25.2     153     54.4\n",
      "Cherry Tree       170.7     679    373.9\n"
     ]
    }
   ],
   "source": [
    "print( g.sum() ) # .mean(), .std()"
   ]
  },
  {
   "cell_type": "code",
   "execution_count": 286,
   "metadata": {},
   "outputs": [
    {
     "data": {
      "text/html": [
       "<div style=\"max-height:1000px;max-width:1500px;overflow:auto;\">\n",
       "<table border=\"1\" class=\"dataframe\">\n",
       "  <thead>\n",
       "    <tr style=\"text-align: right;\">\n",
       "      <th></th>\n",
       "      <th>diametro</th>\n",
       "      <th>altura</th>\n",
       "    </tr>\n",
       "    <tr>\n",
       "      <th>tipo_de_arbol</th>\n",
       "      <th></th>\n",
       "      <th></th>\n",
       "    </tr>\n",
       "  </thead>\n",
       "  <tbody>\n",
       "    <tr>\n",
       "      <th>Apple Tree</th>\n",
       "      <td>14.350000</td>\n",
       "      <td>77.000000</td>\n",
       "    </tr>\n",
       "    <tr>\n",
       "      <th>Cherrie Tree</th>\n",
       "      <td>12.600000</td>\n",
       "      <td>76.500000</td>\n",
       "    </tr>\n",
       "    <tr>\n",
       "      <th>Cherry Tree</th>\n",
       "      <td>15.518182</td>\n",
       "      <td>75.444444</td>\n",
       "    </tr>\n",
       "  </tbody>\n",
       "</table>\n",
       "</div>"
      ],
      "text/plain": [
       "                diametro     altura\n",
       "tipo_de_arbol                      \n",
       "Apple Tree     14.350000  77.000000\n",
       "Cherrie Tree   12.600000  76.500000\n",
       "Cherry Tree    15.518182  75.444444"
      ]
     },
     "execution_count": 286,
     "metadata": {},
     "output_type": "execute_result"
    }
   ],
   "source": [
    "# Ejemplo real\n",
    "df[[\"tipo_de_arbol\",\"diametro\", \"altura\"]].groupby(\"tipo_de_arbol\").mean()"
   ]
  },
  {
   "cell_type": "markdown",
   "metadata": {
    "slideshow": {
     "slide_type": "slide"
    }
   },
   "source": [
    "### 5.9.- Imputación de datos"
   ]
  },
  {
   "cell_type": "code",
   "execution_count": 288,
   "metadata": {
    "slideshow": {
     "slide_type": "slide"
    }
   },
   "outputs": [
    {
     "data": {
      "text/html": [
       "<div style=\"max-height:1000px;max-width:1500px;overflow:auto;\">\n",
       "<table border=\"1\" class=\"dataframe\">\n",
       "  <thead>\n",
       "    <tr style=\"text-align: right;\">\n",
       "      <th></th>\n",
       "      <th>diametro</th>\n",
       "      <th>altura</th>\n",
       "      <th>volumen</th>\n",
       "      <th>tipo_de_arbol</th>\n",
       "    </tr>\n",
       "  </thead>\n",
       "  <tbody>\n",
       "    <tr>\n",
       "      <th>count</th>\n",
       "      <td>16.000000</td>\n",
       "      <td>14.000000</td>\n",
       "      <td>16.000000</td>\n",
       "      <td>16</td>\n",
       "    </tr>\n",
       "    <tr>\n",
       "      <th>unique</th>\n",
       "      <td>NaN</td>\n",
       "      <td>NaN</td>\n",
       "      <td>NaN</td>\n",
       "      <td>3</td>\n",
       "    </tr>\n",
       "    <tr>\n",
       "      <th>top</th>\n",
       "      <td>NaN</td>\n",
       "      <td>NaN</td>\n",
       "      <td>NaN</td>\n",
       "      <td>Cherry Tree</td>\n",
       "    </tr>\n",
       "    <tr>\n",
       "      <th>freq</th>\n",
       "      <td>NaN</td>\n",
       "      <td>NaN</td>\n",
       "      <td>NaN</td>\n",
       "      <td>11</td>\n",
       "    </tr>\n",
       "    <tr>\n",
       "      <th>mean</th>\n",
       "      <td>15.162500</td>\n",
       "      <td>75.928571</td>\n",
       "      <td>37.025000</td>\n",
       "      <td>NaN</td>\n",
       "    </tr>\n",
       "    <tr>\n",
       "      <th>std</th>\n",
       "      <td>2.948418</td>\n",
       "      <td>4.615430</td>\n",
       "      <td>13.773816</td>\n",
       "      <td>NaN</td>\n",
       "    </tr>\n",
       "    <tr>\n",
       "      <th>min</th>\n",
       "      <td>11.200000</td>\n",
       "      <td>64.000000</td>\n",
       "      <td>19.900000</td>\n",
       "      <td>NaN</td>\n",
       "    </tr>\n",
       "    <tr>\n",
       "      <th>25%</th>\n",
       "      <td>13.125000</td>\n",
       "      <td>74.250000</td>\n",
       "      <td>24.725000</td>\n",
       "      <td>NaN</td>\n",
       "    </tr>\n",
       "    <tr>\n",
       "      <th>50%</th>\n",
       "      <td>15.100000</td>\n",
       "      <td>76.500000</td>\n",
       "      <td>35.400000</td>\n",
       "      <td>NaN</td>\n",
       "    </tr>\n",
       "    <tr>\n",
       "      <th>75%</th>\n",
       "      <td>17.600000</td>\n",
       "      <td>79.750000</td>\n",
       "      <td>51.125000</td>\n",
       "      <td>NaN</td>\n",
       "    </tr>\n",
       "    <tr>\n",
       "      <th>max</th>\n",
       "      <td>20.600000</td>\n",
       "      <td>81.000000</td>\n",
       "      <td>58.300000</td>\n",
       "      <td>NaN</td>\n",
       "    </tr>\n",
       "  </tbody>\n",
       "</table>\n",
       "</div>"
      ],
      "text/plain": [
       "         diametro     altura    volumen tipo_de_arbol\n",
       "count   16.000000  14.000000  16.000000            16\n",
       "unique        NaN        NaN        NaN             3\n",
       "top           NaN        NaN        NaN   Cherry Tree\n",
       "freq          NaN        NaN        NaN            11\n",
       "mean    15.162500  75.928571  37.025000           NaN\n",
       "std      2.948418   4.615430  13.773816           NaN\n",
       "min     11.200000  64.000000  19.900000           NaN\n",
       "25%     13.125000  74.250000  24.725000           NaN\n",
       "50%     15.100000  76.500000  35.400000           NaN\n",
       "75%     17.600000  79.750000  51.125000           NaN\n",
       "max     20.600000  81.000000  58.300000           NaN"
      ]
     },
     "execution_count": 288,
     "metadata": {},
     "output_type": "execute_result"
    }
   ],
   "source": [
    "# Antes de imputar datos, siempre explorar\n",
    "df.describe(include=\"all\")"
   ]
  },
  {
   "cell_type": "code",
   "execution_count": 290,
   "metadata": {
    "slideshow": {
     "slide_type": "slide"
    }
   },
   "outputs": [
    {
     "name": "stderr",
     "output_type": "stream",
     "text": [
      "/usr/local/lib/python2.7/dist-packages/ipykernel/__main__.py:2: SettingWithCopyWarning: \n",
      "A value is trying to be set on a copy of a slice from a DataFrame\n",
      "\n",
      "See the the caveats in the documentation: http://pandas.pydata.org/pandas-docs/stable/indexing.html#indexing-view-versus-copy\n",
      "  from ipykernel import kernelapp as app\n"
     ]
    },
    {
     "data": {
      "text/html": [
       "<div style=\"max-height:1000px;max-width:1500px;overflow:auto;\">\n",
       "<table border=\"1\" class=\"dataframe\">\n",
       "  <thead>\n",
       "    <tr style=\"text-align: right;\">\n",
       "      <th></th>\n",
       "      <th>diametro</th>\n",
       "      <th>altura</th>\n",
       "      <th>volumen</th>\n",
       "      <th>tipo_de_arbol</th>\n",
       "    </tr>\n",
       "  </thead>\n",
       "  <tbody>\n",
       "    <tr>\n",
       "      <th>0</th>\n",
       "      <td>11.2</td>\n",
       "      <td>75</td>\n",
       "      <td>19.9</td>\n",
       "      <td>Cherry Tree</td>\n",
       "    </tr>\n",
       "    <tr>\n",
       "      <th>1</th>\n",
       "      <td>11.3</td>\n",
       "      <td>79</td>\n",
       "      <td>24.2</td>\n",
       "      <td>Cherry Tree</td>\n",
       "    </tr>\n",
       "    <tr>\n",
       "      <th>2</th>\n",
       "      <td>11.4</td>\n",
       "      <td>76</td>\n",
       "      <td>21.0</td>\n",
       "      <td>Cherry Tree</td>\n",
       "    </tr>\n",
       "    <tr>\n",
       "      <th>3</th>\n",
       "      <td>11.4</td>\n",
       "      <td>76</td>\n",
       "      <td>21.4</td>\n",
       "      <td>Apple Tree</td>\n",
       "    </tr>\n",
       "    <tr>\n",
       "      <th>4</th>\n",
       "      <td>13.7</td>\n",
       "      <td>71</td>\n",
       "      <td>25.7</td>\n",
       "      <td>Cherry Tree</td>\n",
       "    </tr>\n",
       "    <tr>\n",
       "      <th>5</th>\n",
       "      <td>13.8</td>\n",
       "      <td>64</td>\n",
       "      <td>24.9</td>\n",
       "      <td>Cherry Tree</td>\n",
       "    </tr>\n",
       "    <tr>\n",
       "      <th>6</th>\n",
       "      <td>14.0</td>\n",
       "      <td>78</td>\n",
       "      <td>34.5</td>\n",
       "      <td>Cherry Tree</td>\n",
       "    </tr>\n",
       "    <tr>\n",
       "      <th>7</th>\n",
       "      <td>14.2</td>\n",
       "      <td>80</td>\n",
       "      <td>31.7</td>\n",
       "      <td>Cherry Tree</td>\n",
       "    </tr>\n",
       "    <tr>\n",
       "      <th>8</th>\n",
       "      <td>NaN</td>\n",
       "      <td>74</td>\n",
       "      <td>36.3</td>\n",
       "      <td>Apple Tree</td>\n",
       "    </tr>\n",
       "    <tr>\n",
       "      <th>9</th>\n",
       "      <td>16.0</td>\n",
       "      <td>72</td>\n",
       "      <td>38.3</td>\n",
       "      <td>Cherry Tree</td>\n",
       "    </tr>\n",
       "    <tr>\n",
       "      <th>10</th>\n",
       "      <td>16.3</td>\n",
       "      <td>77</td>\n",
       "      <td>42.6</td>\n",
       "      <td>Cherry Tree</td>\n",
       "    </tr>\n",
       "    <tr>\n",
       "      <th>11</th>\n",
       "      <td>17.3</td>\n",
       "      <td>81</td>\n",
       "      <td>55.4</td>\n",
       "      <td>Apple Tree</td>\n",
       "    </tr>\n",
       "    <tr>\n",
       "      <th>12</th>\n",
       "      <td>17.5</td>\n",
       "      <td>NaN</td>\n",
       "      <td>55.7</td>\n",
       "      <td>Cherry Tree</td>\n",
       "    </tr>\n",
       "    <tr>\n",
       "      <th>13</th>\n",
       "      <td>17.9</td>\n",
       "      <td>80</td>\n",
       "      <td>58.3</td>\n",
       "      <td>Cherry Tree</td>\n",
       "    </tr>\n",
       "    <tr>\n",
       "      <th>14</th>\n",
       "      <td>18.0</td>\n",
       "      <td>80</td>\n",
       "      <td>51.5</td>\n",
       "      <td>Cherry Tree</td>\n",
       "    </tr>\n",
       "    <tr>\n",
       "      <th>15</th>\n",
       "      <td>18.0</td>\n",
       "      <td>NaN</td>\n",
       "      <td>51.0</td>\n",
       "      <td>NaN</td>\n",
       "    </tr>\n",
       "    <tr>\n",
       "      <th>16</th>\n",
       "      <td>20.6</td>\n",
       "      <td>NaN</td>\n",
       "      <td>NaN</td>\n",
       "      <td>Cherry Tree</td>\n",
       "    </tr>\n",
       "  </tbody>\n",
       "</table>\n",
       "</div>"
      ],
      "text/plain": [
       "    diametro  altura  volumen tipo_de_arbol\n",
       "0       11.2      75     19.9   Cherry Tree\n",
       "1       11.3      79     24.2   Cherry Tree\n",
       "2       11.4      76     21.0   Cherry Tree\n",
       "3       11.4      76     21.4    Apple Tree\n",
       "4       13.7      71     25.7   Cherry Tree\n",
       "5       13.8      64     24.9   Cherry Tree\n",
       "6       14.0      78     34.5   Cherry Tree\n",
       "7       14.2      80     31.7   Cherry Tree\n",
       "8        NaN      74     36.3    Apple Tree\n",
       "9       16.0      72     38.3   Cherry Tree\n",
       "10      16.3      77     42.6   Cherry Tree\n",
       "11      17.3      81     55.4    Apple Tree\n",
       "12      17.5     NaN     55.7   Cherry Tree\n",
       "13      17.9      80     58.3   Cherry Tree\n",
       "14      18.0      80     51.5   Cherry Tree\n",
       "15      18.0     NaN     51.0           NaN\n",
       "16      20.6     NaN      NaN   Cherry Tree"
      ]
     },
     "execution_count": 290,
     "metadata": {},
     "output_type": "execute_result"
    }
   ],
   "source": [
    "# Imputación manual de datos (incorrecto)\n",
    "df[\"tipo_de_arbol\"][df.tipo_de_arbol==\"Cherrie Tree\"] = \"Cherry Tree\"\n",
    "df"
   ]
  },
  {
   "cell_type": "code",
   "execution_count": 291,
   "metadata": {
    "slideshow": {
     "slide_type": "slide"
    }
   },
   "outputs": [
    {
     "data": {
      "text/html": [
       "<div style=\"max-height:1000px;max-width:1500px;overflow:auto;\">\n",
       "<table border=\"1\" class=\"dataframe\">\n",
       "  <thead>\n",
       "    <tr style=\"text-align: right;\">\n",
       "      <th></th>\n",
       "      <th>diametro</th>\n",
       "      <th>altura</th>\n",
       "      <th>volumen</th>\n",
       "      <th>tipo_de_arbol</th>\n",
       "    </tr>\n",
       "  </thead>\n",
       "  <tbody>\n",
       "    <tr>\n",
       "      <th>0</th>\n",
       "      <td>11.2</td>\n",
       "      <td>75</td>\n",
       "      <td>19.9</td>\n",
       "      <td>Cherry Tree</td>\n",
       "    </tr>\n",
       "    <tr>\n",
       "      <th>1</th>\n",
       "      <td>11.3</td>\n",
       "      <td>79</td>\n",
       "      <td>24.2</td>\n",
       "      <td>Cherry Tree</td>\n",
       "    </tr>\n",
       "    <tr>\n",
       "      <th>2</th>\n",
       "      <td>11.4</td>\n",
       "      <td>76</td>\n",
       "      <td>21.0</td>\n",
       "      <td>Cherry Tree</td>\n",
       "    </tr>\n",
       "    <tr>\n",
       "      <th>3</th>\n",
       "      <td>11.4</td>\n",
       "      <td>76</td>\n",
       "      <td>21.4</td>\n",
       "      <td>Apple Tree</td>\n",
       "    </tr>\n",
       "    <tr>\n",
       "      <th>4</th>\n",
       "      <td>13.7</td>\n",
       "      <td>71</td>\n",
       "      <td>25.7</td>\n",
       "      <td>Cherry Tree</td>\n",
       "    </tr>\n",
       "    <tr>\n",
       "      <th>5</th>\n",
       "      <td>13.8</td>\n",
       "      <td>64</td>\n",
       "      <td>24.9</td>\n",
       "      <td>Cherry Tree</td>\n",
       "    </tr>\n",
       "    <tr>\n",
       "      <th>6</th>\n",
       "      <td>14.0</td>\n",
       "      <td>78</td>\n",
       "      <td>34.5</td>\n",
       "      <td>Cherry Tree</td>\n",
       "    </tr>\n",
       "    <tr>\n",
       "      <th>7</th>\n",
       "      <td>14.2</td>\n",
       "      <td>80</td>\n",
       "      <td>31.7</td>\n",
       "      <td>Cherry Tree</td>\n",
       "    </tr>\n",
       "    <tr>\n",
       "      <th>8</th>\n",
       "      <td>NaN</td>\n",
       "      <td>74</td>\n",
       "      <td>36.3</td>\n",
       "      <td>Apple Tree</td>\n",
       "    </tr>\n",
       "    <tr>\n",
       "      <th>9</th>\n",
       "      <td>16.0</td>\n",
       "      <td>72</td>\n",
       "      <td>38.3</td>\n",
       "      <td>Cherry Tree</td>\n",
       "    </tr>\n",
       "    <tr>\n",
       "      <th>10</th>\n",
       "      <td>16.3</td>\n",
       "      <td>77</td>\n",
       "      <td>42.6</td>\n",
       "      <td>Cherry Tree</td>\n",
       "    </tr>\n",
       "    <tr>\n",
       "      <th>11</th>\n",
       "      <td>17.3</td>\n",
       "      <td>81</td>\n",
       "      <td>55.4</td>\n",
       "      <td>Apple Tree</td>\n",
       "    </tr>\n",
       "    <tr>\n",
       "      <th>12</th>\n",
       "      <td>17.5</td>\n",
       "      <td>NaN</td>\n",
       "      <td>55.7</td>\n",
       "      <td>Cherry Tree</td>\n",
       "    </tr>\n",
       "    <tr>\n",
       "      <th>13</th>\n",
       "      <td>17.9</td>\n",
       "      <td>80</td>\n",
       "      <td>58.3</td>\n",
       "      <td>Cherry Tree</td>\n",
       "    </tr>\n",
       "    <tr>\n",
       "      <th>14</th>\n",
       "      <td>18.0</td>\n",
       "      <td>80</td>\n",
       "      <td>51.5</td>\n",
       "      <td>Cherry Tree</td>\n",
       "    </tr>\n",
       "    <tr>\n",
       "      <th>15</th>\n",
       "      <td>18.0</td>\n",
       "      <td>NaN</td>\n",
       "      <td>51.0</td>\n",
       "      <td>NaN</td>\n",
       "    </tr>\n",
       "    <tr>\n",
       "      <th>16</th>\n",
       "      <td>20.6</td>\n",
       "      <td>NaN</td>\n",
       "      <td>NaN</td>\n",
       "      <td>Cherry Tree</td>\n",
       "    </tr>\n",
       "  </tbody>\n",
       "</table>\n",
       "</div>"
      ],
      "text/plain": [
       "    diametro  altura  volumen tipo_de_arbol\n",
       "0       11.2      75     19.9   Cherry Tree\n",
       "1       11.3      79     24.2   Cherry Tree\n",
       "2       11.4      76     21.0   Cherry Tree\n",
       "3       11.4      76     21.4    Apple Tree\n",
       "4       13.7      71     25.7   Cherry Tree\n",
       "5       13.8      64     24.9   Cherry Tree\n",
       "6       14.0      78     34.5   Cherry Tree\n",
       "7       14.2      80     31.7   Cherry Tree\n",
       "8        NaN      74     36.3    Apple Tree\n",
       "9       16.0      72     38.3   Cherry Tree\n",
       "10      16.3      77     42.6   Cherry Tree\n",
       "11      17.3      81     55.4    Apple Tree\n",
       "12      17.5     NaN     55.7   Cherry Tree\n",
       "13      17.9      80     58.3   Cherry Tree\n",
       "14      18.0      80     51.5   Cherry Tree\n",
       "15      18.0     NaN     51.0           NaN\n",
       "16      20.6     NaN      NaN   Cherry Tree"
      ]
     },
     "execution_count": 291,
     "metadata": {},
     "output_type": "execute_result"
    }
   ],
   "source": [
    "# Imputación manual de datos\n",
    "df = pd.read_csv(\"data/data.csv\", sep=\";\")\n",
    "index_mask = (df.tipo_de_arbol==\"Cherrie Tree\")\n",
    "df.loc[index_mask, \"tipo_de_arbol\"] = \"Cherry Tree\" # .loc es esencial\n",
    "df"
   ]
  },
  {
   "cell_type": "code",
   "execution_count": 292,
   "metadata": {
    "slideshow": {
     "slide_type": "slide"
    }
   },
   "outputs": [
    {
     "data": {
      "text/html": [
       "<div style=\"max-height:1000px;max-width:1500px;overflow:auto;\">\n",
       "<table border=\"1\" class=\"dataframe\">\n",
       "  <thead>\n",
       "    <tr style=\"text-align: right;\">\n",
       "      <th></th>\n",
       "      <th>diametro</th>\n",
       "      <th>altura</th>\n",
       "      <th>volumen</th>\n",
       "      <th>tipo_de_arbol</th>\n",
       "    </tr>\n",
       "  </thead>\n",
       "  <tbody>\n",
       "    <tr>\n",
       "      <th>0</th>\n",
       "      <td>11.2000</td>\n",
       "      <td>75.000000</td>\n",
       "      <td>19.900</td>\n",
       "      <td>Cherrie Tree</td>\n",
       "    </tr>\n",
       "    <tr>\n",
       "      <th>1</th>\n",
       "      <td>11.3000</td>\n",
       "      <td>79.000000</td>\n",
       "      <td>24.200</td>\n",
       "      <td>Cherry Tree</td>\n",
       "    </tr>\n",
       "    <tr>\n",
       "      <th>2</th>\n",
       "      <td>11.4000</td>\n",
       "      <td>76.000000</td>\n",
       "      <td>21.000</td>\n",
       "      <td>Cherry Tree</td>\n",
       "    </tr>\n",
       "    <tr>\n",
       "      <th>3</th>\n",
       "      <td>11.4000</td>\n",
       "      <td>76.000000</td>\n",
       "      <td>21.400</td>\n",
       "      <td>Apple Tree</td>\n",
       "    </tr>\n",
       "    <tr>\n",
       "      <th>4</th>\n",
       "      <td>13.7000</td>\n",
       "      <td>71.000000</td>\n",
       "      <td>25.700</td>\n",
       "      <td>Cherry Tree</td>\n",
       "    </tr>\n",
       "    <tr>\n",
       "      <th>5</th>\n",
       "      <td>13.8000</td>\n",
       "      <td>64.000000</td>\n",
       "      <td>24.900</td>\n",
       "      <td>Cherry Tree</td>\n",
       "    </tr>\n",
       "    <tr>\n",
       "      <th>6</th>\n",
       "      <td>14.0000</td>\n",
       "      <td>78.000000</td>\n",
       "      <td>34.500</td>\n",
       "      <td>Cherrie Tree</td>\n",
       "    </tr>\n",
       "    <tr>\n",
       "      <th>7</th>\n",
       "      <td>14.2000</td>\n",
       "      <td>80.000000</td>\n",
       "      <td>31.700</td>\n",
       "      <td>Cherry Tree</td>\n",
       "    </tr>\n",
       "    <tr>\n",
       "      <th>8</th>\n",
       "      <td>15.1625</td>\n",
       "      <td>74.000000</td>\n",
       "      <td>36.300</td>\n",
       "      <td>Apple Tree</td>\n",
       "    </tr>\n",
       "    <tr>\n",
       "      <th>9</th>\n",
       "      <td>16.0000</td>\n",
       "      <td>72.000000</td>\n",
       "      <td>38.300</td>\n",
       "      <td>Cherry Tree</td>\n",
       "    </tr>\n",
       "    <tr>\n",
       "      <th>10</th>\n",
       "      <td>16.3000</td>\n",
       "      <td>77.000000</td>\n",
       "      <td>42.600</td>\n",
       "      <td>Cherry Tree</td>\n",
       "    </tr>\n",
       "    <tr>\n",
       "      <th>11</th>\n",
       "      <td>17.3000</td>\n",
       "      <td>81.000000</td>\n",
       "      <td>55.400</td>\n",
       "      <td>Apple Tree</td>\n",
       "    </tr>\n",
       "    <tr>\n",
       "      <th>12</th>\n",
       "      <td>17.5000</td>\n",
       "      <td>75.928571</td>\n",
       "      <td>55.700</td>\n",
       "      <td>Cherry Tree</td>\n",
       "    </tr>\n",
       "    <tr>\n",
       "      <th>13</th>\n",
       "      <td>17.9000</td>\n",
       "      <td>80.000000</td>\n",
       "      <td>58.300</td>\n",
       "      <td>Cherry Tree</td>\n",
       "    </tr>\n",
       "    <tr>\n",
       "      <th>14</th>\n",
       "      <td>18.0000</td>\n",
       "      <td>80.000000</td>\n",
       "      <td>51.500</td>\n",
       "      <td>Cherry Tree</td>\n",
       "    </tr>\n",
       "    <tr>\n",
       "      <th>15</th>\n",
       "      <td>18.0000</td>\n",
       "      <td>75.928571</td>\n",
       "      <td>51.000</td>\n",
       "      <td>NaN</td>\n",
       "    </tr>\n",
       "    <tr>\n",
       "      <th>16</th>\n",
       "      <td>20.6000</td>\n",
       "      <td>75.928571</td>\n",
       "      <td>37.025</td>\n",
       "      <td>Cherry Tree</td>\n",
       "    </tr>\n",
       "  </tbody>\n",
       "</table>\n",
       "</div>"
      ],
      "text/plain": [
       "    diametro     altura  volumen tipo_de_arbol\n",
       "0    11.2000  75.000000   19.900  Cherrie Tree\n",
       "1    11.3000  79.000000   24.200   Cherry Tree\n",
       "2    11.4000  76.000000   21.000   Cherry Tree\n",
       "3    11.4000  76.000000   21.400    Apple Tree\n",
       "4    13.7000  71.000000   25.700   Cherry Tree\n",
       "5    13.8000  64.000000   24.900   Cherry Tree\n",
       "6    14.0000  78.000000   34.500  Cherrie Tree\n",
       "7    14.2000  80.000000   31.700   Cherry Tree\n",
       "8    15.1625  74.000000   36.300    Apple Tree\n",
       "9    16.0000  72.000000   38.300   Cherry Tree\n",
       "10   16.3000  77.000000   42.600   Cherry Tree\n",
       "11   17.3000  81.000000   55.400    Apple Tree\n",
       "12   17.5000  75.928571   55.700   Cherry Tree\n",
       "13   17.9000  80.000000   58.300   Cherry Tree\n",
       "14   18.0000  80.000000   51.500   Cherry Tree\n",
       "15   18.0000  75.928571   51.000           NaN\n",
       "16   20.6000  75.928571   37.025   Cherry Tree"
      ]
     },
     "execution_count": 292,
     "metadata": {},
     "output_type": "execute_result"
    }
   ],
   "source": [
    "# Imputación de datos: llenar NaNs con promedio\n",
    "df = pd.read_csv(\"data/data.csv\", sep=\";\")\n",
    "df1 = df.fillna(df.mean())\n",
    "df1"
   ]
  },
  {
   "cell_type": "code",
   "execution_count": 293,
   "metadata": {
    "slideshow": {
     "slide_type": "slide"
    }
   },
   "outputs": [
    {
     "data": {
      "text/html": [
       "<div style=\"max-height:1000px;max-width:1500px;overflow:auto;\">\n",
       "<table border=\"1\" class=\"dataframe\">\n",
       "  <thead>\n",
       "    <tr style=\"text-align: right;\">\n",
       "      <th></th>\n",
       "      <th>diametro</th>\n",
       "      <th>altura</th>\n",
       "      <th>volumen</th>\n",
       "      <th>tipo_de_arbol</th>\n",
       "    </tr>\n",
       "  </thead>\n",
       "  <tbody>\n",
       "    <tr>\n",
       "      <th>0</th>\n",
       "      <td>11.2</td>\n",
       "      <td>75</td>\n",
       "      <td>19.9</td>\n",
       "      <td>Cherrie Tree</td>\n",
       "    </tr>\n",
       "    <tr>\n",
       "      <th>1</th>\n",
       "      <td>11.3</td>\n",
       "      <td>79</td>\n",
       "      <td>24.2</td>\n",
       "      <td>Cherry Tree</td>\n",
       "    </tr>\n",
       "    <tr>\n",
       "      <th>2</th>\n",
       "      <td>11.4</td>\n",
       "      <td>76</td>\n",
       "      <td>21.0</td>\n",
       "      <td>Cherry Tree</td>\n",
       "    </tr>\n",
       "    <tr>\n",
       "      <th>3</th>\n",
       "      <td>11.4</td>\n",
       "      <td>76</td>\n",
       "      <td>21.4</td>\n",
       "      <td>Apple Tree</td>\n",
       "    </tr>\n",
       "    <tr>\n",
       "      <th>4</th>\n",
       "      <td>13.7</td>\n",
       "      <td>71</td>\n",
       "      <td>25.7</td>\n",
       "      <td>Cherry Tree</td>\n",
       "    </tr>\n",
       "    <tr>\n",
       "      <th>5</th>\n",
       "      <td>13.8</td>\n",
       "      <td>64</td>\n",
       "      <td>24.9</td>\n",
       "      <td>Cherry Tree</td>\n",
       "    </tr>\n",
       "    <tr>\n",
       "      <th>6</th>\n",
       "      <td>14.0</td>\n",
       "      <td>78</td>\n",
       "      <td>34.5</td>\n",
       "      <td>Cherrie Tree</td>\n",
       "    </tr>\n",
       "    <tr>\n",
       "      <th>7</th>\n",
       "      <td>14.2</td>\n",
       "      <td>80</td>\n",
       "      <td>31.7</td>\n",
       "      <td>Cherry Tree</td>\n",
       "    </tr>\n",
       "    <tr>\n",
       "      <th>8</th>\n",
       "      <td>0.0</td>\n",
       "      <td>74</td>\n",
       "      <td>36.3</td>\n",
       "      <td>Apple Tree</td>\n",
       "    </tr>\n",
       "    <tr>\n",
       "      <th>9</th>\n",
       "      <td>16.0</td>\n",
       "      <td>72</td>\n",
       "      <td>38.3</td>\n",
       "      <td>Cherry Tree</td>\n",
       "    </tr>\n",
       "    <tr>\n",
       "      <th>10</th>\n",
       "      <td>16.3</td>\n",
       "      <td>77</td>\n",
       "      <td>42.6</td>\n",
       "      <td>Cherry Tree</td>\n",
       "    </tr>\n",
       "    <tr>\n",
       "      <th>11</th>\n",
       "      <td>17.3</td>\n",
       "      <td>81</td>\n",
       "      <td>55.4</td>\n",
       "      <td>Apple Tree</td>\n",
       "    </tr>\n",
       "    <tr>\n",
       "      <th>12</th>\n",
       "      <td>17.5</td>\n",
       "      <td>0</td>\n",
       "      <td>55.7</td>\n",
       "      <td>Cherry Tree</td>\n",
       "    </tr>\n",
       "    <tr>\n",
       "      <th>13</th>\n",
       "      <td>17.9</td>\n",
       "      <td>80</td>\n",
       "      <td>58.3</td>\n",
       "      <td>Cherry Tree</td>\n",
       "    </tr>\n",
       "    <tr>\n",
       "      <th>14</th>\n",
       "      <td>18.0</td>\n",
       "      <td>80</td>\n",
       "      <td>51.5</td>\n",
       "      <td>Cherry Tree</td>\n",
       "    </tr>\n",
       "    <tr>\n",
       "      <th>15</th>\n",
       "      <td>18.0</td>\n",
       "      <td>0</td>\n",
       "      <td>51.0</td>\n",
       "      <td>0</td>\n",
       "    </tr>\n",
       "    <tr>\n",
       "      <th>16</th>\n",
       "      <td>20.6</td>\n",
       "      <td>0</td>\n",
       "      <td>0.0</td>\n",
       "      <td>Cherry Tree</td>\n",
       "    </tr>\n",
       "  </tbody>\n",
       "</table>\n",
       "</div>"
      ],
      "text/plain": [
       "    diametro  altura  volumen tipo_de_arbol\n",
       "0       11.2      75     19.9  Cherrie Tree\n",
       "1       11.3      79     24.2   Cherry Tree\n",
       "2       11.4      76     21.0   Cherry Tree\n",
       "3       11.4      76     21.4    Apple Tree\n",
       "4       13.7      71     25.7   Cherry Tree\n",
       "5       13.8      64     24.9   Cherry Tree\n",
       "6       14.0      78     34.5  Cherrie Tree\n",
       "7       14.2      80     31.7   Cherry Tree\n",
       "8        0.0      74     36.3    Apple Tree\n",
       "9       16.0      72     38.3   Cherry Tree\n",
       "10      16.3      77     42.6   Cherry Tree\n",
       "11      17.3      81     55.4    Apple Tree\n",
       "12      17.5       0     55.7   Cherry Tree\n",
       "13      17.9      80     58.3   Cherry Tree\n",
       "14      18.0      80     51.5   Cherry Tree\n",
       "15      18.0       0     51.0             0\n",
       "16      20.6       0      0.0   Cherry Tree"
      ]
     },
     "execution_count": 293,
     "metadata": {},
     "output_type": "execute_result"
    }
   ],
   "source": [
    "# Imputación de datos: llenar NaNs con valor\n",
    "df2 = df.fillna(0)\n",
    "df2"
   ]
  },
  {
   "cell_type": "code",
   "execution_count": 294,
   "metadata": {
    "slideshow": {
     "slide_type": "slide"
    }
   },
   "outputs": [
    {
     "data": {
      "text/html": [
       "<div style=\"max-height:1000px;max-width:1500px;overflow:auto;\">\n",
       "<table border=\"1\" class=\"dataframe\">\n",
       "  <thead>\n",
       "    <tr style=\"text-align: right;\">\n",
       "      <th></th>\n",
       "      <th>diametro</th>\n",
       "      <th>altura</th>\n",
       "      <th>volumen</th>\n",
       "      <th>tipo_de_arbol</th>\n",
       "    </tr>\n",
       "  </thead>\n",
       "  <tbody>\n",
       "    <tr>\n",
       "      <th>0</th>\n",
       "      <td>11.2</td>\n",
       "      <td>75</td>\n",
       "      <td>19.9</td>\n",
       "      <td>Cherrie Tree</td>\n",
       "    </tr>\n",
       "    <tr>\n",
       "      <th>1</th>\n",
       "      <td>11.3</td>\n",
       "      <td>79</td>\n",
       "      <td>24.2</td>\n",
       "      <td>Cherry Tree</td>\n",
       "    </tr>\n",
       "    <tr>\n",
       "      <th>2</th>\n",
       "      <td>11.4</td>\n",
       "      <td>76</td>\n",
       "      <td>21.0</td>\n",
       "      <td>Cherry Tree</td>\n",
       "    </tr>\n",
       "    <tr>\n",
       "      <th>3</th>\n",
       "      <td>11.4</td>\n",
       "      <td>76</td>\n",
       "      <td>21.4</td>\n",
       "      <td>Apple Tree</td>\n",
       "    </tr>\n",
       "    <tr>\n",
       "      <th>4</th>\n",
       "      <td>13.7</td>\n",
       "      <td>71</td>\n",
       "      <td>25.7</td>\n",
       "      <td>Cherry Tree</td>\n",
       "    </tr>\n",
       "    <tr>\n",
       "      <th>5</th>\n",
       "      <td>13.8</td>\n",
       "      <td>64</td>\n",
       "      <td>24.9</td>\n",
       "      <td>Cherry Tree</td>\n",
       "    </tr>\n",
       "    <tr>\n",
       "      <th>6</th>\n",
       "      <td>14.0</td>\n",
       "      <td>78</td>\n",
       "      <td>34.5</td>\n",
       "      <td>Cherrie Tree</td>\n",
       "    </tr>\n",
       "    <tr>\n",
       "      <th>7</th>\n",
       "      <td>14.2</td>\n",
       "      <td>80</td>\n",
       "      <td>31.7</td>\n",
       "      <td>Cherry Tree</td>\n",
       "    </tr>\n",
       "    <tr>\n",
       "      <th>9</th>\n",
       "      <td>16.0</td>\n",
       "      <td>72</td>\n",
       "      <td>38.3</td>\n",
       "      <td>Cherry Tree</td>\n",
       "    </tr>\n",
       "    <tr>\n",
       "      <th>10</th>\n",
       "      <td>16.3</td>\n",
       "      <td>77</td>\n",
       "      <td>42.6</td>\n",
       "      <td>Cherry Tree</td>\n",
       "    </tr>\n",
       "    <tr>\n",
       "      <th>11</th>\n",
       "      <td>17.3</td>\n",
       "      <td>81</td>\n",
       "      <td>55.4</td>\n",
       "      <td>Apple Tree</td>\n",
       "    </tr>\n",
       "    <tr>\n",
       "      <th>13</th>\n",
       "      <td>17.9</td>\n",
       "      <td>80</td>\n",
       "      <td>58.3</td>\n",
       "      <td>Cherry Tree</td>\n",
       "    </tr>\n",
       "    <tr>\n",
       "      <th>14</th>\n",
       "      <td>18.0</td>\n",
       "      <td>80</td>\n",
       "      <td>51.5</td>\n",
       "      <td>Cherry Tree</td>\n",
       "    </tr>\n",
       "  </tbody>\n",
       "</table>\n",
       "</div>"
      ],
      "text/plain": [
       "    diametro  altura  volumen tipo_de_arbol\n",
       "0       11.2      75     19.9  Cherrie Tree\n",
       "1       11.3      79     24.2   Cherry Tree\n",
       "2       11.4      76     21.0   Cherry Tree\n",
       "3       11.4      76     21.4    Apple Tree\n",
       "4       13.7      71     25.7   Cherry Tree\n",
       "5       13.8      64     24.9   Cherry Tree\n",
       "6       14.0      78     34.5  Cherrie Tree\n",
       "7       14.2      80     31.7   Cherry Tree\n",
       "9       16.0      72     38.3   Cherry Tree\n",
       "10      16.3      77     42.6   Cherry Tree\n",
       "11      17.3      81     55.4    Apple Tree\n",
       "13      17.9      80     58.3   Cherry Tree\n",
       "14      18.0      80     51.5   Cherry Tree"
      ]
     },
     "execution_count": 294,
     "metadata": {},
     "output_type": "execute_result"
    }
   ],
   "source": [
    "# Imputación de datos: desechar filas con NaN\n",
    "df3 = df.dropna()\n",
    "df3"
   ]
  },
  {
   "cell_type": "markdown",
   "metadata": {
    "slideshow": {
     "slide_type": "slide"
    }
   },
   "source": [
    "### 5.10 Apply"
   ]
  },
  {
   "cell_type": "code",
   "execution_count": 295,
   "metadata": {},
   "outputs": [
    {
     "data": {
      "text/plain": [
       "0     22.4\n",
       "1     22.6\n",
       "2     22.8\n",
       "3     22.8\n",
       "4     27.4\n",
       "5     27.6\n",
       "6     28.0\n",
       "7     28.4\n",
       "8      NaN\n",
       "9     32.0\n",
       "10    32.6\n",
       "11    34.6\n",
       "12    35.0\n",
       "13    35.8\n",
       "14    36.0\n",
       "15    36.0\n",
       "16    41.2\n",
       "Name: diametro, dtype: float64"
      ]
     },
     "execution_count": 295,
     "metadata": {},
     "output_type": "execute_result"
    }
   ],
   "source": [
    "df = pd.read_csv(\"data/data.csv\", sep=\";\")\n",
    "df1 = df.diametro.apply(lambda x: x*2)\n",
    "df1"
   ]
  },
  {
   "cell_type": "code",
   "execution_count": 296,
   "metadata": {
    "slideshow": {
     "slide_type": "slide"
    }
   },
   "outputs": [
    {
     "ename": "TypeError",
     "evalue": "descriptor 'upper' requires a 'str' object but received a 'float'",
     "output_type": "error",
     "traceback": [
      "\u001b[1;31m---------------------------------------------------------------------------\u001b[0m",
      "\u001b[1;31mTypeError\u001b[0m                                 Traceback (most recent call last)",
      "\u001b[1;32m<ipython-input-296-1993c7531ea9>\u001b[0m in \u001b[0;36m<module>\u001b[1;34m()\u001b[0m\n\u001b[0;32m      1\u001b[0m \u001b[1;31m# Aplicación incorrecta\u001b[0m\u001b[1;33m\u001b[0m\u001b[1;33m\u001b[0m\u001b[0m\n\u001b[1;32m----> 2\u001b[1;33m \u001b[0mdf2\u001b[0m \u001b[1;33m=\u001b[0m \u001b[0mdf\u001b[0m\u001b[1;33m[\u001b[0m\u001b[1;34m\"tipo_de_arbol\"\u001b[0m\u001b[1;33m]\u001b[0m\u001b[1;33m.\u001b[0m\u001b[0mapply\u001b[0m\u001b[1;33m(\u001b[0m\u001b[0mstr\u001b[0m\u001b[1;33m.\u001b[0m\u001b[0mupper\u001b[0m\u001b[1;33m)\u001b[0m \u001b[1;31m# Error\u001b[0m\u001b[1;33m\u001b[0m\u001b[0m\n\u001b[0m\u001b[0;32m      3\u001b[0m \u001b[0mdf2\u001b[0m\u001b[1;33m\u001b[0m\u001b[0m\n",
      "\u001b[1;32m/usr/local/lib/python2.7/dist-packages/pandas/core/series.pyc\u001b[0m in \u001b[0;36mapply\u001b[1;34m(self, func, convert_dtype, args, **kwds)\u001b[0m\n\u001b[0;32m   2051\u001b[0m             \u001b[0mvalues\u001b[0m \u001b[1;33m=\u001b[0m \u001b[0mlib\u001b[0m\u001b[1;33m.\u001b[0m\u001b[0mmap_infer\u001b[0m\u001b[1;33m(\u001b[0m\u001b[0mvalues\u001b[0m\u001b[1;33m,\u001b[0m \u001b[0mlib\u001b[0m\u001b[1;33m.\u001b[0m\u001b[0mTimestamp\u001b[0m\u001b[1;33m)\u001b[0m\u001b[1;33m\u001b[0m\u001b[0m\n\u001b[0;32m   2052\u001b[0m \u001b[1;33m\u001b[0m\u001b[0m\n\u001b[1;32m-> 2053\u001b[1;33m         \u001b[0mmapped\u001b[0m \u001b[1;33m=\u001b[0m \u001b[0mlib\u001b[0m\u001b[1;33m.\u001b[0m\u001b[0mmap_infer\u001b[0m\u001b[1;33m(\u001b[0m\u001b[0mvalues\u001b[0m\u001b[1;33m,\u001b[0m \u001b[0mf\u001b[0m\u001b[1;33m,\u001b[0m \u001b[0mconvert\u001b[0m\u001b[1;33m=\u001b[0m\u001b[0mconvert_dtype\u001b[0m\u001b[1;33m)\u001b[0m\u001b[1;33m\u001b[0m\u001b[0m\n\u001b[0m\u001b[0;32m   2054\u001b[0m         \u001b[1;32mif\u001b[0m \u001b[0mlen\u001b[0m\u001b[1;33m(\u001b[0m\u001b[0mmapped\u001b[0m\u001b[1;33m)\u001b[0m \u001b[1;32mand\u001b[0m \u001b[0misinstance\u001b[0m\u001b[1;33m(\u001b[0m\u001b[0mmapped\u001b[0m\u001b[1;33m[\u001b[0m\u001b[1;36m0\u001b[0m\u001b[1;33m]\u001b[0m\u001b[1;33m,\u001b[0m \u001b[0mSeries\u001b[0m\u001b[1;33m)\u001b[0m\u001b[1;33m:\u001b[0m\u001b[1;33m\u001b[0m\u001b[0m\n\u001b[0;32m   2055\u001b[0m             \u001b[1;32mfrom\u001b[0m \u001b[0mpandas\u001b[0m\u001b[1;33m.\u001b[0m\u001b[0mcore\u001b[0m\u001b[1;33m.\u001b[0m\u001b[0mframe\u001b[0m \u001b[1;32mimport\u001b[0m \u001b[0mDataFrame\u001b[0m\u001b[1;33m\u001b[0m\u001b[0m\n",
      "\u001b[1;32mpandas/src/inference.pyx\u001b[0m in \u001b[0;36mpandas.lib.map_infer (pandas/lib.c:58519)\u001b[1;34m()\u001b[0m\n",
      "\u001b[1;31mTypeError\u001b[0m: descriptor 'upper' requires a 'str' object but received a 'float'"
     ]
    }
   ],
   "source": [
    "# Aplicación incorrecta\n",
    "df2 = df[\"tipo_de_arbol\"].apply(str.upper) # Error\n",
    "df2"
   ]
  },
  {
   "cell_type": "code",
   "execution_count": 297,
   "metadata": {},
   "outputs": [
    {
     "data": {
      "text/plain": [
       "0     CHERRIE TREE\n",
       "1      CHERRY TREE\n",
       "2      CHERRY TREE\n",
       "3       APPLE TREE\n",
       "4      CHERRY TREE\n",
       "5      CHERRY TREE\n",
       "6     CHERRIE TREE\n",
       "7      CHERRY TREE\n",
       "8       APPLE TREE\n",
       "9      CHERRY TREE\n",
       "10     CHERRY TREE\n",
       "11      APPLE TREE\n",
       "12     CHERRY TREE\n",
       "13     CHERRY TREE\n",
       "14     CHERRY TREE\n",
       "15             NAN\n",
       "16     CHERRY TREE\n",
       "Name: tipo_de_arbol, dtype: object"
      ]
     },
     "execution_count": 297,
     "metadata": {},
     "output_type": "execute_result"
    }
   ],
   "source": [
    "# Aplicación correcta\n",
    "df2 = df[\"tipo_de_arbol\"].apply(lambda s: str(s).upper() )\n",
    "df2"
   ]
  },
  {
   "cell_type": "code",
   "execution_count": 298,
   "metadata": {
    "slideshow": {
     "slide_type": "slide"
    }
   },
   "outputs": [
    {
     "data": {
      "text/html": [
       "<div style=\"max-height:1000px;max-width:1500px;overflow:auto;\">\n",
       "<table border=\"1\" class=\"dataframe\">\n",
       "  <thead>\n",
       "    <tr style=\"text-align: right;\">\n",
       "      <th></th>\n",
       "      <th>diametro</th>\n",
       "      <th>altura</th>\n",
       "      <th>volumen</th>\n",
       "      <th>tipo_de_arbol</th>\n",
       "    </tr>\n",
       "  </thead>\n",
       "  <tbody>\n",
       "    <tr>\n",
       "      <th>0</th>\n",
       "      <td>22.4</td>\n",
       "      <td>150</td>\n",
       "      <td>39.8</td>\n",
       "      <td>Cherrie TreeCherrie Tree</td>\n",
       "    </tr>\n",
       "    <tr>\n",
       "      <th>1</th>\n",
       "      <td>22.6</td>\n",
       "      <td>158</td>\n",
       "      <td>48.4</td>\n",
       "      <td>Cherry TreeCherry Tree</td>\n",
       "    </tr>\n",
       "    <tr>\n",
       "      <th>2</th>\n",
       "      <td>22.8</td>\n",
       "      <td>152</td>\n",
       "      <td>42.0</td>\n",
       "      <td>Cherry TreeCherry Tree</td>\n",
       "    </tr>\n",
       "    <tr>\n",
       "      <th>3</th>\n",
       "      <td>22.8</td>\n",
       "      <td>152</td>\n",
       "      <td>42.8</td>\n",
       "      <td>Apple TreeApple Tree</td>\n",
       "    </tr>\n",
       "    <tr>\n",
       "      <th>4</th>\n",
       "      <td>27.4</td>\n",
       "      <td>142</td>\n",
       "      <td>51.4</td>\n",
       "      <td>Cherry TreeCherry Tree</td>\n",
       "    </tr>\n",
       "    <tr>\n",
       "      <th>5</th>\n",
       "      <td>27.6</td>\n",
       "      <td>128</td>\n",
       "      <td>49.8</td>\n",
       "      <td>Cherry TreeCherry Tree</td>\n",
       "    </tr>\n",
       "    <tr>\n",
       "      <th>6</th>\n",
       "      <td>28.0</td>\n",
       "      <td>156</td>\n",
       "      <td>69.0</td>\n",
       "      <td>Cherrie TreeCherrie Tree</td>\n",
       "    </tr>\n",
       "    <tr>\n",
       "      <th>7</th>\n",
       "      <td>28.4</td>\n",
       "      <td>160</td>\n",
       "      <td>63.4</td>\n",
       "      <td>Cherry TreeCherry Tree</td>\n",
       "    </tr>\n",
       "    <tr>\n",
       "      <th>8</th>\n",
       "      <td>NaN</td>\n",
       "      <td>148</td>\n",
       "      <td>72.6</td>\n",
       "      <td>Apple TreeApple Tree</td>\n",
       "    </tr>\n",
       "    <tr>\n",
       "      <th>9</th>\n",
       "      <td>32.0</td>\n",
       "      <td>144</td>\n",
       "      <td>76.6</td>\n",
       "      <td>Cherry TreeCherry Tree</td>\n",
       "    </tr>\n",
       "    <tr>\n",
       "      <th>10</th>\n",
       "      <td>32.6</td>\n",
       "      <td>154</td>\n",
       "      <td>85.2</td>\n",
       "      <td>Cherry TreeCherry Tree</td>\n",
       "    </tr>\n",
       "    <tr>\n",
       "      <th>11</th>\n",
       "      <td>34.6</td>\n",
       "      <td>162</td>\n",
       "      <td>110.8</td>\n",
       "      <td>Apple TreeApple Tree</td>\n",
       "    </tr>\n",
       "    <tr>\n",
       "      <th>12</th>\n",
       "      <td>35.0</td>\n",
       "      <td>NaN</td>\n",
       "      <td>111.4</td>\n",
       "      <td>Cherry TreeCherry Tree</td>\n",
       "    </tr>\n",
       "    <tr>\n",
       "      <th>13</th>\n",
       "      <td>35.8</td>\n",
       "      <td>160</td>\n",
       "      <td>116.6</td>\n",
       "      <td>Cherry TreeCherry Tree</td>\n",
       "    </tr>\n",
       "    <tr>\n",
       "      <th>14</th>\n",
       "      <td>36.0</td>\n",
       "      <td>160</td>\n",
       "      <td>103.0</td>\n",
       "      <td>Cherry TreeCherry Tree</td>\n",
       "    </tr>\n",
       "    <tr>\n",
       "      <th>15</th>\n",
       "      <td>36.0</td>\n",
       "      <td>NaN</td>\n",
       "      <td>102.0</td>\n",
       "      <td>NaN</td>\n",
       "    </tr>\n",
       "    <tr>\n",
       "      <th>16</th>\n",
       "      <td>41.2</td>\n",
       "      <td>NaN</td>\n",
       "      <td>NaN</td>\n",
       "      <td>Cherry TreeCherry Tree</td>\n",
       "    </tr>\n",
       "  </tbody>\n",
       "</table>\n",
       "</div>"
      ],
      "text/plain": [
       "    diametro  altura  volumen             tipo_de_arbol\n",
       "0       22.4     150     39.8  Cherrie TreeCherrie Tree\n",
       "1       22.6     158     48.4    Cherry TreeCherry Tree\n",
       "2       22.8     152     42.0    Cherry TreeCherry Tree\n",
       "3       22.8     152     42.8      Apple TreeApple Tree\n",
       "4       27.4     142     51.4    Cherry TreeCherry Tree\n",
       "5       27.6     128     49.8    Cherry TreeCherry Tree\n",
       "6       28.0     156     69.0  Cherrie TreeCherrie Tree\n",
       "7       28.4     160     63.4    Cherry TreeCherry Tree\n",
       "8        NaN     148     72.6      Apple TreeApple Tree\n",
       "9       32.0     144     76.6    Cherry TreeCherry Tree\n",
       "10      32.6     154     85.2    Cherry TreeCherry Tree\n",
       "11      34.6     162    110.8      Apple TreeApple Tree\n",
       "12      35.0     NaN    111.4    Cherry TreeCherry Tree\n",
       "13      35.8     160    116.6    Cherry TreeCherry Tree\n",
       "14      36.0     160    103.0    Cherry TreeCherry Tree\n",
       "15      36.0     NaN    102.0                       NaN\n",
       "16      41.2     NaN      NaN    Cherry TreeCherry Tree"
      ]
     },
     "execution_count": 298,
     "metadata": {},
     "output_type": "execute_result"
    }
   ],
   "source": [
    "# Error (o no?)\n",
    "df3 = df.apply(lambda x: x*2)\n",
    "df3"
   ]
  },
  {
   "cell_type": "markdown",
   "metadata": {
    "slideshow": {
     "slide_type": "slide"
    }
   },
   "source": [
    "#### Atajo\n",
    "\n",
    "Para usar las operaciones de string en una columna de strings, es posible utilizar la siguiente notación para ahorrar espacio."
   ]
  },
  {
   "cell_type": "code",
   "execution_count": 299,
   "metadata": {},
   "outputs": [
    {
     "data": {
      "text/plain": [
       "0     CHERRIE TREE\n",
       "1      CHERRY TREE\n",
       "2      CHERRY TREE\n",
       "3       APPLE TREE\n",
       "4      CHERRY TREE\n",
       "5      CHERRY TREE\n",
       "6     CHERRIE TREE\n",
       "7      CHERRY TREE\n",
       "8       APPLE TREE\n",
       "9      CHERRY TREE\n",
       "10     CHERRY TREE\n",
       "11      APPLE TREE\n",
       "12     CHERRY TREE\n",
       "13     CHERRY TREE\n",
       "14     CHERRY TREE\n",
       "15             NaN\n",
       "16     CHERRY TREE\n",
       "Name: tipo_de_arbol, dtype: object"
      ]
     },
     "execution_count": 299,
     "metadata": {},
     "output_type": "execute_result"
    }
   ],
   "source": [
    "df.tipo_de_arbol.str.upper()"
   ]
  },
  {
   "cell_type": "code",
   "execution_count": 300,
   "metadata": {
    "slideshow": {
     "slide_type": "slide"
    }
   },
   "outputs": [
    {
     "data": {
      "text/plain": [
       "0     12\n",
       "1     11\n",
       "2     11\n",
       "3     10\n",
       "4     11\n",
       "5     11\n",
       "6     12\n",
       "7     11\n",
       "8     10\n",
       "9     11\n",
       "10    11\n",
       "11    10\n",
       "12    11\n",
       "13    11\n",
       "14    11\n",
       "15   NaN\n",
       "16    11\n",
       "Name: tipo_de_arbol, dtype: float64"
      ]
     },
     "execution_count": 300,
     "metadata": {},
     "output_type": "execute_result"
    }
   ],
   "source": [
    "df.tipo_de_arbol.str.len()"
   ]
  },
  {
   "cell_type": "code",
   "execution_count": 301,
   "metadata": {
    "slideshow": {
     "slide_type": "slide"
    }
   },
   "outputs": [
    {
     "data": {
      "text/plain": [
       "0     rrie T\n",
       "1      rry T\n",
       "2      rry T\n",
       "3       le T\n",
       "4      rry T\n",
       "5      rry T\n",
       "6     rrie T\n",
       "7      rry T\n",
       "8       le T\n",
       "9      rry T\n",
       "10     rry T\n",
       "11      le T\n",
       "12     rry T\n",
       "13     rry T\n",
       "14     rry T\n",
       "15       NaN\n",
       "16     rry T\n",
       "Name: tipo_de_arbol, dtype: object"
      ]
     },
     "execution_count": 301,
     "metadata": {},
     "output_type": "execute_result"
    }
   ],
   "source": [
    "df.tipo_de_arbol.str[3:-3]"
   ]
  },
  {
   "cell_type": "markdown",
   "metadata": {
    "slideshow": {
     "slide_type": "slide"
    }
   },
   "source": [
    "### 5.11 Merge"
   ]
  },
  {
   "cell_type": "code",
   "execution_count": 302,
   "metadata": {},
   "outputs": [
    {
     "data": {
      "text/html": [
       "<div style=\"max-height:1000px;max-width:1500px;overflow:auto;\">\n",
       "<table border=\"1\" class=\"dataframe\">\n",
       "  <thead>\n",
       "    <tr style=\"text-align: right;\">\n",
       "      <th></th>\n",
       "      <th>diametro</th>\n",
       "      <th>altura</th>\n",
       "      <th>volumen</th>\n",
       "      <th>tipo_de_arbol</th>\n",
       "    </tr>\n",
       "  </thead>\n",
       "  <tbody>\n",
       "    <tr>\n",
       "      <th>0</th>\n",
       "      <td>11.2</td>\n",
       "      <td>75</td>\n",
       "      <td>19.9</td>\n",
       "      <td>Cherrie Tree</td>\n",
       "    </tr>\n",
       "    <tr>\n",
       "      <th>1</th>\n",
       "      <td>11.3</td>\n",
       "      <td>79</td>\n",
       "      <td>24.2</td>\n",
       "      <td>Cherry Tree</td>\n",
       "    </tr>\n",
       "    <tr>\n",
       "      <th>2</th>\n",
       "      <td>11.4</td>\n",
       "      <td>76</td>\n",
       "      <td>21.0</td>\n",
       "      <td>Cherry Tree</td>\n",
       "    </tr>\n",
       "    <tr>\n",
       "      <th>3</th>\n",
       "      <td>11.4</td>\n",
       "      <td>76</td>\n",
       "      <td>21.4</td>\n",
       "      <td>Apple Tree</td>\n",
       "    </tr>\n",
       "    <tr>\n",
       "      <th>4</th>\n",
       "      <td>13.7</td>\n",
       "      <td>71</td>\n",
       "      <td>25.7</td>\n",
       "      <td>Cherry Tree</td>\n",
       "    </tr>\n",
       "    <tr>\n",
       "      <th>5</th>\n",
       "      <td>13.8</td>\n",
       "      <td>64</td>\n",
       "      <td>24.9</td>\n",
       "      <td>Cherry Tree</td>\n",
       "    </tr>\n",
       "    <tr>\n",
       "      <th>6</th>\n",
       "      <td>14.0</td>\n",
       "      <td>78</td>\n",
       "      <td>34.5</td>\n",
       "      <td>Cherrie Tree</td>\n",
       "    </tr>\n",
       "    <tr>\n",
       "      <th>7</th>\n",
       "      <td>14.2</td>\n",
       "      <td>80</td>\n",
       "      <td>31.7</td>\n",
       "      <td>Cherry Tree</td>\n",
       "    </tr>\n",
       "    <tr>\n",
       "      <th>8</th>\n",
       "      <td>NaN</td>\n",
       "      <td>74</td>\n",
       "      <td>36.3</td>\n",
       "      <td>Apple Tree</td>\n",
       "    </tr>\n",
       "    <tr>\n",
       "      <th>9</th>\n",
       "      <td>16.0</td>\n",
       "      <td>72</td>\n",
       "      <td>38.3</td>\n",
       "      <td>Cherry Tree</td>\n",
       "    </tr>\n",
       "    <tr>\n",
       "      <th>10</th>\n",
       "      <td>16.3</td>\n",
       "      <td>77</td>\n",
       "      <td>42.6</td>\n",
       "      <td>Cherry Tree</td>\n",
       "    </tr>\n",
       "    <tr>\n",
       "      <th>11</th>\n",
       "      <td>17.3</td>\n",
       "      <td>81</td>\n",
       "      <td>55.4</td>\n",
       "      <td>Apple Tree</td>\n",
       "    </tr>\n",
       "    <tr>\n",
       "      <th>12</th>\n",
       "      <td>17.5</td>\n",
       "      <td>NaN</td>\n",
       "      <td>55.7</td>\n",
       "      <td>Cherry Tree</td>\n",
       "    </tr>\n",
       "    <tr>\n",
       "      <th>13</th>\n",
       "      <td>17.9</td>\n",
       "      <td>80</td>\n",
       "      <td>58.3</td>\n",
       "      <td>Cherry Tree</td>\n",
       "    </tr>\n",
       "    <tr>\n",
       "      <th>14</th>\n",
       "      <td>18.0</td>\n",
       "      <td>80</td>\n",
       "      <td>51.5</td>\n",
       "      <td>Cherry Tree</td>\n",
       "    </tr>\n",
       "    <tr>\n",
       "      <th>15</th>\n",
       "      <td>18.0</td>\n",
       "      <td>NaN</td>\n",
       "      <td>51.0</td>\n",
       "      <td>NaN</td>\n",
       "    </tr>\n",
       "    <tr>\n",
       "      <th>16</th>\n",
       "      <td>20.6</td>\n",
       "      <td>NaN</td>\n",
       "      <td>NaN</td>\n",
       "      <td>Cherry Tree</td>\n",
       "    </tr>\n",
       "  </tbody>\n",
       "</table>\n",
       "</div>"
      ],
      "text/plain": [
       "    diametro  altura  volumen tipo_de_arbol\n",
       "0       11.2      75     19.9  Cherrie Tree\n",
       "1       11.3      79     24.2   Cherry Tree\n",
       "2       11.4      76     21.0   Cherry Tree\n",
       "3       11.4      76     21.4    Apple Tree\n",
       "4       13.7      71     25.7   Cherry Tree\n",
       "5       13.8      64     24.9   Cherry Tree\n",
       "6       14.0      78     34.5  Cherrie Tree\n",
       "7       14.2      80     31.7   Cherry Tree\n",
       "8        NaN      74     36.3    Apple Tree\n",
       "9       16.0      72     38.3   Cherry Tree\n",
       "10      16.3      77     42.6   Cherry Tree\n",
       "11      17.3      81     55.4    Apple Tree\n",
       "12      17.5     NaN     55.7   Cherry Tree\n",
       "13      17.9      80     58.3   Cherry Tree\n",
       "14      18.0      80     51.5   Cherry Tree\n",
       "15      18.0     NaN     51.0           NaN\n",
       "16      20.6     NaN      NaN   Cherry Tree"
      ]
     },
     "execution_count": 302,
     "metadata": {},
     "output_type": "execute_result"
    }
   ],
   "source": [
    "df1 = pd.read_csv(\"data/data.csv\", sep=\";\")\n",
    "df1"
   ]
  },
  {
   "cell_type": "code",
   "execution_count": 304,
   "metadata": {
    "slideshow": {
     "slide_type": "slide"
    }
   },
   "outputs": [
    {
     "data": {
      "text/html": [
       "<div style=\"max-height:1000px;max-width:1500px;overflow:auto;\">\n",
       "<table border=\"1\" class=\"dataframe\">\n",
       "  <thead>\n",
       "    <tr style=\"text-align: right;\">\n",
       "      <th></th>\n",
       "      <th>fruto</th>\n",
       "      <th>precio_pesos_por_kg</th>\n",
       "      <th>tipo_de_arbol</th>\n",
       "    </tr>\n",
       "  </thead>\n",
       "  <tbody>\n",
       "    <tr>\n",
       "      <th>0</th>\n",
       "      <td>guinda</td>\n",
       "      <td>500</td>\n",
       "      <td>Cherry Tree</td>\n",
       "    </tr>\n",
       "    <tr>\n",
       "      <th>1</th>\n",
       "      <td>manzana</td>\n",
       "      <td>2000</td>\n",
       "      <td>Apple Tree</td>\n",
       "    </tr>\n",
       "    <tr>\n",
       "      <th>2</th>\n",
       "      <td>pera</td>\n",
       "      <td>NaN</td>\n",
       "      <td>Pear Tree</td>\n",
       "    </tr>\n",
       "  </tbody>\n",
       "</table>\n",
       "</div>"
      ],
      "text/plain": [
       "     fruto  precio_pesos_por_kg tipo_de_arbol\n",
       "0   guinda                  500   Cherry Tree\n",
       "1  manzana                 2000    Apple Tree\n",
       "2     pera                  NaN     Pear Tree"
      ]
     },
     "execution_count": 304,
     "metadata": {},
     "output_type": "execute_result"
    }
   ],
   "source": [
    "df2 = pd.DataFrame(data={\"tipo_de_arbol\":[\"Cherry Tree\", \"Apple Tree\", \"Pear Tree\"], \n",
    "                         \"fruto\":[\"guinda\",\"manzana\", \"pera\"], \n",
    "                         \"precio_pesos_por_kg\":[500, 2000, np.nan]})\n",
    "df2"
   ]
  },
  {
   "cell_type": "code",
   "execution_count": 305,
   "metadata": {
    "slideshow": {
     "slide_type": "slide"
    }
   },
   "outputs": [
    {
     "data": {
      "text/html": [
       "<div style=\"max-height:1000px;max-width:1500px;overflow:auto;\">\n",
       "<table border=\"1\" class=\"dataframe\">\n",
       "  <thead>\n",
       "    <tr style=\"text-align: right;\">\n",
       "      <th></th>\n",
       "      <th>diametro</th>\n",
       "      <th>altura</th>\n",
       "      <th>volumen</th>\n",
       "      <th>tipo_de_arbol</th>\n",
       "      <th>fruto</th>\n",
       "      <th>precio_pesos_por_kg</th>\n",
       "    </tr>\n",
       "  </thead>\n",
       "  <tbody>\n",
       "    <tr>\n",
       "      <th>0</th>\n",
       "      <td>11.2</td>\n",
       "      <td>75</td>\n",
       "      <td>19.9</td>\n",
       "      <td>Cherrie Tree</td>\n",
       "      <td>NaN</td>\n",
       "      <td>NaN</td>\n",
       "    </tr>\n",
       "    <tr>\n",
       "      <th>1</th>\n",
       "      <td>11.3</td>\n",
       "      <td>79</td>\n",
       "      <td>24.2</td>\n",
       "      <td>Cherry Tree</td>\n",
       "      <td>guinda</td>\n",
       "      <td>500</td>\n",
       "    </tr>\n",
       "    <tr>\n",
       "      <th>2</th>\n",
       "      <td>11.4</td>\n",
       "      <td>76</td>\n",
       "      <td>21.0</td>\n",
       "      <td>Cherry Tree</td>\n",
       "      <td>guinda</td>\n",
       "      <td>500</td>\n",
       "    </tr>\n",
       "    <tr>\n",
       "      <th>3</th>\n",
       "      <td>11.4</td>\n",
       "      <td>76</td>\n",
       "      <td>21.4</td>\n",
       "      <td>Apple Tree</td>\n",
       "      <td>manzana</td>\n",
       "      <td>2000</td>\n",
       "    </tr>\n",
       "    <tr>\n",
       "      <th>4</th>\n",
       "      <td>13.7</td>\n",
       "      <td>71</td>\n",
       "      <td>25.7</td>\n",
       "      <td>Cherry Tree</td>\n",
       "      <td>guinda</td>\n",
       "      <td>500</td>\n",
       "    </tr>\n",
       "    <tr>\n",
       "      <th>5</th>\n",
       "      <td>13.8</td>\n",
       "      <td>64</td>\n",
       "      <td>24.9</td>\n",
       "      <td>Cherry Tree</td>\n",
       "      <td>guinda</td>\n",
       "      <td>500</td>\n",
       "    </tr>\n",
       "    <tr>\n",
       "      <th>6</th>\n",
       "      <td>14.0</td>\n",
       "      <td>78</td>\n",
       "      <td>34.5</td>\n",
       "      <td>Cherrie Tree</td>\n",
       "      <td>NaN</td>\n",
       "      <td>NaN</td>\n",
       "    </tr>\n",
       "    <tr>\n",
       "      <th>7</th>\n",
       "      <td>14.2</td>\n",
       "      <td>80</td>\n",
       "      <td>31.7</td>\n",
       "      <td>Cherry Tree</td>\n",
       "      <td>guinda</td>\n",
       "      <td>500</td>\n",
       "    </tr>\n",
       "    <tr>\n",
       "      <th>8</th>\n",
       "      <td>NaN</td>\n",
       "      <td>74</td>\n",
       "      <td>36.3</td>\n",
       "      <td>Apple Tree</td>\n",
       "      <td>manzana</td>\n",
       "      <td>2000</td>\n",
       "    </tr>\n",
       "    <tr>\n",
       "      <th>9</th>\n",
       "      <td>16.0</td>\n",
       "      <td>72</td>\n",
       "      <td>38.3</td>\n",
       "      <td>Cherry Tree</td>\n",
       "      <td>guinda</td>\n",
       "      <td>500</td>\n",
       "    </tr>\n",
       "    <tr>\n",
       "      <th>10</th>\n",
       "      <td>16.3</td>\n",
       "      <td>77</td>\n",
       "      <td>42.6</td>\n",
       "      <td>Cherry Tree</td>\n",
       "      <td>guinda</td>\n",
       "      <td>500</td>\n",
       "    </tr>\n",
       "    <tr>\n",
       "      <th>11</th>\n",
       "      <td>17.3</td>\n",
       "      <td>81</td>\n",
       "      <td>55.4</td>\n",
       "      <td>Apple Tree</td>\n",
       "      <td>manzana</td>\n",
       "      <td>2000</td>\n",
       "    </tr>\n",
       "    <tr>\n",
       "      <th>12</th>\n",
       "      <td>17.5</td>\n",
       "      <td>NaN</td>\n",
       "      <td>55.7</td>\n",
       "      <td>Cherry Tree</td>\n",
       "      <td>guinda</td>\n",
       "      <td>500</td>\n",
       "    </tr>\n",
       "    <tr>\n",
       "      <th>13</th>\n",
       "      <td>17.9</td>\n",
       "      <td>80</td>\n",
       "      <td>58.3</td>\n",
       "      <td>Cherry Tree</td>\n",
       "      <td>guinda</td>\n",
       "      <td>500</td>\n",
       "    </tr>\n",
       "    <tr>\n",
       "      <th>14</th>\n",
       "      <td>18.0</td>\n",
       "      <td>80</td>\n",
       "      <td>51.5</td>\n",
       "      <td>Cherry Tree</td>\n",
       "      <td>guinda</td>\n",
       "      <td>500</td>\n",
       "    </tr>\n",
       "    <tr>\n",
       "      <th>15</th>\n",
       "      <td>18.0</td>\n",
       "      <td>NaN</td>\n",
       "      <td>51.0</td>\n",
       "      <td>NaN</td>\n",
       "      <td>NaN</td>\n",
       "      <td>NaN</td>\n",
       "    </tr>\n",
       "    <tr>\n",
       "      <th>16</th>\n",
       "      <td>20.6</td>\n",
       "      <td>NaN</td>\n",
       "      <td>NaN</td>\n",
       "      <td>Cherry Tree</td>\n",
       "      <td>guinda</td>\n",
       "      <td>500</td>\n",
       "    </tr>\n",
       "  </tbody>\n",
       "</table>\n",
       "</div>"
      ],
      "text/plain": [
       "    diametro  altura  volumen tipo_de_arbol    fruto  precio_pesos_por_kg\n",
       "0       11.2      75     19.9  Cherrie Tree      NaN                  NaN\n",
       "1       11.3      79     24.2   Cherry Tree   guinda                  500\n",
       "2       11.4      76     21.0   Cherry Tree   guinda                  500\n",
       "3       11.4      76     21.4    Apple Tree  manzana                 2000\n",
       "4       13.7      71     25.7   Cherry Tree   guinda                  500\n",
       "5       13.8      64     24.9   Cherry Tree   guinda                  500\n",
       "6       14.0      78     34.5  Cherrie Tree      NaN                  NaN\n",
       "7       14.2      80     31.7   Cherry Tree   guinda                  500\n",
       "8        NaN      74     36.3    Apple Tree  manzana                 2000\n",
       "9       16.0      72     38.3   Cherry Tree   guinda                  500\n",
       "10      16.3      77     42.6   Cherry Tree   guinda                  500\n",
       "11      17.3      81     55.4    Apple Tree  manzana                 2000\n",
       "12      17.5     NaN     55.7   Cherry Tree   guinda                  500\n",
       "13      17.9      80     58.3   Cherry Tree   guinda                  500\n",
       "14      18.0      80     51.5   Cherry Tree   guinda                  500\n",
       "15      18.0     NaN     51.0           NaN      NaN                  NaN\n",
       "16      20.6     NaN      NaN   Cherry Tree   guinda                  500"
      ]
     },
     "execution_count": 305,
     "metadata": {},
     "output_type": "execute_result"
    }
   ],
   "source": [
    "df3 = df1.merge(df2, how=\"left\", on=\"tipo_de_arbol\")\n",
    "df3"
   ]
  },
  {
   "cell_type": "code",
   "execution_count": 306,
   "metadata": {
    "slideshow": {
     "slide_type": "slide"
    }
   },
   "outputs": [
    {
     "data": {
      "text/html": [
       "<div style=\"max-height:1000px;max-width:1500px;overflow:auto;\">\n",
       "<table border=\"1\" class=\"dataframe\">\n",
       "  <thead>\n",
       "    <tr style=\"text-align: right;\">\n",
       "      <th></th>\n",
       "      <th>diametro</th>\n",
       "      <th>altura</th>\n",
       "      <th>volumen</th>\n",
       "      <th>tipo_de_arbol</th>\n",
       "      <th>fruto</th>\n",
       "      <th>precio_pesos_por_kg</th>\n",
       "    </tr>\n",
       "  </thead>\n",
       "  <tbody>\n",
       "    <tr>\n",
       "      <th>0</th>\n",
       "      <td>11.3</td>\n",
       "      <td>79</td>\n",
       "      <td>24.2</td>\n",
       "      <td>Cherry Tree</td>\n",
       "      <td>guinda</td>\n",
       "      <td>500</td>\n",
       "    </tr>\n",
       "    <tr>\n",
       "      <th>1</th>\n",
       "      <td>11.4</td>\n",
       "      <td>76</td>\n",
       "      <td>21.0</td>\n",
       "      <td>Cherry Tree</td>\n",
       "      <td>guinda</td>\n",
       "      <td>500</td>\n",
       "    </tr>\n",
       "    <tr>\n",
       "      <th>2</th>\n",
       "      <td>13.7</td>\n",
       "      <td>71</td>\n",
       "      <td>25.7</td>\n",
       "      <td>Cherry Tree</td>\n",
       "      <td>guinda</td>\n",
       "      <td>500</td>\n",
       "    </tr>\n",
       "    <tr>\n",
       "      <th>3</th>\n",
       "      <td>13.8</td>\n",
       "      <td>64</td>\n",
       "      <td>24.9</td>\n",
       "      <td>Cherry Tree</td>\n",
       "      <td>guinda</td>\n",
       "      <td>500</td>\n",
       "    </tr>\n",
       "    <tr>\n",
       "      <th>4</th>\n",
       "      <td>14.2</td>\n",
       "      <td>80</td>\n",
       "      <td>31.7</td>\n",
       "      <td>Cherry Tree</td>\n",
       "      <td>guinda</td>\n",
       "      <td>500</td>\n",
       "    </tr>\n",
       "    <tr>\n",
       "      <th>5</th>\n",
       "      <td>16.0</td>\n",
       "      <td>72</td>\n",
       "      <td>38.3</td>\n",
       "      <td>Cherry Tree</td>\n",
       "      <td>guinda</td>\n",
       "      <td>500</td>\n",
       "    </tr>\n",
       "    <tr>\n",
       "      <th>6</th>\n",
       "      <td>16.3</td>\n",
       "      <td>77</td>\n",
       "      <td>42.6</td>\n",
       "      <td>Cherry Tree</td>\n",
       "      <td>guinda</td>\n",
       "      <td>500</td>\n",
       "    </tr>\n",
       "    <tr>\n",
       "      <th>7</th>\n",
       "      <td>17.5</td>\n",
       "      <td>NaN</td>\n",
       "      <td>55.7</td>\n",
       "      <td>Cherry Tree</td>\n",
       "      <td>guinda</td>\n",
       "      <td>500</td>\n",
       "    </tr>\n",
       "    <tr>\n",
       "      <th>8</th>\n",
       "      <td>17.9</td>\n",
       "      <td>80</td>\n",
       "      <td>58.3</td>\n",
       "      <td>Cherry Tree</td>\n",
       "      <td>guinda</td>\n",
       "      <td>500</td>\n",
       "    </tr>\n",
       "    <tr>\n",
       "      <th>9</th>\n",
       "      <td>18.0</td>\n",
       "      <td>80</td>\n",
       "      <td>51.5</td>\n",
       "      <td>Cherry Tree</td>\n",
       "      <td>guinda</td>\n",
       "      <td>500</td>\n",
       "    </tr>\n",
       "    <tr>\n",
       "      <th>10</th>\n",
       "      <td>20.6</td>\n",
       "      <td>NaN</td>\n",
       "      <td>NaN</td>\n",
       "      <td>Cherry Tree</td>\n",
       "      <td>guinda</td>\n",
       "      <td>500</td>\n",
       "    </tr>\n",
       "    <tr>\n",
       "      <th>11</th>\n",
       "      <td>11.4</td>\n",
       "      <td>76</td>\n",
       "      <td>21.4</td>\n",
       "      <td>Apple Tree</td>\n",
       "      <td>manzana</td>\n",
       "      <td>2000</td>\n",
       "    </tr>\n",
       "    <tr>\n",
       "      <th>12</th>\n",
       "      <td>NaN</td>\n",
       "      <td>74</td>\n",
       "      <td>36.3</td>\n",
       "      <td>Apple Tree</td>\n",
       "      <td>manzana</td>\n",
       "      <td>2000</td>\n",
       "    </tr>\n",
       "    <tr>\n",
       "      <th>13</th>\n",
       "      <td>17.3</td>\n",
       "      <td>81</td>\n",
       "      <td>55.4</td>\n",
       "      <td>Apple Tree</td>\n",
       "      <td>manzana</td>\n",
       "      <td>2000</td>\n",
       "    </tr>\n",
       "    <tr>\n",
       "      <th>14</th>\n",
       "      <td>NaN</td>\n",
       "      <td>NaN</td>\n",
       "      <td>NaN</td>\n",
       "      <td>Pear Tree</td>\n",
       "      <td>pera</td>\n",
       "      <td>NaN</td>\n",
       "    </tr>\n",
       "  </tbody>\n",
       "</table>\n",
       "</div>"
      ],
      "text/plain": [
       "    diametro  altura  volumen tipo_de_arbol    fruto  precio_pesos_por_kg\n",
       "0       11.3      79     24.2   Cherry Tree   guinda                  500\n",
       "1       11.4      76     21.0   Cherry Tree   guinda                  500\n",
       "2       13.7      71     25.7   Cherry Tree   guinda                  500\n",
       "3       13.8      64     24.9   Cherry Tree   guinda                  500\n",
       "4       14.2      80     31.7   Cherry Tree   guinda                  500\n",
       "5       16.0      72     38.3   Cherry Tree   guinda                  500\n",
       "6       16.3      77     42.6   Cherry Tree   guinda                  500\n",
       "7       17.5     NaN     55.7   Cherry Tree   guinda                  500\n",
       "8       17.9      80     58.3   Cherry Tree   guinda                  500\n",
       "9       18.0      80     51.5   Cherry Tree   guinda                  500\n",
       "10      20.6     NaN      NaN   Cherry Tree   guinda                  500\n",
       "11      11.4      76     21.4    Apple Tree  manzana                 2000\n",
       "12       NaN      74     36.3    Apple Tree  manzana                 2000\n",
       "13      17.3      81     55.4    Apple Tree  manzana                 2000\n",
       "14       NaN     NaN      NaN     Pear Tree     pera                  NaN"
      ]
     },
     "execution_count": 306,
     "metadata": {},
     "output_type": "execute_result"
    }
   ],
   "source": [
    "df3 = df1.merge(df2, how=\"right\", on=\"tipo_de_arbol\")\n",
    "df3"
   ]
  },
  {
   "cell_type": "code",
   "execution_count": 307,
   "metadata": {
    "slideshow": {
     "slide_type": "slide"
    }
   },
   "outputs": [
    {
     "data": {
      "text/html": [
       "<div style=\"max-height:1000px;max-width:1500px;overflow:auto;\">\n",
       "<table border=\"1\" class=\"dataframe\">\n",
       "  <thead>\n",
       "    <tr style=\"text-align: right;\">\n",
       "      <th></th>\n",
       "      <th>diametro</th>\n",
       "      <th>altura</th>\n",
       "      <th>volumen</th>\n",
       "      <th>tipo_de_arbol</th>\n",
       "      <th>fruto</th>\n",
       "      <th>precio_pesos_por_kg</th>\n",
       "    </tr>\n",
       "  </thead>\n",
       "  <tbody>\n",
       "    <tr>\n",
       "      <th>0</th>\n",
       "      <td>11.3</td>\n",
       "      <td>79</td>\n",
       "      <td>24.2</td>\n",
       "      <td>Cherry Tree</td>\n",
       "      <td>guinda</td>\n",
       "      <td>500</td>\n",
       "    </tr>\n",
       "    <tr>\n",
       "      <th>1</th>\n",
       "      <td>11.4</td>\n",
       "      <td>76</td>\n",
       "      <td>21.0</td>\n",
       "      <td>Cherry Tree</td>\n",
       "      <td>guinda</td>\n",
       "      <td>500</td>\n",
       "    </tr>\n",
       "    <tr>\n",
       "      <th>2</th>\n",
       "      <td>13.7</td>\n",
       "      <td>71</td>\n",
       "      <td>25.7</td>\n",
       "      <td>Cherry Tree</td>\n",
       "      <td>guinda</td>\n",
       "      <td>500</td>\n",
       "    </tr>\n",
       "    <tr>\n",
       "      <th>3</th>\n",
       "      <td>13.8</td>\n",
       "      <td>64</td>\n",
       "      <td>24.9</td>\n",
       "      <td>Cherry Tree</td>\n",
       "      <td>guinda</td>\n",
       "      <td>500</td>\n",
       "    </tr>\n",
       "    <tr>\n",
       "      <th>4</th>\n",
       "      <td>14.2</td>\n",
       "      <td>80</td>\n",
       "      <td>31.7</td>\n",
       "      <td>Cherry Tree</td>\n",
       "      <td>guinda</td>\n",
       "      <td>500</td>\n",
       "    </tr>\n",
       "    <tr>\n",
       "      <th>5</th>\n",
       "      <td>16.0</td>\n",
       "      <td>72</td>\n",
       "      <td>38.3</td>\n",
       "      <td>Cherry Tree</td>\n",
       "      <td>guinda</td>\n",
       "      <td>500</td>\n",
       "    </tr>\n",
       "    <tr>\n",
       "      <th>6</th>\n",
       "      <td>16.3</td>\n",
       "      <td>77</td>\n",
       "      <td>42.6</td>\n",
       "      <td>Cherry Tree</td>\n",
       "      <td>guinda</td>\n",
       "      <td>500</td>\n",
       "    </tr>\n",
       "    <tr>\n",
       "      <th>7</th>\n",
       "      <td>17.5</td>\n",
       "      <td>NaN</td>\n",
       "      <td>55.7</td>\n",
       "      <td>Cherry Tree</td>\n",
       "      <td>guinda</td>\n",
       "      <td>500</td>\n",
       "    </tr>\n",
       "    <tr>\n",
       "      <th>8</th>\n",
       "      <td>17.9</td>\n",
       "      <td>80</td>\n",
       "      <td>58.3</td>\n",
       "      <td>Cherry Tree</td>\n",
       "      <td>guinda</td>\n",
       "      <td>500</td>\n",
       "    </tr>\n",
       "    <tr>\n",
       "      <th>9</th>\n",
       "      <td>18.0</td>\n",
       "      <td>80</td>\n",
       "      <td>51.5</td>\n",
       "      <td>Cherry Tree</td>\n",
       "      <td>guinda</td>\n",
       "      <td>500</td>\n",
       "    </tr>\n",
       "    <tr>\n",
       "      <th>10</th>\n",
       "      <td>20.6</td>\n",
       "      <td>NaN</td>\n",
       "      <td>NaN</td>\n",
       "      <td>Cherry Tree</td>\n",
       "      <td>guinda</td>\n",
       "      <td>500</td>\n",
       "    </tr>\n",
       "    <tr>\n",
       "      <th>11</th>\n",
       "      <td>11.4</td>\n",
       "      <td>76</td>\n",
       "      <td>21.4</td>\n",
       "      <td>Apple Tree</td>\n",
       "      <td>manzana</td>\n",
       "      <td>2000</td>\n",
       "    </tr>\n",
       "    <tr>\n",
       "      <th>12</th>\n",
       "      <td>NaN</td>\n",
       "      <td>74</td>\n",
       "      <td>36.3</td>\n",
       "      <td>Apple Tree</td>\n",
       "      <td>manzana</td>\n",
       "      <td>2000</td>\n",
       "    </tr>\n",
       "    <tr>\n",
       "      <th>13</th>\n",
       "      <td>17.3</td>\n",
       "      <td>81</td>\n",
       "      <td>55.4</td>\n",
       "      <td>Apple Tree</td>\n",
       "      <td>manzana</td>\n",
       "      <td>2000</td>\n",
       "    </tr>\n",
       "  </tbody>\n",
       "</table>\n",
       "</div>"
      ],
      "text/plain": [
       "    diametro  altura  volumen tipo_de_arbol    fruto  precio_pesos_por_kg\n",
       "0       11.3      79     24.2   Cherry Tree   guinda                  500\n",
       "1       11.4      76     21.0   Cherry Tree   guinda                  500\n",
       "2       13.7      71     25.7   Cherry Tree   guinda                  500\n",
       "3       13.8      64     24.9   Cherry Tree   guinda                  500\n",
       "4       14.2      80     31.7   Cherry Tree   guinda                  500\n",
       "5       16.0      72     38.3   Cherry Tree   guinda                  500\n",
       "6       16.3      77     42.6   Cherry Tree   guinda                  500\n",
       "7       17.5     NaN     55.7   Cherry Tree   guinda                  500\n",
       "8       17.9      80     58.3   Cherry Tree   guinda                  500\n",
       "9       18.0      80     51.5   Cherry Tree   guinda                  500\n",
       "10      20.6     NaN      NaN   Cherry Tree   guinda                  500\n",
       "11      11.4      76     21.4    Apple Tree  manzana                 2000\n",
       "12       NaN      74     36.3    Apple Tree  manzana                 2000\n",
       "13      17.3      81     55.4    Apple Tree  manzana                 2000"
      ]
     },
     "execution_count": 307,
     "metadata": {},
     "output_type": "execute_result"
    }
   ],
   "source": [
    "df3 = df1.merge(df2, how=\"inner\", on=\"tipo_de_arbol\")\n",
    "df3"
   ]
  },
  {
   "cell_type": "code",
   "execution_count": 308,
   "metadata": {
    "slideshow": {
     "slide_type": "slide"
    }
   },
   "outputs": [
    {
     "data": {
      "text/html": [
       "<div style=\"max-height:1000px;max-width:1500px;overflow:auto;\">\n",
       "<table border=\"1\" class=\"dataframe\">\n",
       "  <thead>\n",
       "    <tr style=\"text-align: right;\">\n",
       "      <th></th>\n",
       "      <th>diametro</th>\n",
       "      <th>altura</th>\n",
       "      <th>volumen</th>\n",
       "      <th>tipo_de_arbol</th>\n",
       "      <th>fruto</th>\n",
       "      <th>precio_pesos_por_kg</th>\n",
       "    </tr>\n",
       "  </thead>\n",
       "  <tbody>\n",
       "    <tr>\n",
       "      <th>0</th>\n",
       "      <td>11.2</td>\n",
       "      <td>75</td>\n",
       "      <td>19.9</td>\n",
       "      <td>Cherrie Tree</td>\n",
       "      <td>NaN</td>\n",
       "      <td>NaN</td>\n",
       "    </tr>\n",
       "    <tr>\n",
       "      <th>1</th>\n",
       "      <td>14.0</td>\n",
       "      <td>78</td>\n",
       "      <td>34.5</td>\n",
       "      <td>Cherrie Tree</td>\n",
       "      <td>NaN</td>\n",
       "      <td>NaN</td>\n",
       "    </tr>\n",
       "    <tr>\n",
       "      <th>2</th>\n",
       "      <td>11.3</td>\n",
       "      <td>79</td>\n",
       "      <td>24.2</td>\n",
       "      <td>Cherry Tree</td>\n",
       "      <td>guinda</td>\n",
       "      <td>500</td>\n",
       "    </tr>\n",
       "    <tr>\n",
       "      <th>3</th>\n",
       "      <td>11.4</td>\n",
       "      <td>76</td>\n",
       "      <td>21.0</td>\n",
       "      <td>Cherry Tree</td>\n",
       "      <td>guinda</td>\n",
       "      <td>500</td>\n",
       "    </tr>\n",
       "    <tr>\n",
       "      <th>4</th>\n",
       "      <td>13.7</td>\n",
       "      <td>71</td>\n",
       "      <td>25.7</td>\n",
       "      <td>Cherry Tree</td>\n",
       "      <td>guinda</td>\n",
       "      <td>500</td>\n",
       "    </tr>\n",
       "    <tr>\n",
       "      <th>5</th>\n",
       "      <td>13.8</td>\n",
       "      <td>64</td>\n",
       "      <td>24.9</td>\n",
       "      <td>Cherry Tree</td>\n",
       "      <td>guinda</td>\n",
       "      <td>500</td>\n",
       "    </tr>\n",
       "    <tr>\n",
       "      <th>6</th>\n",
       "      <td>14.2</td>\n",
       "      <td>80</td>\n",
       "      <td>31.7</td>\n",
       "      <td>Cherry Tree</td>\n",
       "      <td>guinda</td>\n",
       "      <td>500</td>\n",
       "    </tr>\n",
       "    <tr>\n",
       "      <th>7</th>\n",
       "      <td>16.0</td>\n",
       "      <td>72</td>\n",
       "      <td>38.3</td>\n",
       "      <td>Cherry Tree</td>\n",
       "      <td>guinda</td>\n",
       "      <td>500</td>\n",
       "    </tr>\n",
       "    <tr>\n",
       "      <th>8</th>\n",
       "      <td>16.3</td>\n",
       "      <td>77</td>\n",
       "      <td>42.6</td>\n",
       "      <td>Cherry Tree</td>\n",
       "      <td>guinda</td>\n",
       "      <td>500</td>\n",
       "    </tr>\n",
       "    <tr>\n",
       "      <th>9</th>\n",
       "      <td>17.5</td>\n",
       "      <td>NaN</td>\n",
       "      <td>55.7</td>\n",
       "      <td>Cherry Tree</td>\n",
       "      <td>guinda</td>\n",
       "      <td>500</td>\n",
       "    </tr>\n",
       "    <tr>\n",
       "      <th>10</th>\n",
       "      <td>17.9</td>\n",
       "      <td>80</td>\n",
       "      <td>58.3</td>\n",
       "      <td>Cherry Tree</td>\n",
       "      <td>guinda</td>\n",
       "      <td>500</td>\n",
       "    </tr>\n",
       "    <tr>\n",
       "      <th>11</th>\n",
       "      <td>18.0</td>\n",
       "      <td>80</td>\n",
       "      <td>51.5</td>\n",
       "      <td>Cherry Tree</td>\n",
       "      <td>guinda</td>\n",
       "      <td>500</td>\n",
       "    </tr>\n",
       "    <tr>\n",
       "      <th>12</th>\n",
       "      <td>20.6</td>\n",
       "      <td>NaN</td>\n",
       "      <td>NaN</td>\n",
       "      <td>Cherry Tree</td>\n",
       "      <td>guinda</td>\n",
       "      <td>500</td>\n",
       "    </tr>\n",
       "    <tr>\n",
       "      <th>13</th>\n",
       "      <td>11.4</td>\n",
       "      <td>76</td>\n",
       "      <td>21.4</td>\n",
       "      <td>Apple Tree</td>\n",
       "      <td>manzana</td>\n",
       "      <td>2000</td>\n",
       "    </tr>\n",
       "    <tr>\n",
       "      <th>14</th>\n",
       "      <td>NaN</td>\n",
       "      <td>74</td>\n",
       "      <td>36.3</td>\n",
       "      <td>Apple Tree</td>\n",
       "      <td>manzana</td>\n",
       "      <td>2000</td>\n",
       "    </tr>\n",
       "    <tr>\n",
       "      <th>15</th>\n",
       "      <td>17.3</td>\n",
       "      <td>81</td>\n",
       "      <td>55.4</td>\n",
       "      <td>Apple Tree</td>\n",
       "      <td>manzana</td>\n",
       "      <td>2000</td>\n",
       "    </tr>\n",
       "    <tr>\n",
       "      <th>16</th>\n",
       "      <td>18.0</td>\n",
       "      <td>NaN</td>\n",
       "      <td>51.0</td>\n",
       "      <td>NaN</td>\n",
       "      <td>NaN</td>\n",
       "      <td>NaN</td>\n",
       "    </tr>\n",
       "    <tr>\n",
       "      <th>17</th>\n",
       "      <td>NaN</td>\n",
       "      <td>NaN</td>\n",
       "      <td>NaN</td>\n",
       "      <td>Pear Tree</td>\n",
       "      <td>pera</td>\n",
       "      <td>NaN</td>\n",
       "    </tr>\n",
       "  </tbody>\n",
       "</table>\n",
       "</div>"
      ],
      "text/plain": [
       "    diametro  altura  volumen tipo_de_arbol    fruto  precio_pesos_por_kg\n",
       "0       11.2      75     19.9  Cherrie Tree      NaN                  NaN\n",
       "1       14.0      78     34.5  Cherrie Tree      NaN                  NaN\n",
       "2       11.3      79     24.2   Cherry Tree   guinda                  500\n",
       "3       11.4      76     21.0   Cherry Tree   guinda                  500\n",
       "4       13.7      71     25.7   Cherry Tree   guinda                  500\n",
       "5       13.8      64     24.9   Cherry Tree   guinda                  500\n",
       "6       14.2      80     31.7   Cherry Tree   guinda                  500\n",
       "7       16.0      72     38.3   Cherry Tree   guinda                  500\n",
       "8       16.3      77     42.6   Cherry Tree   guinda                  500\n",
       "9       17.5     NaN     55.7   Cherry Tree   guinda                  500\n",
       "10      17.9      80     58.3   Cherry Tree   guinda                  500\n",
       "11      18.0      80     51.5   Cherry Tree   guinda                  500\n",
       "12      20.6     NaN      NaN   Cherry Tree   guinda                  500\n",
       "13      11.4      76     21.4    Apple Tree  manzana                 2000\n",
       "14       NaN      74     36.3    Apple Tree  manzana                 2000\n",
       "15      17.3      81     55.4    Apple Tree  manzana                 2000\n",
       "16      18.0     NaN     51.0           NaN      NaN                  NaN\n",
       "17       NaN     NaN      NaN     Pear Tree     pera                  NaN"
      ]
     },
     "execution_count": 308,
     "metadata": {},
     "output_type": "execute_result"
    }
   ],
   "source": [
    "df3 = df1.merge(df2, how=\"outer\", on=\"tipo_de_arbol\")\n",
    "df3"
   ]
  },
  {
   "cell_type": "markdown",
   "metadata": {
    "slideshow": {
     "slide_type": "slide"
    }
   },
   "source": [
    "## Guardando datos\n",
    "  2. **csv**\n",
    "  3. **json**\n",
    "  4. **excel**\n",
    "\n",
    "  Lo más importante es tener cuidado de cómo se guardan los nombres de las columnas (header), y el indice (index). \n",
    "  \n",
    "  Depende de la utilización, pero mi recomendación es guardar el header explícitamente y guardar el index como una columna."
   ]
  },
  {
   "cell_type": "code",
   "execution_count": 311,
   "metadata": {
    "slideshow": {
     "slide_type": "slide"
    }
   },
   "outputs": [
    {
     "data": {
      "text/html": [
       "<div style=\"max-height:1000px;max-width:1500px;overflow:auto;\">\n",
       "<table border=\"1\" class=\"dataframe\">\n",
       "  <thead>\n",
       "    <tr style=\"text-align: right;\">\n",
       "      <th></th>\n",
       "      <th>diametro</th>\n",
       "      <th>altura</th>\n",
       "      <th>volumen</th>\n",
       "      <th>tipo_de_arbol</th>\n",
       "    </tr>\n",
       "  </thead>\n",
       "  <tbody>\n",
       "    <tr>\n",
       "      <th>1</th>\n",
       "      <td>11.3</td>\n",
       "      <td>79</td>\n",
       "      <td>24.2</td>\n",
       "      <td>Cherry Tree</td>\n",
       "    </tr>\n",
       "    <tr>\n",
       "      <th>2</th>\n",
       "      <td>11.4</td>\n",
       "      <td>76</td>\n",
       "      <td>21.0</td>\n",
       "      <td>Cherry Tree</td>\n",
       "    </tr>\n",
       "    <tr>\n",
       "      <th>4</th>\n",
       "      <td>13.7</td>\n",
       "      <td>71</td>\n",
       "      <td>25.7</td>\n",
       "      <td>Cherry Tree</td>\n",
       "    </tr>\n",
       "    <tr>\n",
       "      <th>5</th>\n",
       "      <td>13.8</td>\n",
       "      <td>64</td>\n",
       "      <td>24.9</td>\n",
       "      <td>Cherry Tree</td>\n",
       "    </tr>\n",
       "    <tr>\n",
       "      <th>7</th>\n",
       "      <td>14.2</td>\n",
       "      <td>80</td>\n",
       "      <td>31.7</td>\n",
       "      <td>Cherry Tree</td>\n",
       "    </tr>\n",
       "    <tr>\n",
       "      <th>9</th>\n",
       "      <td>16.0</td>\n",
       "      <td>72</td>\n",
       "      <td>38.3</td>\n",
       "      <td>Cherry Tree</td>\n",
       "    </tr>\n",
       "    <tr>\n",
       "      <th>10</th>\n",
       "      <td>16.3</td>\n",
       "      <td>77</td>\n",
       "      <td>42.6</td>\n",
       "      <td>Cherry Tree</td>\n",
       "    </tr>\n",
       "    <tr>\n",
       "      <th>12</th>\n",
       "      <td>17.5</td>\n",
       "      <td>NaN</td>\n",
       "      <td>55.7</td>\n",
       "      <td>Cherry Tree</td>\n",
       "    </tr>\n",
       "    <tr>\n",
       "      <th>13</th>\n",
       "      <td>17.9</td>\n",
       "      <td>80</td>\n",
       "      <td>58.3</td>\n",
       "      <td>Cherry Tree</td>\n",
       "    </tr>\n",
       "    <tr>\n",
       "      <th>14</th>\n",
       "      <td>18.0</td>\n",
       "      <td>80</td>\n",
       "      <td>51.5</td>\n",
       "      <td>Cherry Tree</td>\n",
       "    </tr>\n",
       "    <tr>\n",
       "      <th>16</th>\n",
       "      <td>20.6</td>\n",
       "      <td>NaN</td>\n",
       "      <td>NaN</td>\n",
       "      <td>Cherry Tree</td>\n",
       "    </tr>\n",
       "  </tbody>\n",
       "</table>\n",
       "</div>"
      ],
      "text/plain": [
       "    diametro  altura  volumen tipo_de_arbol\n",
       "1       11.3      79     24.2   Cherry Tree\n",
       "2       11.4      76     21.0   Cherry Tree\n",
       "4       13.7      71     25.7   Cherry Tree\n",
       "5       13.8      64     24.9   Cherry Tree\n",
       "7       14.2      80     31.7   Cherry Tree\n",
       "9       16.0      72     38.3   Cherry Tree\n",
       "10      16.3      77     42.6   Cherry Tree\n",
       "12      17.5     NaN     55.7   Cherry Tree\n",
       "13      17.9      80     58.3   Cherry Tree\n",
       "14      18.0      80     51.5   Cherry Tree\n",
       "16      20.6     NaN      NaN   Cherry Tree"
      ]
     },
     "execution_count": 311,
     "metadata": {},
     "output_type": "execute_result"
    }
   ],
   "source": [
    "# guardar un csv\n",
    "df = pd.read_csv(\"data/data.csv\", sep=\";\")\n",
    "df = df[df.tipo_de_arbol==\"Cherry Tree\"]\n",
    "df.to_csv(\"data/output.csv\", sep=\"|\", index=True) # header=True by default\n",
    "df"
   ]
  },
  {
   "cell_type": "code",
   "execution_count": 312,
   "metadata": {
    "slideshow": {
     "slide_type": "slide"
    }
   },
   "outputs": [
    {
     "data": {
      "text/html": [
       "<div style=\"max-height:1000px;max-width:1500px;overflow:auto;\">\n",
       "<table border=\"1\" class=\"dataframe\">\n",
       "  <thead>\n",
       "    <tr style=\"text-align: right;\">\n",
       "      <th></th>\n",
       "      <th>diametro</th>\n",
       "      <th>altura</th>\n",
       "      <th>volumen</th>\n",
       "      <th>tipo_de_arbol</th>\n",
       "    </tr>\n",
       "  </thead>\n",
       "  <tbody>\n",
       "    <tr>\n",
       "      <th>1</th>\n",
       "      <td>11.3</td>\n",
       "      <td>79</td>\n",
       "      <td>24.2</td>\n",
       "      <td>Cherry Tree</td>\n",
       "    </tr>\n",
       "    <tr>\n",
       "      <th>2</th>\n",
       "      <td>11.4</td>\n",
       "      <td>76</td>\n",
       "      <td>21.0</td>\n",
       "      <td>Cherry Tree</td>\n",
       "    </tr>\n",
       "    <tr>\n",
       "      <th>4</th>\n",
       "      <td>13.7</td>\n",
       "      <td>71</td>\n",
       "      <td>25.7</td>\n",
       "      <td>Cherry Tree</td>\n",
       "    </tr>\n",
       "    <tr>\n",
       "      <th>5</th>\n",
       "      <td>13.8</td>\n",
       "      <td>64</td>\n",
       "      <td>24.9</td>\n",
       "      <td>Cherry Tree</td>\n",
       "    </tr>\n",
       "    <tr>\n",
       "      <th>7</th>\n",
       "      <td>14.2</td>\n",
       "      <td>80</td>\n",
       "      <td>31.7</td>\n",
       "      <td>Cherry Tree</td>\n",
       "    </tr>\n",
       "    <tr>\n",
       "      <th>9</th>\n",
       "      <td>16.0</td>\n",
       "      <td>72</td>\n",
       "      <td>38.3</td>\n",
       "      <td>Cherry Tree</td>\n",
       "    </tr>\n",
       "    <tr>\n",
       "      <th>10</th>\n",
       "      <td>16.3</td>\n",
       "      <td>77</td>\n",
       "      <td>42.6</td>\n",
       "      <td>Cherry Tree</td>\n",
       "    </tr>\n",
       "    <tr>\n",
       "      <th>12</th>\n",
       "      <td>17.5</td>\n",
       "      <td>NaN</td>\n",
       "      <td>55.7</td>\n",
       "      <td>Cherry Tree</td>\n",
       "    </tr>\n",
       "    <tr>\n",
       "      <th>13</th>\n",
       "      <td>17.9</td>\n",
       "      <td>80</td>\n",
       "      <td>58.3</td>\n",
       "      <td>Cherry Tree</td>\n",
       "    </tr>\n",
       "    <tr>\n",
       "      <th>14</th>\n",
       "      <td>18.0</td>\n",
       "      <td>80</td>\n",
       "      <td>51.5</td>\n",
       "      <td>Cherry Tree</td>\n",
       "    </tr>\n",
       "    <tr>\n",
       "      <th>16</th>\n",
       "      <td>20.6</td>\n",
       "      <td>NaN</td>\n",
       "      <td>NaN</td>\n",
       "      <td>Cherry Tree</td>\n",
       "    </tr>\n",
       "  </tbody>\n",
       "</table>\n",
       "</div>"
      ],
      "text/plain": [
       "    diametro  altura  volumen tipo_de_arbol\n",
       "1       11.3      79     24.2   Cherry Tree\n",
       "2       11.4      76     21.0   Cherry Tree\n",
       "4       13.7      71     25.7   Cherry Tree\n",
       "5       13.8      64     24.9   Cherry Tree\n",
       "7       14.2      80     31.7   Cherry Tree\n",
       "9       16.0      72     38.3   Cherry Tree\n",
       "10      16.3      77     42.6   Cherry Tree\n",
       "12      17.5     NaN     55.7   Cherry Tree\n",
       "13      17.9      80     58.3   Cherry Tree\n",
       "14      18.0      80     51.5   Cherry Tree\n",
       "16      20.6     NaN      NaN   Cherry Tree"
      ]
     },
     "execution_count": 312,
     "metadata": {},
     "output_type": "execute_result"
    }
   ],
   "source": [
    "# Leer el csv anterior\n",
    "df2 = pd.read_csv(\"data/output.csv\", sep=\"|\", index_col=0) # get index from first column\n",
    "df2"
   ]
  },
  {
   "cell_type": "code",
   "execution_count": 313,
   "metadata": {
    "slideshow": {
     "slide_type": "slide"
    }
   },
   "outputs": [
    {
     "name": "stdout",
     "output_type": "stream",
     "text": [
      "|diametro|altura|volumen|tipo_de_arbol\n",
      "1|11.3|79.0|24.2|Cherry Tree\n",
      "2|11.4|76.0|21.0|Cherry Tree\n",
      "4|13.7|71.0|25.7|Cherry Tree\n",
      "5|13.8|64.0|24.9|Cherry Tree\n",
      "7|14.2|80.0|31.7|Cherry Tree\n",
      "9|16.0|72.0|38.3|Cherry Tree\n",
      "10|16.3|77.0|42.6|Cherry Tree\n",
      "12|17.5||55.7|Cherry Tree\n",
      "13|17.9|80.0|58.3|Cherry Tree\n",
      "14|18.0|80.0|51.5|Cherry Tree\n",
      "16|20.6|||Cherry Tree\n"
     ]
    }
   ],
   "source": [
    "%%bash\n",
    "cat data/output.csv"
   ]
  },
  {
   "cell_type": "code",
   "execution_count": 314,
   "metadata": {
    "slideshow": {
     "slide_type": "slide"
    }
   },
   "outputs": [
    {
     "data": {
      "text/html": [
       "<div style=\"max-height:1000px;max-width:1500px;overflow:auto;\">\n",
       "<table border=\"1\" class=\"dataframe\">\n",
       "  <thead>\n",
       "    <tr style=\"text-align: right;\">\n",
       "      <th></th>\n",
       "      <th>diametro</th>\n",
       "      <th>altura</th>\n",
       "      <th>volumen</th>\n",
       "      <th>tipo_de_arbol</th>\n",
       "    </tr>\n",
       "  </thead>\n",
       "  <tbody>\n",
       "    <tr>\n",
       "      <th>1</th>\n",
       "      <td>11.3</td>\n",
       "      <td>79</td>\n",
       "      <td>24.2</td>\n",
       "      <td>Cherry Tree</td>\n",
       "    </tr>\n",
       "    <tr>\n",
       "      <th>2</th>\n",
       "      <td>11.4</td>\n",
       "      <td>76</td>\n",
       "      <td>21.0</td>\n",
       "      <td>Cherry Tree</td>\n",
       "    </tr>\n",
       "    <tr>\n",
       "      <th>4</th>\n",
       "      <td>13.7</td>\n",
       "      <td>71</td>\n",
       "      <td>25.7</td>\n",
       "      <td>Cherry Tree</td>\n",
       "    </tr>\n",
       "    <tr>\n",
       "      <th>5</th>\n",
       "      <td>13.8</td>\n",
       "      <td>64</td>\n",
       "      <td>24.9</td>\n",
       "      <td>Cherry Tree</td>\n",
       "    </tr>\n",
       "    <tr>\n",
       "      <th>7</th>\n",
       "      <td>14.2</td>\n",
       "      <td>80</td>\n",
       "      <td>31.7</td>\n",
       "      <td>Cherry Tree</td>\n",
       "    </tr>\n",
       "    <tr>\n",
       "      <th>9</th>\n",
       "      <td>16.0</td>\n",
       "      <td>72</td>\n",
       "      <td>38.3</td>\n",
       "      <td>Cherry Tree</td>\n",
       "    </tr>\n",
       "    <tr>\n",
       "      <th>10</th>\n",
       "      <td>16.3</td>\n",
       "      <td>77</td>\n",
       "      <td>42.6</td>\n",
       "      <td>Cherry Tree</td>\n",
       "    </tr>\n",
       "    <tr>\n",
       "      <th>12</th>\n",
       "      <td>17.5</td>\n",
       "      <td>NaN</td>\n",
       "      <td>55.7</td>\n",
       "      <td>Cherry Tree</td>\n",
       "    </tr>\n",
       "    <tr>\n",
       "      <th>13</th>\n",
       "      <td>17.9</td>\n",
       "      <td>80</td>\n",
       "      <td>58.3</td>\n",
       "      <td>Cherry Tree</td>\n",
       "    </tr>\n",
       "    <tr>\n",
       "      <th>14</th>\n",
       "      <td>18.0</td>\n",
       "      <td>80</td>\n",
       "      <td>51.5</td>\n",
       "      <td>Cherry Tree</td>\n",
       "    </tr>\n",
       "    <tr>\n",
       "      <th>16</th>\n",
       "      <td>20.6</td>\n",
       "      <td>NaN</td>\n",
       "      <td>NaN</td>\n",
       "      <td>Cherry Tree</td>\n",
       "    </tr>\n",
       "  </tbody>\n",
       "</table>\n",
       "</div>"
      ],
      "text/plain": [
       "    diametro  altura  volumen tipo_de_arbol\n",
       "1       11.3      79     24.2   Cherry Tree\n",
       "2       11.4      76     21.0   Cherry Tree\n",
       "4       13.7      71     25.7   Cherry Tree\n",
       "5       13.8      64     24.9   Cherry Tree\n",
       "7       14.2      80     31.7   Cherry Tree\n",
       "9       16.0      72     38.3   Cherry Tree\n",
       "10      16.3      77     42.6   Cherry Tree\n",
       "12      17.5     NaN     55.7   Cherry Tree\n",
       "13      17.9      80     58.3   Cherry Tree\n",
       "14      18.0      80     51.5   Cherry Tree\n",
       "16      20.6     NaN      NaN   Cherry Tree"
      ]
     },
     "execution_count": 314,
     "metadata": {},
     "output_type": "execute_result"
    }
   ],
   "source": [
    "# guardar un json\n",
    "df = pd.read_csv(\"data/data.csv\", sep=\";\")\n",
    "df = df[df.tipo_de_arbol==\"Cherry Tree\"]\n",
    "df.to_json(\"data/output.json\")\n",
    "df"
   ]
  },
  {
   "cell_type": "code",
   "execution_count": 315,
   "metadata": {
    "slideshow": {
     "slide_type": "slide"
    }
   },
   "outputs": [
    {
     "data": {
      "text/html": [
       "<div style=\"max-height:1000px;max-width:1500px;overflow:auto;\">\n",
       "<table border=\"1\" class=\"dataframe\">\n",
       "  <thead>\n",
       "    <tr style=\"text-align: right;\">\n",
       "      <th></th>\n",
       "      <th>altura</th>\n",
       "      <th>diametro</th>\n",
       "      <th>tipo_de_arbol</th>\n",
       "      <th>volumen</th>\n",
       "    </tr>\n",
       "  </thead>\n",
       "  <tbody>\n",
       "    <tr>\n",
       "      <th>1</th>\n",
       "      <td>79</td>\n",
       "      <td>11.3</td>\n",
       "      <td>Cherry Tree</td>\n",
       "      <td>24.2</td>\n",
       "    </tr>\n",
       "    <tr>\n",
       "      <th>10</th>\n",
       "      <td>77</td>\n",
       "      <td>16.3</td>\n",
       "      <td>Cherry Tree</td>\n",
       "      <td>42.6</td>\n",
       "    </tr>\n",
       "    <tr>\n",
       "      <th>12</th>\n",
       "      <td>NaN</td>\n",
       "      <td>17.5</td>\n",
       "      <td>Cherry Tree</td>\n",
       "      <td>55.7</td>\n",
       "    </tr>\n",
       "    <tr>\n",
       "      <th>13</th>\n",
       "      <td>80</td>\n",
       "      <td>17.9</td>\n",
       "      <td>Cherry Tree</td>\n",
       "      <td>58.3</td>\n",
       "    </tr>\n",
       "    <tr>\n",
       "      <th>14</th>\n",
       "      <td>80</td>\n",
       "      <td>18.0</td>\n",
       "      <td>Cherry Tree</td>\n",
       "      <td>51.5</td>\n",
       "    </tr>\n",
       "    <tr>\n",
       "      <th>16</th>\n",
       "      <td>NaN</td>\n",
       "      <td>20.6</td>\n",
       "      <td>Cherry Tree</td>\n",
       "      <td>NaN</td>\n",
       "    </tr>\n",
       "    <tr>\n",
       "      <th>2</th>\n",
       "      <td>76</td>\n",
       "      <td>11.4</td>\n",
       "      <td>Cherry Tree</td>\n",
       "      <td>21.0</td>\n",
       "    </tr>\n",
       "    <tr>\n",
       "      <th>4</th>\n",
       "      <td>71</td>\n",
       "      <td>13.7</td>\n",
       "      <td>Cherry Tree</td>\n",
       "      <td>25.7</td>\n",
       "    </tr>\n",
       "    <tr>\n",
       "      <th>5</th>\n",
       "      <td>64</td>\n",
       "      <td>13.8</td>\n",
       "      <td>Cherry Tree</td>\n",
       "      <td>24.9</td>\n",
       "    </tr>\n",
       "    <tr>\n",
       "      <th>7</th>\n",
       "      <td>80</td>\n",
       "      <td>14.2</td>\n",
       "      <td>Cherry Tree</td>\n",
       "      <td>31.7</td>\n",
       "    </tr>\n",
       "    <tr>\n",
       "      <th>9</th>\n",
       "      <td>72</td>\n",
       "      <td>16.0</td>\n",
       "      <td>Cherry Tree</td>\n",
       "      <td>38.3</td>\n",
       "    </tr>\n",
       "  </tbody>\n",
       "</table>\n",
       "</div>"
      ],
      "text/plain": [
       "    altura  diametro tipo_de_arbol  volumen\n",
       "1       79      11.3   Cherry Tree     24.2\n",
       "10      77      16.3   Cherry Tree     42.6\n",
       "12     NaN      17.5   Cherry Tree     55.7\n",
       "13      80      17.9   Cherry Tree     58.3\n",
       "14      80      18.0   Cherry Tree     51.5\n",
       "16     NaN      20.6   Cherry Tree      NaN\n",
       "2       76      11.4   Cherry Tree     21.0\n",
       "4       71      13.7   Cherry Tree     25.7\n",
       "5       64      13.8   Cherry Tree     24.9\n",
       "7       80      14.2   Cherry Tree     31.7\n",
       "9       72      16.0   Cherry Tree     38.3"
      ]
     },
     "execution_count": 315,
     "metadata": {},
     "output_type": "execute_result"
    }
   ],
   "source": [
    "# Leyendo el json anterior\n",
    "df2 = pd.read_json(\"data/output.json\")\n",
    "df2"
   ]
  },
  {
   "cell_type": "code",
   "execution_count": 316,
   "metadata": {
    "slideshow": {
     "slide_type": "slide"
    }
   },
   "outputs": [
    {
     "name": "stdout",
     "output_type": "stream",
     "text": [
      "{\"diametro\":{\"1\":11.3,\"2\":11.4,\"4\":13.7,\"5\":13.8,\"7\":14.2,\"9\":16.0,\"10\":16.3,\"12\":17.5,\"13\":17.9,\"14\":18.0,\"16\":20.6},\"altura\":{\"1\":79.0,\"2\":76.0,\"4\":71.0,\"5\":64.0,\"7\":80.0,\"9\":72.0,\"10\":77.0,\"12\":null,\"13\":80.0,\"14\":80.0,\"16\":null},\"volumen\":{\"1\":24.2,\"2\":21.0,\"4\":25.7,\"5\":24.9,\"7\":31.7,\"9\":38.3,\"10\":42.6,\"12\":55.7,\"13\":58.3,\"14\":51.5,\"16\":null},\"tipo_de_arbol\":{\"1\":\"Cherry Tree\",\"2\":\"Cherry Tree\",\"4\":\"Cherry Tree\",\"5\":\"Cherry Tree\",\"7\":\"Cherry Tree\",\"9\":\"Cherry Tree\",\"10\":\"Cherry Tree\",\"12\":\"Cherry Tree\",\"13\":\"Cherry Tree\",\"14\":\"Cherry Tree\",\"16\":\"Cherry Tree\"}}"
     ]
    }
   ],
   "source": [
    "%%bash\n",
    "cat data/output.json"
   ]
  },
  {
   "cell_type": "markdown",
   "metadata": {
    "slideshow": {
     "slide_type": "slide"
    }
   },
   "source": [
    "## Desafío para la casa\n",
    "\n",
    "Descargar algún archivo de interés:\n",
    "* Abrir el archivo.\n",
    "* Explorar los datos\n",
    "* Visualizar los datos\n",
    "* Completar los datos incompletos\n",
    "* Guardar el archivo"
   ]
  },
  {
   "cell_type": "markdown",
   "metadata": {
    "slideshow": {
     "slide_type": "slide"
    }
   },
   "source": [
    "#  Machine Learning\n",
    "## Librerías\n",
    "* sklearn\n",
    "* keras, tensorflow, etc."
   ]
  },
  {
   "cell_type": "markdown",
   "metadata": {
    "slideshow": {
     "slide_type": "slide"
    }
   },
   "source": [
    "Lorem Ipsum..."
   ]
  },
  {
   "cell_type": "code",
   "execution_count": 8,
   "metadata": {},
   "outputs": [
    {
     "data": {
      "image/png": "[encoded data removed]",
      "text/plain": [
       "<Figure size 1296x648 with 18 Axes>"
      ]
     },
     "metadata": {},
     "output_type": "display_data"
    }
   ],
   "source": [
    "# Code source: Gaël Varoquaux\n",
    "#              Andreas Müller\n",
    "# Modified for documentation by Jaques Grobler\n",
    "# License: BSD 3 clause\n",
    "\n",
    "import numpy as np\n",
    "import matplotlib.pyplot as plt\n",
    "from matplotlib.colors import ListedColormap\n",
    "from sklearn.model_selection import train_test_split\n",
    "from sklearn.preprocessing import StandardScaler\n",
    "from sklearn.datasets import make_moons, make_circles, make_classification\n",
    "from sklearn.neural_network import MLPClassifier\n",
    "from sklearn.neighbors import KNeighborsClassifier\n",
    "from sklearn.svm import SVC\n",
    "from sklearn.gaussian_process import GaussianProcessClassifier\n",
    "from sklearn.gaussian_process.kernels import RBF\n",
    "from sklearn.tree import DecisionTreeClassifier\n",
    "from sklearn.ensemble import RandomForestClassifier, AdaBoostClassifier\n",
    "from sklearn.naive_bayes import GaussianNB\n",
    "from sklearn.discriminant_analysis import QuadraticDiscriminantAnalysis\n",
    "\n",
    "h = 0.02  # step size in the mesh\n",
    "\n",
    "names = [\n",
    "    \"Nearest Neighbors\",\n",
    "    \"Linear SVM\",\n",
    "    #\"RBF SVM\",\n",
    "    #\"Gaussian Process\",\n",
    "    \"Decision Tree\",\n",
    "    \"Random Forest\",\n",
    "    \"Neural Net\",\n",
    "    #\"AdaBoost\",\n",
    "    #\"Naive Bayes\",\n",
    "    #\"QDA\",\n",
    "]\n",
    "\n",
    "classifiers = [\n",
    "    KNeighborsClassifier(3),\n",
    "    SVC(kernel=\"linear\", C=0.025),\n",
    "    #SVC(gamma=2, C=1),\n",
    "    #GaussianProcessClassifier(1.0 * RBF(1.0)),\n",
    "    DecisionTreeClassifier(max_depth=5),\n",
    "    RandomForestClassifier(max_depth=5, n_estimators=10, max_features=1),\n",
    "    MLPClassifier(alpha=1, max_iter=1000),\n",
    "    #AdaBoostClassifier(),\n",
    "    #GaussianNB(),\n",
    "    #QuadraticDiscriminantAnalysis(),\n",
    "]\n",
    "\n",
    "X, y = make_classification(\n",
    "    n_features=2, n_redundant=0, n_informative=2, random_state=1, n_clusters_per_class=1\n",
    ")\n",
    "rng = np.random.RandomState(2)\n",
    "X += 2 * rng.uniform(size=X.shape)\n",
    "linearly_separable = (X, y)\n",
    "\n",
    "datasets = [\n",
    "    make_moons(noise=0.3, random_state=0),\n",
    "    make_circles(noise=0.2, factor=0.5, random_state=1),\n",
    "    linearly_separable,\n",
    "]\n",
    "\n",
    "figure = plt.figure(figsize=(3*(len(names)+1), 3*len(datasets)))\n",
    "i = 1\n",
    "# iterate over datasets\n",
    "for ds_cnt, ds in enumerate(datasets):\n",
    "    # preprocess dataset, split into training and test part\n",
    "    X, y = ds\n",
    "    X = StandardScaler().fit_transform(X)\n",
    "    X_train, X_test, y_train, y_test = train_test_split(\n",
    "        X, y, test_size=0.4, random_state=42\n",
    "    )\n",
    "\n",
    "    x_min, x_max = X[:, 0].min() - 0.5, X[:, 0].max() + 0.5\n",
    "    y_min, y_max = X[:, 1].min() - 0.5, X[:, 1].max() + 0.5\n",
    "    xx, yy = np.meshgrid(np.arange(x_min, x_max, h), np.arange(y_min, y_max, h))\n",
    "\n",
    "    # just plot the dataset first\n",
    "    cm = plt.cm.RdBu\n",
    "    cm_bright = ListedColormap([\"#FF0000\", \"#0000FF\"])\n",
    "    ax = plt.subplot(len(datasets), len(classifiers) + 1, i)\n",
    "    if ds_cnt == 0:\n",
    "        ax.set_title(\"Input data\")\n",
    "    # Plot the training points\n",
    "    ax.scatter(X_train[:, 0], X_train[:, 1], c=y_train, cmap=cm_bright, edgecolors=\"k\")\n",
    "    # Plot the testing points\n",
    "    ax.scatter(\n",
    "        X_test[:, 0], X_test[:, 1], c=y_test, cmap=cm_bright, alpha=0.6, edgecolors=\"k\"\n",
    "    )\n",
    "    ax.set_xlim(xx.min(), xx.max())\n",
    "    ax.set_ylim(yy.min(), yy.max())\n",
    "    ax.set_xticks(())\n",
    "    ax.set_yticks(())\n",
    "    i += 1\n",
    "\n",
    "    # iterate over classifiers\n",
    "    for name, clf in zip(names, classifiers):\n",
    "        ax = plt.subplot(len(datasets), len(classifiers) + 1, i)\n",
    "        clf.fit(X_train, y_train)\n",
    "        score = clf.score(X_test, y_test)\n",
    "\n",
    "        # Plot the decision boundary. For that, we will assign a color to each\n",
    "        # point in the mesh [x_min, x_max]x[y_min, y_max].\n",
    "        if hasattr(clf, \"decision_function\"):\n",
    "            Z = clf.decision_function(np.c_[xx.ravel(), yy.ravel()])\n",
    "        else:\n",
    "            Z = clf.predict_proba(np.c_[xx.ravel(), yy.ravel()])[:, 1]\n",
    "\n",
    "        # Put the result into a color plot\n",
    "        Z = Z.reshape(xx.shape)\n",
    "        ax.contourf(xx, yy, Z, cmap=cm, alpha=0.8)\n",
    "\n",
    "        # Plot the training points\n",
    "        ax.scatter(\n",
    "            X_train[:, 0], X_train[:, 1], c=y_train, cmap=cm_bright, edgecolors=\"k\"\n",
    "        )\n",
    "        # Plot the testing points\n",
    "        ax.scatter(\n",
    "            X_test[:, 0],\n",
    "            X_test[:, 1],\n",
    "            c=y_test,\n",
    "            cmap=cm_bright,\n",
    "            edgecolors=\"k\",\n",
    "            alpha=0.6,\n",
    "        )\n",
    "\n",
    "        ax.set_xlim(xx.min(), xx.max())\n",
    "        ax.set_ylim(yy.min(), yy.max())\n",
    "        ax.set_xticks(())\n",
    "        ax.set_yticks(())\n",
    "        if ds_cnt == 0:\n",
    "            ax.set_title(name)\n",
    "        ax.text(\n",
    "            xx.max() - 0.3,\n",
    "            yy.min() + 0.3,\n",
    "            (\"%.2f\" % score).lstrip(\"0\"),\n",
    "            size=15,\n",
    "            horizontalalignment=\"right\",\n",
    "        )\n",
    "        i += 1\n",
    "\n",
    "plt.tight_layout()\n",
    "plt.show()"
   ]
  },
  {
   "cell_type": "code",
   "execution_count": null,
   "metadata": {},
   "outputs": [],
   "source": []
  }
 ],
 "metadata": {
  "celltoolbar": "Slideshow",
  "kernelspec": {
   "display_name": "Python 3",
   "language": "python",
   "name": "python3"
  },
  "language_info": {
   "codemirror_mode": {
    "name": "ipython",
    "version": 3
   },
   "file_extension": ".py",
   "mimetype": "text/x-python",
   "name": "python",
   "nbconvert_exporter": "python",
   "pygments_lexer": "ipython3",
   "version": "3.7.4"
  },
  "rise": {
   "autolaunch": false,
   "enable_chalkboard": false,
   "theme": "simple",
   "transition": "slide"
  }
 },
 "nbformat": 4,
 "nbformat_minor": 4
}
