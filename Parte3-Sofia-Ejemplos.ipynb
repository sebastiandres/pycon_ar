{
 "cells": [
  {
   "cell_type": "markdown",
   "metadata": {
    "slideshow": {
     "slide_type": "slide"
    }
   },
   "source": [
    "![banner](images/banner.png)\n",
    "\n",
    "### Programar y Reprogramar Recursos para Docentes\n",
    "#### Fecha: 29 Octubre 2021, 15:00 a 17:00 hs.\n",
    "####  Sofía Martin, Ariel Ramos, Liliana Hurtado, Sebastián Flores"
   ]
  },
  {
   "cell_type": "markdown",
   "metadata": {
    "slideshow": {
     "slide_type": "slide"
    }
   },
   "source": [
    "## Experiencia Práctica\n",
    "* Ejemplos prácticas de uso\n",
    "    * ¿Qué puedo hacer en forma interactiva con Jupyter y matemática?\n",
    "    * ¿Qué valores puedo cambiar en los gráficos para visualizar diferentes situaciones?\n",
    "    * ¿Cómo puedo agrupar los datos para visualizarlos mejor?\n",
    "* ¿Cómo puedo usar el entorno Jupyter?\n",
    "    * local\n",
    "    * remoto con servidor propio\n",
    "    * remoto en la nube: Binder - Colab\n",
    "* ¿Qué son los repositorios públicos colaborativos?\n",
    "\n",
    "        "
   ]
  },
  {
   "cell_type": "markdown",
   "metadata": {
    "slideshow": {
     "slide_type": "slide"
    }
   },
   "source": [
    "Áreas de aplicación del entorno de Jupyter Notebook\n",
    "* una de las más nombrada es matemática.\n",
    "* utilización en todas las areas de estudio\n",
    "* utilización de la herramienta en el campo de la industria"
   ]
  },
  {
   "cell_type": "markdown",
   "metadata": {
    "slideshow": {
     "slide_type": "slide"
    }
   },
   "source": [
    "## ¿En mi gráfica qué significa cuando cambio...?\n",
    "* Tipo de gráfico\n",
    "* La cantidad de números\n",
    "* El signo de la función\n",
    "* El exponente de la función"
   ]
  },
  {
   "cell_type": "markdown",
   "metadata": {
    "slideshow": {
     "slide_type": "slide"
    }
   },
   "source": [
    "¿Para poder graficar en Python qué **librería** importamos?\n",
    "* librería: archivo de código que facilitan algunas funcionalidades\n",
    "* ¿cómo las usamos en nuestro código? **import librería**"
   ]
  },
  {
   "cell_type": "code",
   "execution_count": 25,
   "metadata": {
    "slideshow": {
     "slide_type": "fragment"
    }
   },
   "outputs": [],
   "source": [
    "from matplotlib import pyplot as dibujo"
   ]
  },
  {
   "cell_type": "markdown",
   "metadata": {
    "slideshow": {
     "slide_type": "fragment"
    }
   },
   "source": [
    "* La lirería es: [**matplotlib**](https://matplotlib.org/) (conjunto de módulos)\n",
    "* el módulo dentro de la librería es: **plot**\n",
    "* Renombro el módulo para utilizarlo como **dibujo**"
   ]
  },
  {
   "cell_type": "markdown",
   "metadata": {
    "slideshow": {
     "slide_type": "slide"
    }
   },
   "source": [
    "Supongamos que queremos comparar la temperatura media la Argentina entre dos años diferentes.\n",
    "\n",
    "Tomemos los datos de [temperatura media](https://climateknowledgeportal.worldbank.org/download-data) de los años 1991 y 2020."
   ]
  },
  {
   "cell_type": "code",
   "execution_count": 27,
   "metadata": {
    "slideshow": {
     "slide_type": "fragment"
    }
   },
   "outputs": [],
   "source": [
    "temp_1991 = [20.5,20.0,18.9,14.8,11.9,8.2,7.3,8.9,12.4,13.8,17.3,18.6]\n",
    "temp_2020 = [21.5, 20.1, 20.0, 14.9,11.0,8.3,6.4,9.7,12.5,15.5,19.0,20.3]\n"
   ]
  },
  {
   "cell_type": "markdown",
   "metadata": {
    "slideshow": {
     "slide_type": "slide"
    }
   },
   "source": [
    "Los datos los guardamos en una **lista de números**:\n",
    "\n",
    "* tipos de datos en Python y su denominación en matemática\n",
    "* tipos de datos numéricos:\n",
    "    * int\n",
    "    * float\n",
    "    * complex: a=2+3j\n"
   ]
  },
  {
   "cell_type": "code",
   "execution_count": 14,
   "metadata": {
    "slideshow": {
     "slide_type": "fragment"
    }
   },
   "outputs": [],
   "source": [
    "a = 2+3j"
   ]
  },
  {
   "cell_type": "code",
   "execution_count": 16,
   "metadata": {
    "slideshow": {
     "slide_type": "fragment"
    }
   },
   "outputs": [
    {
     "data": {
      "text/plain": [
       "(2+3j)"
      ]
     },
     "execution_count": 16,
     "metadata": {},
     "output_type": "execute_result"
    }
   ],
   "source": [
    "a\n"
   ]
  },
  {
   "cell_type": "markdown",
   "metadata": {
    "slideshow": {
     "slide_type": "slide"
    }
   },
   "source": [
    "### Convierto entre tipos de datos\n"
   ]
  },
  {
   "cell_type": "code",
   "execution_count": 21,
   "metadata": {
    "slideshow": {
     "slide_type": "fragment"
    }
   },
   "outputs": [],
   "source": [
    "a = 6\n",
    "b = float(a)"
   ]
  },
  {
   "cell_type": "code",
   "execution_count": 22,
   "metadata": {
    "slideshow": {
     "slide_type": "fragment"
    }
   },
   "outputs": [
    {
     "data": {
      "text/plain": [
       "6"
      ]
     },
     "execution_count": 22,
     "metadata": {},
     "output_type": "execute_result"
    }
   ],
   "source": [
    "a"
   ]
  },
  {
   "cell_type": "code",
   "execution_count": 23,
   "metadata": {
    "slideshow": {
     "slide_type": "fragment"
    }
   },
   "outputs": [
    {
     "data": {
      "text/plain": [
       "6.0"
      ]
     },
     "execution_count": 23,
     "metadata": {},
     "output_type": "execute_result"
    }
   ],
   "source": [
    "b"
   ]
  },
  {
   "cell_type": "markdown",
   "metadata": {
    "slideshow": {
     "slide_type": "slide"
    }
   },
   "source": [
    "Volvamos a los valores de las temperaturas.\n",
    "\n",
    "Dibujemos los datos del año 1991"
   ]
  },
  {
   "cell_type": "code",
   "execution_count": 28,
   "metadata": {
    "scrolled": true,
    "slideshow": {
     "slide_type": "fragment"
    }
   },
   "outputs": [
    {
     "data": {
      "image/png": "[encoded data removed]",
      "text/plain": [
       "<Figure size 432x288 with 1 Axes>"
      ]
     },
     "metadata": {
      "needs_background": "light"
     },
     "output_type": "display_data"
    }
   ],
   "source": [
    "dibujo.title(\"Temperaturas 1991\")\n",
    "dibujo.plot(temp_1991)\n",
    "\n",
    "dibujo.xlabel(\"Mes\")\n",
    "dibujo.ylabel(\"Valor\")\n",
    "\n",
    "dibujo.show()\n",
    "# ¿qué hace cada instrucción?"
   ]
  },
  {
   "cell_type": "markdown",
   "metadata": {
    "slideshow": {
     "slide_type": "subslide"
    }
   },
   "source": [
    "Y ahora ¿cómo comparamos entre ambos años?"
   ]
  },
  {
   "cell_type": "code",
   "execution_count": 30,
   "metadata": {
    "scrolled": true,
    "slideshow": {
     "slide_type": "fragment"
    }
   },
   "outputs": [
    {
     "data": {
      "image/png": "[encoded data removed]",
      "text/plain": [
       "<Figure size 432x288 with 1 Axes>"
      ]
     },
     "metadata": {
      "needs_background": "light"
     },
     "output_type": "display_data"
    }
   ],
   "source": [
    "dibujo.plot(temp_1991, linewidth=3, label='1991')\n",
    "dibujo.plot(temp_2020, linestyle='dashed' , linewidth=3, label='2020')\n",
    "\n",
    "dibujo.ylabel('Temperaturas')\n",
    "dibujo.title('Comparativa de 1991 y 2020')\n",
    "#dibujo.xticks(meses)\n",
    "dibujo.xlabel('Mes')\n",
    "dibujo.legend()\n",
    "dibujo.grid(True)\n",
    "dibujo.show()"
   ]
  },
  {
   "cell_type": "markdown",
   "metadata": {
    "slideshow": {
     "slide_type": "subslide"
    }
   },
   "source": [
    "Pongamos los nombres de los meses en lugar de los números"
   ]
  },
  {
   "cell_type": "code",
   "execution_count": 31,
   "metadata": {
    "slideshow": {
     "slide_type": "fragment"
    }
   },
   "outputs": [],
   "source": [
    "meses = ['Ene',  'Feb',  'Mar', \n",
    "         'Abr', 'May', 'Jun', \n",
    "         'Jul', 'Ago', 'Sep', \n",
    "         'Oct', 'Nov', 'Dic']"
   ]
  },
  {
   "cell_type": "markdown",
   "metadata": {
    "slideshow": {
     "slide_type": "fragment"
    }
   },
   "source": [
    "* ¿qué tipo de datos es meses?\n",
    "* ¿qué tipo de datos contiene?"
   ]
  },
  {
   "cell_type": "code",
   "execution_count": 32,
   "metadata": {
    "scrolled": true,
    "slideshow": {
     "slide_type": "subslide"
    }
   },
   "outputs": [
    {
     "data": {
      "image/png": "[encoded data removed]",
      "text/plain": [
       "<Figure size 432x288 with 1 Axes>"
      ]
     },
     "metadata": {
      "needs_background": "light"
     },
     "output_type": "display_data"
    }
   ],
   "source": [
    "dibujo.plot(meses, temp_1991, linewidth=3, label='1991')\n",
    "dibujo.plot(meses, temp_2020, linestyle='dashed' , linewidth=3, label='2020')\n",
    "\n",
    "dibujo.ylabel('Temperaturas')\n",
    "dibujo.title('Comparativa de 1991 y 2020')\n",
    "#dibujo.xticks(meses)\n",
    "dibujo.xlabel('Mes')\n",
    "dibujo.legend()\n",
    "dibujo.grid(True)\n",
    "dibujo.show()"
   ]
  },
  {
   "cell_type": "markdown",
   "metadata": {
    "slideshow": {
     "slide_type": "fragment"
    }
   },
   "source": [
    "Notar:\n",
    "   * ¿cómo se agregaron las etiquetas?\n",
    "   * los tipos de [líneas](https://matplotlib.org/stable/gallery/lines_bars_and_markers/linestyles.html#sphx-glr-gallery-lines-bars-and-markers-linestyles-py) para cada año\n",
    "   "
   ]
  },
  {
   "cell_type": "markdown",
   "metadata": {
    "slideshow": {
     "slide_type": "subslide"
    }
   },
   "source": [
    "¿Y si queremos graficar los datos con barras?"
   ]
  },
  {
   "cell_type": "code",
   "execution_count": 12,
   "metadata": {
    "slideshow": {
     "slide_type": "fragment"
    }
   },
   "outputs": [],
   "source": [
    "import numpy as np"
   ]
  },
  {
   "cell_type": "markdown",
   "metadata": {
    "slideshow": {
     "slide_type": "fragment"
    }
   },
   "source": [
    "* ¿Cuál es la librería?\n",
    "* ¿Con qué nombre lo voy a utilizar en mi código?"
   ]
  },
  {
   "cell_type": "code",
   "execution_count": 35,
   "metadata": {
    "scrolled": true,
    "slideshow": {
     "slide_type": "subslide"
    }
   },
   "outputs": [
    {
     "data": {
      "image/png": "[encoded data removed]",
      "text/plain": [
       "<Figure size 432x288 with 1 Axes>"
      ]
     },
     "metadata": {
      "needs_background": "light"
     },
     "output_type": "display_data"
    }
   ],
   "source": [
    "ancho = 0.35\n",
    "# cambiar ancho\n",
    "x = np.arange(len(temp_1991))\n",
    "fig, ax = dibujo.subplots()\n",
    "rects1 = ax.bar(x - ancho/2, temp_1991, ancho, color = 'b',label='1991')\n",
    "rects2 = ax.bar(x + ancho/2, temp_2020, ancho, color = 'g',label='2020')\n",
    "\n",
    "ax.set_ylabel('Temperaturas')\n",
    "ax.set_title('Comparativa')\n",
    "ax.set_xticks(x)\n",
    "ax.set_xticklabels(meses)\n",
    "ax.legend()\n",
    "\n",
    "#fig.tight_layout()\n",
    "\n",
    "dibujo.show()"
   ]
  },
  {
   "cell_type": "markdown",
   "metadata": {
    "slideshow": {
     "slide_type": "subslide"
    }
   },
   "source": [
    "Ejemplos de gráficos de barras:\n",
    "\n",
    "* [tutorial](https://www.tutorialspoint.com/matplotlib/matplotlib_bar_plot.htm)\n",
    "* [documentación oficial](https://matplotlib.org/stable/api/_as_gen/matplotlib.pyplot.bar.html)\n",
    "\n",
    "<img src=\"images/figure-matplotlib.png\" alt=\"figure\" width=\"400\"/>"
   ]
  },
  {
   "cell_type": "markdown",
   "metadata": {
    "slideshow": {
     "slide_type": "slide"
    }
   },
   "source": [
    "## Desafío 1:\n",
    "* Realizar un gráfico que compare las temperaturas de Argentina de tres años diferentes.\n",
    "\n",
    "Sitio con las temperaturas:  [temperatura media](https://climateknowledgeportal.worldbank.org/download-data)"
   ]
  },
  {
   "cell_type": "code",
   "execution_count": 36,
   "metadata": {
    "slideshow": {
     "slide_type": "fragment"
    }
   },
   "outputs": [
    {
     "name": "stdout",
     "output_type": "stream",
     "text": [
      "data.csv  temperatura_tas_1991_2020_ARG.csv\r\n"
     ]
    }
   ],
   "source": [
    "!ls data\n"
   ]
  },
  {
   "cell_type": "code",
   "execution_count": 37,
   "metadata": {
    "slideshow": {
     "slide_type": "fragment"
    }
   },
   "outputs": [],
   "source": [
    "temp_2000 = [21.2,19.4,17.0,14.5,10.1,8.1,5.6,8.9,10.8,14.9,16.3,19.6]\n"
   ]
  },
  {
   "cell_type": "markdown",
   "metadata": {
    "slideshow": {
     "slide_type": "slide"
    }
   },
   "source": [
    " ### <div class=\"alert alert-warning\">Variación en la cantidad de números</div>\n",
    "* La gráfica de una función como una secuencia de rectas"
   ]
  },
  {
   "cell_type": "code",
   "execution_count": 40,
   "metadata": {
    "scrolled": true,
    "slideshow": {
     "slide_type": "subslide"
    }
   },
   "outputs": [
    {
     "data": {
      "image/png": "[encoded data removed]",
      "text/plain": [
       "<Figure size 432x288 with 1 Axes>"
      ]
     },
     "metadata": {
      "needs_background": "light"
     },
     "output_type": "display_data"
    }
   ],
   "source": [
    "x = np.linspace(-2, 2, 50)\n",
    "# como puedo ver que contiene x?\n",
    "y = x**2\n",
    "\n",
    "dibujo.plot(x,y, 'ro')\n",
    "#dibujo.plot(x,y)\n",
    "dibujo.show()"
   ]
  },
  {
   "cell_type": "markdown",
   "metadata": {
    "slideshow": {
     "slide_type": "fragment"
    }
   },
   "source": [
    "* Cambio 10 por 50, ¿qué se modifica en la gráfica?\n",
    "* Y si utilizamos la configuración 'ro'¿ qué cambia?\n",
    "* ¿qué otras [opciones](https://matplotlib.org/stable/api/_as_gen/matplotlib.pyplot.plot.html) hay para las líneas?"
   ]
  },
  {
   "cell_type": "markdown",
   "metadata": {
    "slideshow": {
     "slide_type": "slide"
    }
   },
   "source": [
    "Interactuamos en forma dinámica con algunos valores de nuestras funciones"
   ]
  },
  {
   "cell_type": "code",
   "execution_count": 42,
   "metadata": {
    "slideshow": {
     "slide_type": "fragment"
    }
   },
   "outputs": [],
   "source": [
    "import ipywidgets as widgets\n",
    "from ipywidgets import HBox, VBox\n",
    "from IPython.display import display"
   ]
  },
  {
   "cell_type": "code",
   "execution_count": 43,
   "metadata": {
    "scrolled": true,
    "slideshow": {
     "slide_type": "fragment"
    }
   },
   "outputs": [
    {
     "data": {
      "application/vnd.jupyter.widget-view+json": {
       "model_id": "815dff0c822847daace457b3a5b8d0c4",
       "version_major": 2,
       "version_minor": 0
      },
      "text/plain": [
       "interactive(children=(IntSlider(value=4, description='n', max=9), Output()), _dom_classes=('widget-interact',)…"
      ]
     },
     "metadata": {},
     "output_type": "display_data"
    }
   ],
   "source": [
    "#dominio\n",
    "x = np.linspace(-50, 50)\n",
    "\n",
    "\n",
    "@widgets.interact(n=(0, 9))\n",
    "def p(n):\n",
    "    y =  x**n #codominio con n variando entre 0 y 9\n",
    "    dibujo.plot(x, y)\n",
    "    dibujo.grid(True)\n",
    "    dibujo.show()\n"
   ]
  },
  {
   "cell_type": "markdown",
   "metadata": {
    "slideshow": {
     "slide_type": "slide"
    }
   },
   "source": [
    " ### <div class=\"alert alert-warning\">Desplazamientos verticales:</div>"
   ]
  },
  {
   "cell_type": "code",
   "execution_count": 44,
   "metadata": {
    "slideshow": {
     "slide_type": "slide"
    }
   },
   "outputs": [
    {
     "data": {
      "application/vnd.jupyter.widget-view+json": {
       "model_id": "91e77bfb85a44f998a19f486b56128a7",
       "version_major": 2,
       "version_minor": 0
      },
      "text/plain": [
       "interactive(children=(IntSlider(value=500, description='n', max=1000, step=250), Output()), _dom_classes=('wid…"
      ]
     },
     "metadata": {},
     "output_type": "display_data"
    }
   ],
   "source": [
    "x = np.linspace(-50, 50)\n",
    "\n",
    "\n",
    "@widgets.interact(n=(0, 1000,250))\n",
    "def p(n):\n",
    "    y = n+x**2\n",
    "    dibujo.plot(x, y)\n",
    "    dibujo.grid(True)\n",
    "    dibujo.show()\n"
   ]
  },
  {
   "cell_type": "markdown",
   "metadata": {
    "slideshow": {
     "slide_type": "slide"
    }
   },
   "source": [
    " ### <div class=\"alert alert-warning\">Desplazamientos horizontales:</div>"
   ]
  },
  {
   "cell_type": "code",
   "execution_count": 45,
   "metadata": {
    "slideshow": {
     "slide_type": "fragment"
    }
   },
   "outputs": [
    {
     "data": {
      "application/vnd.jupyter.widget-view+json": {
       "model_id": "081e97f02e3d48a19c2e2bd74e5494f1",
       "version_major": 2,
       "version_minor": 0
      },
      "text/plain": [
       "interactive(children=(IntSlider(value=0, description='n', max=20, min=-20), Output()), _dom_classes=('widget-i…"
      ]
     },
     "metadata": {},
     "output_type": "display_data"
    }
   ],
   "source": [
    "@widgets.interact(n=(-20, 20))\n",
    "def p(n):\n",
    "    x = np.linspace(n-50, n+50)\n",
    "    y = (x-n)**2\n",
    "    dibujo.plot(x, y)\n",
    "    dibujo.grid(True)\n",
    "    dibujo.show()\n"
   ]
  },
  {
   "cell_type": "code",
   "execution_count": 21,
   "metadata": {
    "scrolled": true,
    "slideshow": {
     "slide_type": "slide"
    }
   },
   "outputs": [
    {
     "data": {
      "image/png": "[encoded data removed]",
      "text/plain": [
       "<Figure size 720x576 with 1 Axes>"
      ]
     },
     "metadata": {
      "needs_background": "light"
     },
     "output_type": "display_data"
    }
   ],
   "source": [
    "x_2 = np.linspace(-5, 5)\n",
    "x_1_4 = np.linspace(-10, 10)\n",
    "x_4 = np.linspace(-2.5, 2.5)\n",
    "dibujo.figure(figsize=(10,8))\n",
    "dibujo.plot(x_2, x_2**2, linewidth=3, label='x^3')\n",
    "dibujo.plot(x_1_4, 1/4*x_1_4**2, linestyle='dashed' , linewidth=3, label='1/4*x^2')\n",
    "dibujo.plot(x_4, 4*x_4**2, linestyle='dotted' , linewidth=3, label='4*x^2')\n",
    "dibujo.legend()\n",
    "dibujo.grid(True)\n",
    "dibujo.show()"
   ]
  },
  {
   "cell_type": "code",
   "execution_count": 46,
   "metadata": {
    "scrolled": true,
    "slideshow": {
     "slide_type": "slide"
    }
   },
   "outputs": [
    {
     "data": {
      "application/vnd.jupyter.widget-view+json": {
       "model_id": "aad153ad363b43dcb09ed308f2669a87",
       "version_major": 2,
       "version_minor": 0
      },
      "text/plain": [
       "interactive(children=(IntSlider(value=3, description='grado', max=9), IntSlider(value=5, description='N_puntos…"
      ]
     },
     "metadata": {},
     "output_type": "display_data"
    }
   ],
   "source": [
    "@widgets.interact(grado=(0, 9), N_puntos=(5,35))\n",
    "def mi_plot(grado=3, N_puntos=5):    \n",
    "    x = np.linspace(-10, 10, N_puntos)\n",
    "    y = x**grado\n",
    "    dibujo.figure(figsize=(12,8))\n",
    "    dibujo.plot(x, y, 'ro-')\n",
    "    dibujo.grid(True)\n",
    "    dibujo.show()"
   ]
  },
  {
   "cell_type": "markdown",
   "metadata": {
    "slideshow": {
     "slide_type": "slide"
    }
   },
   "source": [
    "Estudiantes, nuevas inscriptas y egresadas mujeres de carreras\n",
    "de posgrado, según rama de estudios: [año 2018](https://www.argentina.gob.ar/sites/default/files/mujeres_en_el_sistema_universitario_argentino_-_estadisticas_2018-2019.pdf)"
   ]
  },
  {
   "cell_type": "code",
   "execution_count": 47,
   "metadata": {
    "slideshow": {
     "slide_type": "fragment"
    }
   },
   "outputs": [],
   "source": [
    "est_mujeres = [10512,4774,16232,22904,36700]\n",
    "eg_mujeres = [956,590,3362,1973,3360]"
   ]
  },
  {
   "cell_type": "code",
   "execution_count": 48,
   "metadata": {
    "slideshow": {
     "slide_type": "slide"
    }
   },
   "outputs": [
    {
     "data": {
      "image/png": "[encoded data removed]",
      "text/plain": [
       "<Figure size 432x288 with 1 Axes>"
      ]
     },
     "metadata": {},
     "output_type": "display_data"
    }
   ],
   "source": [
    "fig1, ax = plt.subplots()\n",
    "ax.set_title('Estudiantes 2018 según área de estudio')\n",
    "ax.axis('equal')\n",
    "etiquetas = ['Ciencias Aplicadas', 'Ciencias Básicas ', 'Ciencias de la Salud', 'Ciencias Humanas', 'Ciencias Sociales']\n",
    "ax.pie(est_mujeres, labels = etiquetas,autopct='%1.2f%%')\n",
    "dibujo.show()"
   ]
  },
  {
   "cell_type": "markdown",
   "metadata": {
    "slideshow": {
     "slide_type": "slide"
    }
   },
   "source": [
    "Matplotlib gráfico de torta:\n",
    "\n",
    "* [Ejemplos tutoriales](https://www.tutorialspoint.com/matplotlib/matplotlib_pie_chart.htm)\n",
    "* [Documentación](https://matplotlib.org/stable/gallery/pie_and_polar_charts/pie_features.html#sphx-glr-gallery-pie-and-polar-charts-pie-features-py)"
   ]
  },
  {
   "cell_type": "markdown",
   "metadata": {
    "slideshow": {
     "slide_type": "slide"
    }
   },
   "source": [
    "## ¿Cómo uso Jupyter Notebook como entorno de trabajo para mis clases?\n",
    "* Alternativas: local / VPS / binder / google colab\n",
    "* Almacenando en línea: github + otros\n",
    "* Módulos de contenido\n"
   ]
  },
  {
   "cell_type": "markdown",
   "metadata": {
    "slideshow": {
     "slide_type": "slide"
    }
   },
   "source": [
    "## ¿Cómo puedo usar el entorno Jupyter?\n",
    "* En mi computadora, de forma local.\n",
    "* En un servidor de la escuela.\n",
    "* Utilizando servicios en la nube:\n",
    "    * [Binder](https://mybinder.org/)\n",
    "    * Google colab"
   ]
  },
  {
   "cell_type": "markdown",
   "metadata": {
    "slideshow": {
     "slide_type": "slide"
    }
   },
   "source": [
    "### Uso del entorno en forma local\n",
    "   * Instalar la herramienta **pip** en nuestra computadora local. Guía en español de [pip](https://tecnonucleous.com/2018/01/28/como-instalar-pip-para-python-en-windows-mac-y-linux/).\n",
    "   * Opcional **recomendada**: Instalar [virtualenv](https://virtualenv.pypa.io/en/latest/). Guía en [español](https://rukbottoland.com/blog/tutorial-de-python-virtualenv/)\n",
    "   * Instalar [Jupyter](https://jupyter.org/install): \n",
    "```console\n",
    "$pip install jupyter\n",
    "   ```\n",
    "   * [Guía de uso de Jupyter](https://nbviewer.org/github/ipython-books/minibook-2nd-code/blob/master/chapter1/13-nbui.ipynb)\n",
    "   * [Comandos avanzados de Jupyter](https://nbviewer.org/github/ipython-books/minibook-2nd-code/blob/master/chapter1/15-ten.ipynb)\n",
    "   "
   ]
  },
  {
   "cell_type": "markdown",
   "metadata": {
    "slideshow": {
     "slide_type": "subslide"
    }
   },
   "source": [
    "* Ejecutar Jupyter\n",
    "* ¿En qué directorio? -> en el directorio donde tenemos nuestro proyecto\n",
    "* ¿Dónde? -> en una terminal o cmd\n",
    "\n",
    "```console\n",
    "       $jupyter notebook\n",
    "```\n",
    "       \n",
    "       \n",
    "<img src='images/jup-local.png' width=\"400\" height=\"400\"> "
   ]
  },
  {
   "cell_type": "markdown",
   "metadata": {
    "slideshow": {
     "slide_type": "subslide"
    }
   },
   "source": [
    "¿Qué puedo hacer en forma local?\n",
    "* Ejecución en el navegador:\n",
    "    * archivos locales en el directorio donde se ejecutó\n",
    "    * formato archivos:  extensión 'ipynb'\n",
    "* Cambiar nombre\n",
    "* Crear subcarpetas\n"
   ]
  },
  {
   "cell_type": "markdown",
   "metadata": {
    "slideshow": {
     "slide_type": "slide"
    }
   },
   "source": [
    "### En un servidor remoto\n",
    "* Instalar una versión de Jupyter que permite usar en forma remota: [JupyterHub](https://jupyter.org/hub)\n",
    "    * administración de usuarios\n",
    "    * espacio de trabajo propio para cada usuario\n",
    "    * control de los recursos\n",
    "    * instalación según la cantidad de usuarios\n",
    "    * versión para una instalación pequeña: [The Littlest JupyterHub](https://tljh.jupyter.org/en/latest/index.html)\n",
    "    * [video](https://www.youtube.com/watch?v=P8w0OtG2Rdw&ab_channel=YamilJaskolowski) tutorial de instalación.\n",
    "    * Ejemplo: servidor Universidad de Salta\n",
    "* Opción para utilizar almacenamiento remoto: \n",
    "    * VPS: Servidor Privado Virtual\n",
    "    * pago por uso\n",
    "    * máquina virtual remoto"
   ]
  },
  {
   "cell_type": "markdown",
   "metadata": {
    "slideshow": {
     "slide_type": "slide"
    }
   },
   "source": [
    "## Herramientas remotas en la nube\n",
    "* [Binder](https://mybinder.org/)\n",
    "    * ejecución de cuadernos Jupyter en la nube\n",
    "    * conexión con archvios de Jupyter de repositorios github\n",
    "\n",
    "    "
   ]
  },
  {
   "cell_type": "markdown",
   "metadata": {
    "slideshow": {
     "slide_type": "subslide"
    }
   },
   "source": [
    "* [Colab](https://colab.research.google.com/)\n",
    "    * creación de cuadernos Jupyter\n",
    "    * incluye algunas librerías, las más usadas de Python para este tipo de programas\n",
    "    * ejemplo de uso de Jupyter\n",
    "    * cargar archivos propios\n",
    "    * conexión con archivos en repositorios de github\n",
    "    * compartir\n",
    "    <img src='images/ejem-colab.png' width=\"400\" height=\"400\">\n",
    "    "
   ]
  },
  {
   "cell_type": "markdown",
   "metadata": {
    "slideshow": {
     "slide_type": "subslide"
    }
   },
   "source": [
    "* Ejemplos:\n",
    "\n",
    "    * [Matemática diferencial](https://colab.research.google.com/github/ageron/handson-ml2/blob/master/math_differential_calculus.ipynb)\n",
    "    * [Matplotlib](https://colab.research.google.com/github/ageron/handson-ml2/blob/master/tools_matplotlib.ipynb)"
   ]
  },
  {
   "cell_type": "markdown",
   "metadata": {
    "slideshow": {
     "slide_type": "slide"
    }
   },
   "source": [
    "# Desafío 2:\n",
    " * Acceder al archivo compartido en [colab](https://colab.research.google.com/drive/1vcYRNgKaX_sHffhgJK_4F0kFAx_QqI7s?usp=sharing) y generar una copia propia.\n",
    " * Realizar el ejercicio propuesto con Jupyter.\n",
    " * Compartir el documento."
   ]
  },
  {
   "cell_type": "markdown",
   "metadata": {
    "slideshow": {
     "slide_type": "slide"
    }
   },
   "source": [
    "### Almacenando en línea: github + otros"
   ]
  },
  {
   "cell_type": "markdown",
   "metadata": {
    "slideshow": {
     "slide_type": "subslide"
    }
   },
   "source": [
    "### Github\n",
    "**Características**\n",
    "* Repositorios de código \n",
    "* Trabaja con la herramietna **git**, la conocen?\n",
    "* Sitio abierto y público: https://github.com/\n",
    "* Copia en computadora local\n",
    "\n",
    "\n",
    "**Permite**\n",
    "* Trabajar en grupo\n",
    "* Compartir\n",
    "\n",
    "**¿Diferencia con Drive?**\n"
   ]
  },
  {
   "cell_type": "markdown",
   "metadata": {
    "slideshow": {
     "slide_type": "subslide"
    }
   },
   "source": [
    "### ¿Cómo lo uso?\n",
    "* Crear un usuario en [github](https://github.com/)\n",
    "* Configurar la clave [ssh](https://docs.github.com/en/authentication/connecting-to-github-with-ssh/generating-a-new-ssh-key-and-adding-it-to-the-ssh-agent)\n",
    "* Crear mi primer proyecto"
   ]
  },
  {
   "cell_type": "markdown",
   "metadata": {
    "slideshow": {
     "slide_type": "subslide"
    }
   },
   "source": [
    "Ejemplos de repositorios con Jupyter\n",
    "* [Introducción al lenguaje Python orientado a ingenierías y física](https://github.com/fiolj/intro-python-IB)\n",
    "* [Python científico](https://github.com/mgaitan/curso-python-cientifico)"
   ]
  },
  {
   "cell_type": "markdown",
   "metadata": {
    "slideshow": {
     "slide_type": "slide"
    }
   },
   "source": [
    "### Servicios similares a Github\n",
    "* [Gitlab](https://about.gitlab.com/)\n"
   ]
  },
  {
   "cell_type": "markdown",
   "metadata": {
    "slideshow": {
     "slide_type": "slide"
    }
   },
   "source": [
    "### ¿Cómo armo mi clase?\n",
    "* Cuadernos con autocontenido \n",
    "    * reutilizar\n",
    "    * ejemplos\n",
    "    * ejercicio\n",
    "    * un objetivo de conocimiento\n"
   ]
  },
  {
   "cell_type": "markdown",
   "metadata": {
    "slideshow": {
     "slide_type": "slide"
    }
   },
   "source": [
    "## Recursos multimedia en mi cuaderno:\n",
    "* video\n",
    "* Imagen\n",
    "* Gif\n"
   ]
  },
  {
   "cell_type": "code",
   "execution_count": 2,
   "metadata": {
    "slideshow": {
     "slide_type": "slide"
    }
   },
   "outputs": [
    {
     "data": {
      "image/jpeg": "[encoded data removed]",
      "text/html": [
       "\n",
       "        <iframe\n",
       "            width=\"800\"\n",
       "            height=\"600\"\n",
       "            src=\"https://www.youtube.com/embed/uIE-PpvS_Pw\"\n",
       "            frameborder=\"0\"\n",
       "            allowfullscreen\n",
       "            \n",
       "        ></iframe>\n",
       "        "
      ],
      "text/plain": [
       "<IPython.lib.display.YouTubeVideo at 0x7fafde08f520>"
      ]
     },
     "execution_count": 2,
     "metadata": {},
     "output_type": "execute_result"
    }
   ],
   "source": [
    "from IPython.display import YouTubeVideo\n",
    "\n",
    "\n",
    "YouTubeVideo('uIE-PpvS_Pw', width=800, height=600)"
   ]
  },
  {
   "cell_type": "markdown",
   "metadata": {
    "slideshow": {
     "slide_type": "slide"
    }
   },
   "source": [
    "![banner](images/banner.png)\n",
    "\n",
    "<img src='images/ejem-colab.png' width=\"400\" height=\"400\">"
   ]
  },
  {
   "cell_type": "markdown",
   "metadata": {
    "slideshow": {
     "slide_type": "slide"
    }
   },
   "source": [
    "* Generar - mostrar un gif"
   ]
  },
  {
   "cell_type": "code",
   "execution_count": 11,
   "metadata": {
    "slideshow": {
     "slide_type": "slide"
    }
   },
   "outputs": [],
   "source": [
    "import random\n",
    "from matplotlib import pyplot as plt\n",
    "import gif\n",
    "\n",
    "x = [random.randint(0, 100) for _ in range(100)]\n",
    "y = [random.randint(0, 100) for _ in range(100)]\n",
    "\n",
    "@gif.frame\n",
    "def plot(i):\n",
    "    xi = x[i*10:(i+1)*10]\n",
    "    yi = y[i*10:(i+1)*10]\n",
    "    plt.scatter(xi, yi)\n",
    "    plt.xlim((0, 100))\n",
    "    plt.ylim((0, 100))\n",
    "\n",
    "frames = []\n",
    "for i in range(10):\n",
    "    frame = plot(i)\n",
    "    frames.append(frame)\n",
    "\n",
    "gif.save(frames, 'example-gif-01.gif', duration=100)"
   ]
  },
  {
   "cell_type": "code",
   "execution_count": 12,
   "metadata": {
    "slideshow": {
     "slide_type": "slide"
    }
   },
   "outputs": [
    {
     "data": {
      "text/html": [
       "<img src=\"example-gif-01.gif\"/>"
      ],
      "text/plain": [
       "<IPython.core.display.Image object>"
      ]
     },
     "execution_count": 12,
     "metadata": {},
     "output_type": "execute_result"
    }
   ],
   "source": [
    "from IPython.display import Image\n",
    "Image(url='example-gif-01.gif')  "
   ]
  },
  {
   "cell_type": "code",
   "execution_count": null,
   "metadata": {},
   "outputs": [],
   "source": []
  }
 ],
 "metadata": {
  "celltoolbar": "Slideshow",
  "kernelspec": {
   "display_name": "Python 3 (ipykernel)",
   "language": "python",
   "name": "python3"
  },
  "language_info": {
   "codemirror_mode": {
    "name": "ipython",
    "version": 3
   },
   "file_extension": ".py",
   "mimetype": "text/x-python",
   "name": "python",
   "nbconvert_exporter": "python",
   "pygments_lexer": "ipython3",
   "version": "3.8.10"
  },
  "rise": {
   "autolaunch": false,
   "enable_chalkboard": false,
   "theme": "simple",
   "transition": "slide"
  }
 },
 "nbformat": 4,
 "nbformat_minor": 4
}
