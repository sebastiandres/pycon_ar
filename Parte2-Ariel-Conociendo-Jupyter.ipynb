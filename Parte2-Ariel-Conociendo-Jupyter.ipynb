{
 "cells": [
  {
   "cell_type": "markdown",
   "metadata": {
    "slideshow": {
     "slide_type": "slide"
    }
   },
   "source": [
    "![banner](images/banner.png)\n",
    "\n",
    "### Programar y Reprogramar Recursos para Docentes\n",
    "#### Fecha: 29 Octubre 2021, 15:00 a 17:00 (GMT -3hs)\n",
    "####  Sofía Martin, Ariel Ramos, Liliana Hurtado, Sebastián Flores"
   ]
  },
  {
   "cell_type": "markdown",
   "metadata": {
    "slideshow": {
     "slide_type": "slide"
    }
   },
   "source": [
    "### Parte 2 - Conociendo Jupyter\n",
    "\n",
    "**Expectativa**: Al final de esta sección de la charla, conocerán Jupyter y podrán editar texto y ejecutar celdas de código."
   ]
  },
  {
   "cell_type": "markdown",
   "metadata": {},
   "source": [
    "> La Tecnologia hoy en dia nos da una dinamica para llevar adelante los pocesos de enseñanza y Aprendizaje en Base a Proyectos o Desafios Tangibles (ABP - M.Conde)\n",
    "\n",
    "## 3 Componentes relacionados aplicados a un contenido por enseñar: \n",
    "\n",
    "### Lenguaje de Programacion + Entorno de Trabajo (FrameWork) + Infraestructura -> CONTENIDO a enseñar (Funcion principal)\n",
    "\n",
    "## Descartes: sepamos recorrer desde lo simple, hasta todo lo complejo que podamos llegar...\n",
    "\n",
    "Python + Project Jupyter + VPS (Servidor Virtual Privado) aplicados al contenido (Profesor o Maestro o el Experto en un tema)\n",
    "\n",
    "Links que siginifica cada uno\n",
    "\n",
    "Esta es la principal razon para trabajar en equipo, interdisciplinario\n",
    "\n",
    "> Esto es el porque del Proyecto\n",
    "\n",
    "Aplica tanto el Modo Remoto como Presencial\n",
    "\n",
    "Presentar el contexto del FrameWork: Barra de Menus, Barra de Herramientas...\n",
    "\n",
    "El BOTON LOGOUT\n",
    "La vista de inicio de la carpeta o lugar de trabajo: UPLOAD, DOWNLOAD, STOP, DELETE Dibujo Tacho de Basura, ShutDown\n",
    "\n",
    "Menu FILEs y RUNNIING\n",
    "\n",
    "CELDAS : Ambiente principal (Ejecutar, procesar, mostrar, interpretar, almacenar, escribir)\n",
    "\n",
    "Tipo de elementos que va en las CELDAS (MarkDown - ejemplos -, Links y Multimedia - ejemplos -, Codigo)\n",
    "\n",
    "Modo de CELDAS (Normal y RISE)\n",
    "\n",
    "Como ejecutar el contenido de una CELDA o darle Vida\n",
    "\n",
    "Informacion a tener en cuenta durante el trabajo con un Jupyter notebook o Notebook\n",
    "SHIFT+ENTER y por menu, Si esta habilitado el Modo RISE por el Boton de la barra de herramientas o bien si es un Grafico usar VOILa\n",
    "\n",
    "Ejecutar todas las celdas de arriba para abajo en un solo orden\n",
    "\n",
    "Ejecutar por grupos de celdas, tener en cuenta el orden de ejecucion (numeros al costado)\n",
    "\n",
    "repetir codigo en las celdas para no ejecutar desde el principio\n",
    "\n",
    "Poner,insertar Imagenes, JPG, GIF Animados. Links, Codigo para embeber Videos de YouTube, siempre debe estar habilitado el MODO MARKDOWN de las CELDAS\n",
    "\n",
    "\n",
    "\n",
    "\n",
    "\n",
    "\n"
   ]
  },
  {
   "cell_type": "code",
   "execution_count": null,
   "metadata": {},
   "outputs": [],
   "source": [
    "# Ejercicio de Ejemplo"
   ]
  },
  {
   "cell_type": "markdown",
   "metadata": {},
   "source": [
    "## Usando librerías en Jupyter\n",
    "\n",
    "También es posible usar librerías de Python en Jupyter. Para ello, basta importarlas como se haría normalmente en Python."
   ]
  },
  {
   "cell_type": "code",
   "execution_count": null,
   "metadata": {},
   "outputs": [],
   "source": [
    "import numpy as np"
   ]
  },
  {
   "cell_type": "markdown",
   "metadata": {},
   "source": [
    "Existen muchas herramientas de ayuda en Python/Jupyter:"
   ]
  },
  {
   "cell_type": "code",
   "execution_count": null,
   "metadata": {},
   "outputs": [],
   "source": [
    "# Obtener ayuda de la libreria\n",
    "help(np)"
   ]
  },
  {
   "cell_type": "code",
   "execution_count": null,
   "metadata": {},
   "outputs": [],
   "source": [
    "# Funciones en la librería\n",
    "dir(np)"
   ]
  },
  {
   "cell_type": "markdown",
   "metadata": {},
   "source": [
    "A continuación, a modo de ejemplo, usaremos la librería `numpy` y el método `linspace` para explicar el concepto de función, dominio y codominio y luego hacer su grafica."
   ]
  },
  {
   "cell_type": "code",
   "execution_count": null,
   "metadata": {},
   "outputs": [],
   "source": [
    "# Definimos el DOMINIO de una FUNCION\n",
    "N = 35\n",
    "x = np.linspace(-5, 5, N) # -5 limite inferior, 5 limite superior, N cantidad de puntos a generar"
   ]
  },
  {
   "cell_type": "code",
   "execution_count": null,
   "metadata": {},
   "outputs": [],
   "source": [
    "# Mostramos los valores\n",
    "print(x)"
   ]
  },
  {
   "cell_type": "code",
   "execution_count": null,
   "metadata": {},
   "outputs": [],
   "source": [
    "# Mostrar la cantidad de puntos en x\n",
    "print(len(x))"
   ]
  },
  {
   "cell_type": "code",
   "execution_count": null,
   "metadata": {},
   "outputs": [],
   "source": [
    "# Calculamos el CO-DOMINIO de una FUNCION\n",
    "#y = x ** 2\n",
    "y = np.sin(x)\n",
    "#y = np.cos(x)\n",
    "#y = np.tan(x)"
   ]
  },
  {
   "cell_type": "code",
   "execution_count": null,
   "metadata": {},
   "outputs": [],
   "source": [
    "# Mostramos los valores calculados\n",
    "print(y)"
   ]
  },
  {
   "cell_type": "code",
   "execution_count": null,
   "metadata": {},
   "outputs": [],
   "source": [
    "# Mostrar la cantidad de puntos en y\n",
    "print(len(y))"
   ]
  },
  {
   "cell_type": "code",
   "execution_count": null,
   "metadata": {},
   "outputs": [],
   "source": [
    "# Ayuda del método linspace de la librería numpy\n",
    "help(np.linspace)"
   ]
  },
  {
   "cell_type": "code",
   "execution_count": null,
   "metadata": {},
   "outputs": [],
   "source": [
    "## Graficamos los valores de X e Y con circulos \"o\" de color ROJO (red = r)\n",
    "## Usamos en metod PLOT (Dibujar) en matplotlib\n",
    "from matplotlib import pyplot as plt\n",
    "plt.plot(x, y, 'ro')"
   ]
  },
  {
   "cell_type": "code",
   "execution_count": null,
   "metadata": {},
   "outputs": [],
   "source": [
    "## Ahora agregamos o habilitamos la GRILLA en la Grafica con plt.grid(True)\n",
    "## Graficamos los valores de X e Y con circulos \"o\" de color CYAN (cyan = c)\n",
    "plt.grid(True)\n",
    "plt.plot(x, y, 'co')"
   ]
  },
  {
   "cell_type": "code",
   "execution_count": null,
   "metadata": {},
   "outputs": [],
   "source": [
    "## Graficamos los valores de X e Y con lineas \"-\" de color azul, blue en Ingles (blue = b)\n",
    "## Usamos en metod PLOT (Dibujar) con la Grilla habilitada: plt.grid(True)\n",
    "\n",
    "plt.grid(True)\n",
    "plt.plot(x, y, 'b-')"
   ]
  },
  {
   "cell_type": "code",
   "execution_count": null,
   "metadata": {},
   "outputs": [],
   "source": [
    "## Es posible evaluar y componer funciones\n",
    "plt.grid(True)\n",
    "z = ( np.sin(x) ) **2 \n",
    "plt.plot(x, z, '.-')"
   ]
  },
  {
   "cell_type": "markdown",
   "metadata": {},
   "source": [
    "## Contenido Opcional"
   ]
  },
  {
   "cell_type": "code",
   "execution_count": null,
   "metadata": {},
   "outputs": [],
   "source": [
    "import ipywidgets as widgets\n",
    "from ipywidgets import HBox, VBox\n",
    "from IPython.display import display"
   ]
  },
  {
   "cell_type": "code",
   "execution_count": null,
   "metadata": {},
   "outputs": [],
   "source": [
    "%matplotlib inline\n",
    "import numpy as np\n",
    "import matplotlib.pyplot as plt\n",
    "from scipy.special import jn\n",
    "x = np.linspace(0,5)\n",
    "\n",
    "\n",
    "@widgets.interact(n=(0, 10))\n",
    "def p(n):\n",
    "    f, ax = plt.subplots()\n",
    "    ax.plot(x, jn(x,n))\n",
    "    plt.show()"
   ]
  },
  {
   "cell_type": "code",
   "execution_count": null,
   "metadata": {},
   "outputs": [],
   "source": [
    "x = np.linspace(-50, 50)\n",
    "\n",
    "@widgets.interact(n=(0, 9))\n",
    "def p(n):\n",
    "    y = x**n\n",
    "    plt.plot(x, y)\n",
    "    plt.grid(True)\n",
    "    plt.show()"
   ]
  },
  {
   "cell_type": "code",
   "execution_count": null,
   "metadata": {},
   "outputs": [],
   "source": [
    "#plt.plot(x, y, 'ro')\n",
    "\n",
    "x = np.linspace(-50, 50, 35) #Dominio de la Funcion\n",
    "\n",
    "@widgets.interact(n=(0, 9)) #Variacion de manera interactiva en un parametro de la Funcion\n",
    "def p(n):\n",
    "    y = x**n #Codominio de la Funcion\n",
    "    plt.plot(x, y, 'ro') #Grafica en memoria\n",
    "    plt.grid(True)\n",
    "    plt.show()"
   ]
  },
  {
   "cell_type": "code",
   "execution_count": null,
   "metadata": {},
   "outputs": [],
   "source": [
    "%matplotlib inline\n",
    "import ipywidgets as widgets\n",
    "import numpy as np\n",
    "import matplotlib.pyplot as plt\n",
    "\n",
    "@widgets.interact(n=(0, 9), npoints=(5,35)) #Variacion de manera interactiva en un parametro de la Funcion y la cantidad de puntos\n",
    "def p(n, npoints):\n",
    "    x = np.linspace(-50, 50, npoints) #Dominio de la Funcion y agregamos la cantidad de puntos tambien, la cual varia tambien\n",
    "    y = x**n #Codominio de la Funcion\n",
    "    plt.plot(x, y, 'ro-') #Grafica en memoria\n",
    "    plt.grid(True)\n",
    "    plt.show()"
   ]
  }
 ],
 "metadata": {
  "celltoolbar": "Slideshow",
  "kernelspec": {
   "display_name": "Python 3",
   "language": "python",
   "name": "python3"
  },
  "language_info": {
   "codemirror_mode": {
    "name": "ipython",
    "version": 3
   },
   "file_extension": ".py",
   "mimetype": "text/x-python",
   "name": "python",
   "nbconvert_exporter": "python",
   "pygments_lexer": "ipython3",
   "version": "3.7.4"
  },
  "rise": {
   "autolaunch": false,
   "enable_chalkboard": false,
   "theme": "simple",
   "transition": "slide"
  }
 },
 "nbformat": 4,
 "nbformat_minor": 4
}
